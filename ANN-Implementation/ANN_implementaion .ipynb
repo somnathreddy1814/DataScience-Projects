{
 "cells": [
  {
   "cell_type": "code",
   "execution_count": 1,
   "metadata": {
    "colab": {
     "base_uri": "https://localhost:8080/"
    },
    "id": "ZaJmXSwNhX1y",
    "outputId": "ff1e2755-8113-4e8f-dbd6-20320f23d00c"
   },
   "outputs": [
    {
     "name": "stdout",
     "output_type": "stream",
     "text": [
      "jo\n"
     ]
    }
   ],
   "source": [
    "print('jo')"
   ]
  },
  {
   "cell_type": "code",
   "execution_count": 2,
   "metadata": {
    "colab": {
     "base_uri": "https://localhost:8080/"
    },
    "id": "X3swXlL3ieiJ",
    "outputId": "aa7efd4a-032c-488b-90c1-7a55641332aa"
   },
   "outputs": [
    {
     "name": "stdout",
     "output_type": "stream",
     "text": [
      "WARNING:tensorflow:From C:\\Users\\somna\\AppData\\Roaming\\Python\\Python310\\site-packages\\keras\\src\\losses.py:2976: The name tf.losses.sparse_softmax_cross_entropy is deprecated. Please use tf.compat.v1.losses.sparse_softmax_cross_entropy instead.\n",
      "\n",
      "2.15.0\n"
     ]
    }
   ],
   "source": [
    "import tensorflow as tf\n",
    "print(tf.__version__)"
   ]
  },
  {
   "cell_type": "code",
   "execution_count": 3,
   "metadata": {
    "id": "i37Vx1Of2HeC"
   },
   "outputs": [],
   "source": [
    "import numpy as np\n",
    "import matplotlib.pyplot as plt\n",
    "import pandas as pd\n"
   ]
  },
  {
   "cell_type": "code",
   "execution_count": 4,
   "metadata": {
    "colab": {
     "base_uri": "https://localhost:8080/",
     "height": 226
    },
    "id": "VWIj1gny3QvV",
    "outputId": "f95a354b-b949-47b1-bc56-577bc0c386f8"
   },
   "outputs": [
    {
     "data": {
      "text/html": [
       "<div>\n",
       "<style scoped>\n",
       "    .dataframe tbody tr th:only-of-type {\n",
       "        vertical-align: middle;\n",
       "    }\n",
       "\n",
       "    .dataframe tbody tr th {\n",
       "        vertical-align: top;\n",
       "    }\n",
       "\n",
       "    .dataframe thead th {\n",
       "        text-align: right;\n",
       "    }\n",
       "</style>\n",
       "<table border=\"1\" class=\"dataframe\">\n",
       "  <thead>\n",
       "    <tr style=\"text-align: right;\">\n",
       "      <th></th>\n",
       "      <th>RowNumber</th>\n",
       "      <th>CustomerId</th>\n",
       "      <th>Surname</th>\n",
       "      <th>CreditScore</th>\n",
       "      <th>Geography</th>\n",
       "      <th>Gender</th>\n",
       "      <th>Age</th>\n",
       "      <th>Tenure</th>\n",
       "      <th>Balance</th>\n",
       "      <th>NumOfProducts</th>\n",
       "      <th>HasCrCard</th>\n",
       "      <th>IsActiveMember</th>\n",
       "      <th>EstimatedSalary</th>\n",
       "      <th>Exited</th>\n",
       "    </tr>\n",
       "  </thead>\n",
       "  <tbody>\n",
       "    <tr>\n",
       "      <th>0</th>\n",
       "      <td>1</td>\n",
       "      <td>15634602</td>\n",
       "      <td>Hargrave</td>\n",
       "      <td>619</td>\n",
       "      <td>France</td>\n",
       "      <td>Female</td>\n",
       "      <td>42</td>\n",
       "      <td>2</td>\n",
       "      <td>0.00</td>\n",
       "      <td>1</td>\n",
       "      <td>1</td>\n",
       "      <td>1</td>\n",
       "      <td>101348.88</td>\n",
       "      <td>1</td>\n",
       "    </tr>\n",
       "    <tr>\n",
       "      <th>1</th>\n",
       "      <td>2</td>\n",
       "      <td>15647311</td>\n",
       "      <td>Hill</td>\n",
       "      <td>608</td>\n",
       "      <td>Spain</td>\n",
       "      <td>Female</td>\n",
       "      <td>41</td>\n",
       "      <td>1</td>\n",
       "      <td>83807.86</td>\n",
       "      <td>1</td>\n",
       "      <td>0</td>\n",
       "      <td>1</td>\n",
       "      <td>112542.58</td>\n",
       "      <td>0</td>\n",
       "    </tr>\n",
       "    <tr>\n",
       "      <th>2</th>\n",
       "      <td>3</td>\n",
       "      <td>15619304</td>\n",
       "      <td>Onio</td>\n",
       "      <td>502</td>\n",
       "      <td>France</td>\n",
       "      <td>Female</td>\n",
       "      <td>42</td>\n",
       "      <td>8</td>\n",
       "      <td>159660.80</td>\n",
       "      <td>3</td>\n",
       "      <td>1</td>\n",
       "      <td>0</td>\n",
       "      <td>113931.57</td>\n",
       "      <td>1</td>\n",
       "    </tr>\n",
       "    <tr>\n",
       "      <th>3</th>\n",
       "      <td>4</td>\n",
       "      <td>15701354</td>\n",
       "      <td>Boni</td>\n",
       "      <td>699</td>\n",
       "      <td>France</td>\n",
       "      <td>Female</td>\n",
       "      <td>39</td>\n",
       "      <td>1</td>\n",
       "      <td>0.00</td>\n",
       "      <td>2</td>\n",
       "      <td>0</td>\n",
       "      <td>0</td>\n",
       "      <td>93826.63</td>\n",
       "      <td>0</td>\n",
       "    </tr>\n",
       "    <tr>\n",
       "      <th>4</th>\n",
       "      <td>5</td>\n",
       "      <td>15737888</td>\n",
       "      <td>Mitchell</td>\n",
       "      <td>850</td>\n",
       "      <td>Spain</td>\n",
       "      <td>Female</td>\n",
       "      <td>43</td>\n",
       "      <td>2</td>\n",
       "      <td>125510.82</td>\n",
       "      <td>1</td>\n",
       "      <td>1</td>\n",
       "      <td>1</td>\n",
       "      <td>79084.10</td>\n",
       "      <td>0</td>\n",
       "    </tr>\n",
       "  </tbody>\n",
       "</table>\n",
       "</div>"
      ],
      "text/plain": [
       "   RowNumber  CustomerId   Surname  CreditScore Geography  Gender  Age  \\\n",
       "0          1    15634602  Hargrave          619    France  Female   42   \n",
       "1          2    15647311      Hill          608     Spain  Female   41   \n",
       "2          3    15619304      Onio          502    France  Female   42   \n",
       "3          4    15701354      Boni          699    France  Female   39   \n",
       "4          5    15737888  Mitchell          850     Spain  Female   43   \n",
       "\n",
       "   Tenure    Balance  NumOfProducts  HasCrCard  IsActiveMember  \\\n",
       "0       2       0.00              1          1               1   \n",
       "1       1   83807.86              1          0               1   \n",
       "2       8  159660.80              3          1               0   \n",
       "3       1       0.00              2          0               0   \n",
       "4       2  125510.82              1          1               1   \n",
       "\n",
       "   EstimatedSalary  Exited  \n",
       "0        101348.88       1  \n",
       "1        112542.58       0  \n",
       "2        113931.57       1  \n",
       "3         93826.63       0  \n",
       "4         79084.10       0  "
      ]
     },
     "execution_count": 4,
     "metadata": {},
     "output_type": "execute_result"
    }
   ],
   "source": [
    "dataset=pd.read_csv('Churn_Modelling.csv')\n",
    "dataset.head()"
   ]
  },
  {
   "cell_type": "code",
   "execution_count": 5,
   "metadata": {
    "id": "auy0CVgTAEbY"
   },
   "outputs": [],
   "source": [
    "x=dataset.iloc[:,3:13]\n",
    "y=dataset.iloc[:,13]"
   ]
  },
  {
   "cell_type": "code",
   "execution_count": 6,
   "metadata": {
    "colab": {
     "base_uri": "https://localhost:8080/",
     "height": 206
    },
    "id": "CfHxJoVlBAh6",
    "outputId": "b0452663-a882-493c-c1ac-f50005156758"
   },
   "outputs": [
    {
     "data": {
      "text/html": [
       "<div>\n",
       "<style scoped>\n",
       "    .dataframe tbody tr th:only-of-type {\n",
       "        vertical-align: middle;\n",
       "    }\n",
       "\n",
       "    .dataframe tbody tr th {\n",
       "        vertical-align: top;\n",
       "    }\n",
       "\n",
       "    .dataframe thead th {\n",
       "        text-align: right;\n",
       "    }\n",
       "</style>\n",
       "<table border=\"1\" class=\"dataframe\">\n",
       "  <thead>\n",
       "    <tr style=\"text-align: right;\">\n",
       "      <th></th>\n",
       "      <th>CreditScore</th>\n",
       "      <th>Geography</th>\n",
       "      <th>Gender</th>\n",
       "      <th>Age</th>\n",
       "      <th>Tenure</th>\n",
       "      <th>Balance</th>\n",
       "      <th>NumOfProducts</th>\n",
       "      <th>HasCrCard</th>\n",
       "      <th>IsActiveMember</th>\n",
       "      <th>EstimatedSalary</th>\n",
       "    </tr>\n",
       "  </thead>\n",
       "  <tbody>\n",
       "    <tr>\n",
       "      <th>0</th>\n",
       "      <td>619</td>\n",
       "      <td>France</td>\n",
       "      <td>Female</td>\n",
       "      <td>42</td>\n",
       "      <td>2</td>\n",
       "      <td>0.00</td>\n",
       "      <td>1</td>\n",
       "      <td>1</td>\n",
       "      <td>1</td>\n",
       "      <td>101348.88</td>\n",
       "    </tr>\n",
       "    <tr>\n",
       "      <th>1</th>\n",
       "      <td>608</td>\n",
       "      <td>Spain</td>\n",
       "      <td>Female</td>\n",
       "      <td>41</td>\n",
       "      <td>1</td>\n",
       "      <td>83807.86</td>\n",
       "      <td>1</td>\n",
       "      <td>0</td>\n",
       "      <td>1</td>\n",
       "      <td>112542.58</td>\n",
       "    </tr>\n",
       "    <tr>\n",
       "      <th>2</th>\n",
       "      <td>502</td>\n",
       "      <td>France</td>\n",
       "      <td>Female</td>\n",
       "      <td>42</td>\n",
       "      <td>8</td>\n",
       "      <td>159660.80</td>\n",
       "      <td>3</td>\n",
       "      <td>1</td>\n",
       "      <td>0</td>\n",
       "      <td>113931.57</td>\n",
       "    </tr>\n",
       "    <tr>\n",
       "      <th>3</th>\n",
       "      <td>699</td>\n",
       "      <td>France</td>\n",
       "      <td>Female</td>\n",
       "      <td>39</td>\n",
       "      <td>1</td>\n",
       "      <td>0.00</td>\n",
       "      <td>2</td>\n",
       "      <td>0</td>\n",
       "      <td>0</td>\n",
       "      <td>93826.63</td>\n",
       "    </tr>\n",
       "    <tr>\n",
       "      <th>4</th>\n",
       "      <td>850</td>\n",
       "      <td>Spain</td>\n",
       "      <td>Female</td>\n",
       "      <td>43</td>\n",
       "      <td>2</td>\n",
       "      <td>125510.82</td>\n",
       "      <td>1</td>\n",
       "      <td>1</td>\n",
       "      <td>1</td>\n",
       "      <td>79084.10</td>\n",
       "    </tr>\n",
       "  </tbody>\n",
       "</table>\n",
       "</div>"
      ],
      "text/plain": [
       "   CreditScore Geography  Gender  Age  Tenure    Balance  NumOfProducts  \\\n",
       "0          619    France  Female   42       2       0.00              1   \n",
       "1          608     Spain  Female   41       1   83807.86              1   \n",
       "2          502    France  Female   42       8  159660.80              3   \n",
       "3          699    France  Female   39       1       0.00              2   \n",
       "4          850     Spain  Female   43       2  125510.82              1   \n",
       "\n",
       "   HasCrCard  IsActiveMember  EstimatedSalary  \n",
       "0          1               1        101348.88  \n",
       "1          0               1        112542.58  \n",
       "2          1               0        113931.57  \n",
       "3          0               0         93826.63  \n",
       "4          1               1         79084.10  "
      ]
     },
     "execution_count": 6,
     "metadata": {},
     "output_type": "execute_result"
    }
   ],
   "source": [
    "x.head()"
   ]
  },
  {
   "cell_type": "code",
   "execution_count": 7,
   "metadata": {
    "id": "cPZpOZ80BGkD"
   },
   "outputs": [],
   "source": [
    "#feature engineering\n",
    "geography=pd.get_dummies(dataset['Geography'],drop_first=True)\n",
    "gender=pd.get_dummies(dataset['Gender'],drop_first=True)"
   ]
  },
  {
   "cell_type": "code",
   "execution_count": 8,
   "metadata": {
    "id": "bnnNpNhZEuvl"
   },
   "outputs": [],
   "source": [
    "x=x.drop(['Gender','Geography'],axis=1)"
   ]
  },
  {
   "cell_type": "code",
   "execution_count": 9,
   "metadata": {
    "colab": {
     "base_uri": "https://localhost:8080/",
     "height": 206
    },
    "id": "CaLUrj10GHEe",
    "outputId": "99c527d1-7291-43c7-fc3c-6dc09968c904"
   },
   "outputs": [
    {
     "data": {
      "text/html": [
       "<div>\n",
       "<style scoped>\n",
       "    .dataframe tbody tr th:only-of-type {\n",
       "        vertical-align: middle;\n",
       "    }\n",
       "\n",
       "    .dataframe tbody tr th {\n",
       "        vertical-align: top;\n",
       "    }\n",
       "\n",
       "    .dataframe thead th {\n",
       "        text-align: right;\n",
       "    }\n",
       "</style>\n",
       "<table border=\"1\" class=\"dataframe\">\n",
       "  <thead>\n",
       "    <tr style=\"text-align: right;\">\n",
       "      <th></th>\n",
       "      <th>CreditScore</th>\n",
       "      <th>Age</th>\n",
       "      <th>Tenure</th>\n",
       "      <th>Balance</th>\n",
       "      <th>NumOfProducts</th>\n",
       "      <th>HasCrCard</th>\n",
       "      <th>IsActiveMember</th>\n",
       "      <th>EstimatedSalary</th>\n",
       "    </tr>\n",
       "  </thead>\n",
       "  <tbody>\n",
       "    <tr>\n",
       "      <th>0</th>\n",
       "      <td>619</td>\n",
       "      <td>42</td>\n",
       "      <td>2</td>\n",
       "      <td>0.00</td>\n",
       "      <td>1</td>\n",
       "      <td>1</td>\n",
       "      <td>1</td>\n",
       "      <td>101348.88</td>\n",
       "    </tr>\n",
       "    <tr>\n",
       "      <th>1</th>\n",
       "      <td>608</td>\n",
       "      <td>41</td>\n",
       "      <td>1</td>\n",
       "      <td>83807.86</td>\n",
       "      <td>1</td>\n",
       "      <td>0</td>\n",
       "      <td>1</td>\n",
       "      <td>112542.58</td>\n",
       "    </tr>\n",
       "    <tr>\n",
       "      <th>2</th>\n",
       "      <td>502</td>\n",
       "      <td>42</td>\n",
       "      <td>8</td>\n",
       "      <td>159660.80</td>\n",
       "      <td>3</td>\n",
       "      <td>1</td>\n",
       "      <td>0</td>\n",
       "      <td>113931.57</td>\n",
       "    </tr>\n",
       "    <tr>\n",
       "      <th>3</th>\n",
       "      <td>699</td>\n",
       "      <td>39</td>\n",
       "      <td>1</td>\n",
       "      <td>0.00</td>\n",
       "      <td>2</td>\n",
       "      <td>0</td>\n",
       "      <td>0</td>\n",
       "      <td>93826.63</td>\n",
       "    </tr>\n",
       "    <tr>\n",
       "      <th>4</th>\n",
       "      <td>850</td>\n",
       "      <td>43</td>\n",
       "      <td>2</td>\n",
       "      <td>125510.82</td>\n",
       "      <td>1</td>\n",
       "      <td>1</td>\n",
       "      <td>1</td>\n",
       "      <td>79084.10</td>\n",
       "    </tr>\n",
       "  </tbody>\n",
       "</table>\n",
       "</div>"
      ],
      "text/plain": [
       "   CreditScore  Age  Tenure    Balance  NumOfProducts  HasCrCard  \\\n",
       "0          619   42       2       0.00              1          1   \n",
       "1          608   41       1   83807.86              1          0   \n",
       "2          502   42       8  159660.80              3          1   \n",
       "3          699   39       1       0.00              2          0   \n",
       "4          850   43       2  125510.82              1          1   \n",
       "\n",
       "   IsActiveMember  EstimatedSalary  \n",
       "0               1        101348.88  \n",
       "1               1        112542.58  \n",
       "2               0        113931.57  \n",
       "3               0         93826.63  \n",
       "4               1         79084.10  "
      ]
     },
     "execution_count": 9,
     "metadata": {},
     "output_type": "execute_result"
    }
   ],
   "source": [
    "x.head()"
   ]
  },
  {
   "cell_type": "code",
   "execution_count": 10,
   "metadata": {
    "id": "gy651M7OGPcM"
   },
   "outputs": [],
   "source": [
    "#now concat as we have removed those stuff\n",
    "x=pd.concat([x,geography,gender],axis=1)"
   ]
  },
  {
   "cell_type": "code",
   "execution_count": 11,
   "metadata": {
    "colab": {
     "base_uri": "https://localhost:8080/",
     "height": 226
    },
    "id": "17Q7B9fzGv3t",
    "outputId": "5e1ea18c-861b-4bac-b9d9-99aeeea2b169"
   },
   "outputs": [
    {
     "data": {
      "text/html": [
       "<div>\n",
       "<style scoped>\n",
       "    .dataframe tbody tr th:only-of-type {\n",
       "        vertical-align: middle;\n",
       "    }\n",
       "\n",
       "    .dataframe tbody tr th {\n",
       "        vertical-align: top;\n",
       "    }\n",
       "\n",
       "    .dataframe thead th {\n",
       "        text-align: right;\n",
       "    }\n",
       "</style>\n",
       "<table border=\"1\" class=\"dataframe\">\n",
       "  <thead>\n",
       "    <tr style=\"text-align: right;\">\n",
       "      <th></th>\n",
       "      <th>CreditScore</th>\n",
       "      <th>Age</th>\n",
       "      <th>Tenure</th>\n",
       "      <th>Balance</th>\n",
       "      <th>NumOfProducts</th>\n",
       "      <th>HasCrCard</th>\n",
       "      <th>IsActiveMember</th>\n",
       "      <th>EstimatedSalary</th>\n",
       "      <th>Germany</th>\n",
       "      <th>Spain</th>\n",
       "      <th>Male</th>\n",
       "    </tr>\n",
       "  </thead>\n",
       "  <tbody>\n",
       "    <tr>\n",
       "      <th>0</th>\n",
       "      <td>619</td>\n",
       "      <td>42</td>\n",
       "      <td>2</td>\n",
       "      <td>0.00</td>\n",
       "      <td>1</td>\n",
       "      <td>1</td>\n",
       "      <td>1</td>\n",
       "      <td>101348.88</td>\n",
       "      <td>0</td>\n",
       "      <td>0</td>\n",
       "      <td>0</td>\n",
       "    </tr>\n",
       "    <tr>\n",
       "      <th>1</th>\n",
       "      <td>608</td>\n",
       "      <td>41</td>\n",
       "      <td>1</td>\n",
       "      <td>83807.86</td>\n",
       "      <td>1</td>\n",
       "      <td>0</td>\n",
       "      <td>1</td>\n",
       "      <td>112542.58</td>\n",
       "      <td>0</td>\n",
       "      <td>1</td>\n",
       "      <td>0</td>\n",
       "    </tr>\n",
       "    <tr>\n",
       "      <th>2</th>\n",
       "      <td>502</td>\n",
       "      <td>42</td>\n",
       "      <td>8</td>\n",
       "      <td>159660.80</td>\n",
       "      <td>3</td>\n",
       "      <td>1</td>\n",
       "      <td>0</td>\n",
       "      <td>113931.57</td>\n",
       "      <td>0</td>\n",
       "      <td>0</td>\n",
       "      <td>0</td>\n",
       "    </tr>\n",
       "    <tr>\n",
       "      <th>3</th>\n",
       "      <td>699</td>\n",
       "      <td>39</td>\n",
       "      <td>1</td>\n",
       "      <td>0.00</td>\n",
       "      <td>2</td>\n",
       "      <td>0</td>\n",
       "      <td>0</td>\n",
       "      <td>93826.63</td>\n",
       "      <td>0</td>\n",
       "      <td>0</td>\n",
       "      <td>0</td>\n",
       "    </tr>\n",
       "    <tr>\n",
       "      <th>4</th>\n",
       "      <td>850</td>\n",
       "      <td>43</td>\n",
       "      <td>2</td>\n",
       "      <td>125510.82</td>\n",
       "      <td>1</td>\n",
       "      <td>1</td>\n",
       "      <td>1</td>\n",
       "      <td>79084.10</td>\n",
       "      <td>0</td>\n",
       "      <td>1</td>\n",
       "      <td>0</td>\n",
       "    </tr>\n",
       "  </tbody>\n",
       "</table>\n",
       "</div>"
      ],
      "text/plain": [
       "   CreditScore  Age  Tenure    Balance  NumOfProducts  HasCrCard  \\\n",
       "0          619   42       2       0.00              1          1   \n",
       "1          608   41       1   83807.86              1          0   \n",
       "2          502   42       8  159660.80              3          1   \n",
       "3          699   39       1       0.00              2          0   \n",
       "4          850   43       2  125510.82              1          1   \n",
       "\n",
       "   IsActiveMember  EstimatedSalary  Germany  Spain  Male  \n",
       "0               1        101348.88        0      0     0  \n",
       "1               1        112542.58        0      1     0  \n",
       "2               0        113931.57        0      0     0  \n",
       "3               0         93826.63        0      0     0  \n",
       "4               1         79084.10        0      1     0  "
      ]
     },
     "execution_count": 11,
     "metadata": {},
     "output_type": "execute_result"
    }
   ],
   "source": [
    "x.head()"
   ]
  },
  {
   "cell_type": "code",
   "execution_count": 12,
   "metadata": {
    "id": "bedKOrmvG1a4"
   },
   "outputs": [],
   "source": [
    "from sklearn.model_selection import train_test_split\n",
    "X_train, X_test, y_train, y_test =train_test_split(x,y,random_state=0,test_size=0.2)"
   ]
  },
  {
   "cell_type": "code",
   "execution_count": 13,
   "metadata": {
    "id": "f4Oj_YtCI0YQ"
   },
   "outputs": [],
   "source": [
    "from sklearn.preprocessing import StandardScaler\n",
    "sc=StandardScaler()\n",
    "X_train=sc.fit_transform(X_train)\n",
    "X_test=sc.transform(X_test)"
   ]
  },
  {
   "cell_type": "code",
   "execution_count": 14,
   "metadata": {
    "colab": {
     "base_uri": "https://localhost:8080/"
    },
    "id": "aJ8LZ9z9OrKg",
    "outputId": "fb1b76f2-c1ae-4f8e-a4e2-fc71a242e4a6"
   },
   "outputs": [
    {
     "data": {
      "text/plain": [
       "array([[ 0.16958176, -0.46460796,  0.00666099, ..., -0.5698444 ,\n",
       "         1.74309049, -1.09168714],\n",
       "       [-2.30455945,  0.30102557, -1.37744033, ...,  1.75486502,\n",
       "        -0.57369368,  0.91601335],\n",
       "       [-1.19119591, -0.94312892, -1.031415  , ..., -0.5698444 ,\n",
       "        -0.57369368, -1.09168714],\n",
       "       ...,\n",
       "       [ 0.9015152 , -0.36890377,  0.00666099, ..., -0.5698444 ,\n",
       "        -0.57369368,  0.91601335],\n",
       "       [-0.62420521, -0.08179119,  1.39076231, ..., -0.5698444 ,\n",
       "         1.74309049, -1.09168714],\n",
       "       [-0.28401079,  0.87525072, -1.37744033, ...,  1.75486502,\n",
       "        -0.57369368, -1.09168714]])"
      ]
     },
     "execution_count": 14,
     "metadata": {},
     "output_type": "execute_result"
    }
   ],
   "source": [
    "X_train"
   ]
  },
  {
   "cell_type": "code",
   "execution_count": 15,
   "metadata": {
    "colab": {
     "base_uri": "https://localhost:8080/"
    },
    "id": "Low47EivOxpu",
    "outputId": "a860d982-d4ca-4033-ba5b-3e1eb0b30048"
   },
   "outputs": [
    {
     "data": {
      "text/plain": [
       "array([[-0.55204276, -0.36890377,  1.04473698, ...,  1.75486502,\n",
       "        -0.57369368, -1.09168714],\n",
       "       [-1.31490297,  0.10961719, -1.031415  , ..., -0.5698444 ,\n",
       "        -0.57369368, -1.09168714],\n",
       "       [ 0.57162971,  0.30102557,  1.04473698, ..., -0.5698444 ,\n",
       "         1.74309049, -1.09168714],\n",
       "       ...,\n",
       "       [-0.74791227, -0.27319958, -1.37744033, ..., -0.5698444 ,\n",
       "         1.74309049,  0.91601335],\n",
       "       [-0.00566991, -0.46460796, -0.33936434, ...,  1.75486502,\n",
       "        -0.57369368,  0.91601335],\n",
       "       [-0.79945688, -0.84742473,  1.04473698, ...,  1.75486502,\n",
       "        -0.57369368,  0.91601335]])"
      ]
     },
     "execution_count": 15,
     "metadata": {},
     "output_type": "execute_result"
    }
   ],
   "source": [
    "X_test"
   ]
  },
  {
   "cell_type": "code",
   "execution_count": 16,
   "metadata": {
    "colab": {
     "base_uri": "https://localhost:8080/"
    },
    "id": "tsTdfbr8RNU0",
    "outputId": "640f1101-753e-4953-8c6d-481a1ebfd506"
   },
   "outputs": [
    {
     "data": {
      "text/plain": [
       "(8000, 11)"
      ]
     },
     "execution_count": 16,
     "metadata": {},
     "output_type": "execute_result"
    }
   ],
   "source": [
    "X_train.shape"
   ]
  },
  {
   "cell_type": "code",
   "execution_count": 17,
   "metadata": {
    "id": "oXoB6Jw5R6ms"
   },
   "outputs": [],
   "source": [
    "#now creating ANN\n",
    "from tensorflow.keras.models import Sequential\n",
    "from tensorflow.keras.layers import Dense\n",
    "from tensorflow.keras.layers import ReLU,ELU,LeakyReLU,PReLU\n",
    "from tensorflow.keras.layers import Dropout"
   ]
  },
  {
   "cell_type": "code",
   "execution_count": 18,
   "metadata": {
    "id": "t9JO5mmSX7n3"
   },
   "outputs": [
    {
     "name": "stdout",
     "output_type": "stream",
     "text": [
      "WARNING:tensorflow:From C:\\Users\\somna\\AppData\\Roaming\\Python\\Python310\\site-packages\\keras\\src\\backend.py:873: The name tf.get_default_graph is deprecated. Please use tf.compat.v1.get_default_graph instead.\n",
      "\n"
     ]
    }
   ],
   "source": [
    "classifier=Sequential()"
   ]
  },
  {
   "cell_type": "code",
   "execution_count": 19,
   "metadata": {
    "id": "aU6Q6vofw5RD"
   },
   "outputs": [],
   "source": [
    "#adding input layer\n",
    "classifier.add(Dense(units=11,activation='relu'))\n",
    "classifier.add(Dropout(0.2))"
   ]
  },
  {
   "cell_type": "code",
   "execution_count": 20,
   "metadata": {
    "id": "F1jJfFuJyOPc"
   },
   "outputs": [],
   "source": [
    "#adding hidden layer-1\n",
    "classifier.add(Dense(units=7,activation='relu'))\n",
    "classifier.add(Dropout(0.3))"
   ]
  },
  {
   "cell_type": "code",
   "execution_count": 21,
   "metadata": {
    "id": "0RNjvc9pyTvJ"
   },
   "outputs": [],
   "source": [
    "#adding hidden layer-2\n",
    "classifier.add(Dense(units=6,activation='relu'))\n",
    "classifier.add(Dropout(0.2))"
   ]
  },
  {
   "cell_type": "code",
   "execution_count": 22,
   "metadata": {
    "id": "gpSun_jxygyP"
   },
   "outputs": [],
   "source": [
    "#adding output layer\n",
    "classifier.add(Dense(units=1,activation='sigmoid'))\n",
    "classifier.add(Dropout(0.2))"
   ]
  },
  {
   "cell_type": "code",
   "execution_count": 23,
   "metadata": {
    "id": "7ddncp1typwL"
   },
   "outputs": [
    {
     "name": "stdout",
     "output_type": "stream",
     "text": [
      "WARNING:tensorflow:From C:\\Users\\somna\\AppData\\Roaming\\Python\\Python310\\site-packages\\keras\\src\\optimizers\\__init__.py:309: The name tf.train.Optimizer is deprecated. Please use tf.compat.v1.train.Optimizer instead.\n",
      "\n"
     ]
    }
   ],
   "source": [
    "classifier.compile(optimizer='adam',loss='binary_crossentropy',metrics=['accuracy'])"
   ]
  },
  {
   "cell_type": "code",
   "execution_count": 24,
   "metadata": {
    "id": "PO3cCMgiziKY"
   },
   "outputs": [],
   "source": [
    "import tensorflow\n",
    "opt=tensorflow.keras.optimizers.Adam(learning_rate=0.01)\n",
    "#we can keep optimizer=opt"
   ]
  },
  {
   "cell_type": "code",
   "execution_count": 25,
   "metadata": {
    "colab": {
     "base_uri": "https://localhost:8080/"
    },
    "id": "XuR14LHQzzJd",
    "outputId": "344b378f-72f9-40c9-9bc7-c7da1db73df8"
   },
   "outputs": [
    {
     "name": "stdout",
     "output_type": "stream",
     "text": [
      "Epoch 1/100\n",
      "WARNING:tensorflow:From C:\\Users\\somna\\AppData\\Roaming\\Python\\Python310\\site-packages\\keras\\src\\utils\\tf_utils.py:492: The name tf.ragged.RaggedTensorValue is deprecated. Please use tf.compat.v1.ragged.RaggedTensorValue instead.\n",
      "\n",
      "WARNING:tensorflow:From C:\\Users\\somna\\AppData\\Roaming\\Python\\Python310\\site-packages\\keras\\src\\engine\\base_layer_utils.py:384: The name tf.executing_eagerly_outside_functions is deprecated. Please use tf.compat.v1.executing_eagerly_outside_functions instead.\n",
      "\n",
      "536/536 [==============================] - 2s 2ms/step - loss: 1.0904 - accuracy: 0.7182 - val_loss: 0.4818 - val_accuracy: 0.7955\n",
      "Epoch 2/100\n",
      "536/536 [==============================] - 1s 2ms/step - loss: 0.9900 - accuracy: 0.7938 - val_loss: 0.4669 - val_accuracy: 0.7955\n",
      "Epoch 3/100\n",
      "536/536 [==============================] - 1s 2ms/step - loss: 1.0518 - accuracy: 0.7959 - val_loss: 0.4568 - val_accuracy: 0.7955\n",
      "Epoch 4/100\n",
      "536/536 [==============================] - 1s 2ms/step - loss: 0.9990 - accuracy: 0.7960 - val_loss: 0.4518 - val_accuracy: 0.7955\n",
      "Epoch 5/100\n",
      "536/536 [==============================] - 1s 2ms/step - loss: 1.0214 - accuracy: 0.7959 - val_loss: 0.4504 - val_accuracy: 0.7955\n",
      "Epoch 6/100\n",
      "536/536 [==============================] - 1s 2ms/step - loss: 0.9242 - accuracy: 0.7959 - val_loss: 0.4464 - val_accuracy: 0.7955\n",
      "Epoch 7/100\n",
      "536/536 [==============================] - 1s 2ms/step - loss: 0.9516 - accuracy: 0.7962 - val_loss: 0.4421 - val_accuracy: 0.7955\n",
      "Epoch 8/100\n",
      "536/536 [==============================] - 1s 2ms/step - loss: 1.0458 - accuracy: 0.7962 - val_loss: 0.4377 - val_accuracy: 0.7955\n",
      "Epoch 9/100\n",
      "536/536 [==============================] - 1s 2ms/step - loss: 0.9791 - accuracy: 0.7962 - val_loss: 0.4332 - val_accuracy: 0.7955\n",
      "Epoch 10/100\n",
      "536/536 [==============================] - 1s 2ms/step - loss: 0.9428 - accuracy: 0.7962 - val_loss: 0.4290 - val_accuracy: 0.7955\n",
      "Epoch 11/100\n",
      "536/536 [==============================] - 1s 2ms/step - loss: 0.9394 - accuracy: 0.7962 - val_loss: 0.4244 - val_accuracy: 0.7955\n",
      "Epoch 12/100\n",
      "536/536 [==============================] - 1s 2ms/step - loss: 0.9494 - accuracy: 0.7962 - val_loss: 0.4195 - val_accuracy: 0.7955\n",
      "Epoch 13/100\n",
      "536/536 [==============================] - 1s 2ms/step - loss: 0.9383 - accuracy: 0.7962 - val_loss: 0.4165 - val_accuracy: 0.7955\n",
      "Epoch 14/100\n",
      "536/536 [==============================] - 1s 2ms/step - loss: 0.9143 - accuracy: 0.7962 - val_loss: 0.4144 - val_accuracy: 0.7955\n",
      "Epoch 15/100\n",
      "536/536 [==============================] - 1s 2ms/step - loss: 0.9951 - accuracy: 0.7962 - val_loss: 0.4096 - val_accuracy: 0.7955\n",
      "Epoch 16/100\n",
      "536/536 [==============================] - 1s 2ms/step - loss: 0.9076 - accuracy: 0.7962 - val_loss: 0.4073 - val_accuracy: 0.7955\n",
      "Epoch 17/100\n",
      "536/536 [==============================] - 1s 2ms/step - loss: 1.0611 - accuracy: 0.7962 - val_loss: 0.4089 - val_accuracy: 0.7955\n",
      "Epoch 18/100\n",
      "536/536 [==============================] - 1s 2ms/step - loss: 0.9876 - accuracy: 0.7962 - val_loss: 0.4041 - val_accuracy: 0.7955\n",
      "Epoch 19/100\n",
      "536/536 [==============================] - 1s 2ms/step - loss: 0.9245 - accuracy: 0.7962 - val_loss: 0.4047 - val_accuracy: 0.7955\n",
      "Epoch 20/100\n",
      "536/536 [==============================] - 1s 2ms/step - loss: 1.0033 - accuracy: 0.8035 - val_loss: 0.4010 - val_accuracy: 0.7955\n",
      "Epoch 21/100\n",
      "536/536 [==============================] - 1s 2ms/step - loss: 0.9586 - accuracy: 0.8210 - val_loss: 0.3996 - val_accuracy: 0.7955\n",
      "Epoch 22/100\n",
      "536/536 [==============================] - 1s 2ms/step - loss: 0.9583 - accuracy: 0.8298 - val_loss: 0.3985 - val_accuracy: 0.7955\n",
      "Epoch 23/100\n",
      "536/536 [==============================] - 1s 2ms/step - loss: 0.9410 - accuracy: 0.8322 - val_loss: 0.3961 - val_accuracy: 0.7955\n",
      "Epoch 24/100\n",
      "536/536 [==============================] - 1s 2ms/step - loss: 0.9717 - accuracy: 0.8283 - val_loss: 0.3950 - val_accuracy: 0.7955\n",
      "Epoch 25/100\n",
      "536/536 [==============================] - 1s 2ms/step - loss: 0.9701 - accuracy: 0.8306 - val_loss: 0.3939 - val_accuracy: 0.7955\n",
      "Epoch 26/100\n",
      "536/536 [==============================] - 1s 2ms/step - loss: 0.8805 - accuracy: 0.8304 - val_loss: 0.3950 - val_accuracy: 0.7955\n",
      "Epoch 27/100\n",
      "536/536 [==============================] - 1s 2ms/step - loss: 0.9726 - accuracy: 0.8280 - val_loss: 0.3949 - val_accuracy: 0.7955\n",
      "Epoch 28/100\n",
      "536/536 [==============================] - 1s 2ms/step - loss: 0.9129 - accuracy: 0.8287 - val_loss: 0.3925 - val_accuracy: 0.7955\n",
      "Epoch 29/100\n",
      "536/536 [==============================] - 1s 2ms/step - loss: 1.0201 - accuracy: 0.8302 - val_loss: 0.3917 - val_accuracy: 0.7955\n",
      "Epoch 30/100\n",
      "536/536 [==============================] - 1s 2ms/step - loss: 0.9762 - accuracy: 0.8332 - val_loss: 0.3915 - val_accuracy: 0.7955\n",
      "Epoch 31/100\n",
      "536/536 [==============================] - 1s 2ms/step - loss: 0.9218 - accuracy: 0.8321 - val_loss: 0.3919 - val_accuracy: 0.7955\n",
      "Epoch 32/100\n",
      "536/536 [==============================] - 1s 2ms/step - loss: 0.9435 - accuracy: 0.8337 - val_loss: 0.3936 - val_accuracy: 0.7955\n",
      "Epoch 33/100\n",
      "536/536 [==============================] - 1s 2ms/step - loss: 0.9471 - accuracy: 0.8330 - val_loss: 0.3899 - val_accuracy: 0.7955\n",
      "Epoch 34/100\n",
      "536/536 [==============================] - 1s 2ms/step - loss: 0.9616 - accuracy: 0.8345 - val_loss: 0.3887 - val_accuracy: 0.7955\n",
      "Epoch 35/100\n",
      "536/536 [==============================] - 1s 2ms/step - loss: 0.9744 - accuracy: 0.8337 - val_loss: 0.3883 - val_accuracy: 0.7955\n",
      "Epoch 36/100\n",
      "536/536 [==============================] - 1s 2ms/step - loss: 0.9530 - accuracy: 0.8300 - val_loss: 0.3888 - val_accuracy: 0.7955\n",
      "Epoch 37/100\n",
      "536/536 [==============================] - 1s 2ms/step - loss: 0.9859 - accuracy: 0.8322 - val_loss: 0.3888 - val_accuracy: 0.7955\n",
      "Epoch 38/100\n",
      "536/536 [==============================] - 1s 2ms/step - loss: 0.9939 - accuracy: 0.8281 - val_loss: 0.3902 - val_accuracy: 0.7955\n",
      "Epoch 39/100\n",
      "536/536 [==============================] - 1s 2ms/step - loss: 0.9003 - accuracy: 0.8388 - val_loss: 0.3877 - val_accuracy: 0.7955\n",
      "Epoch 40/100\n",
      "536/536 [==============================] - 1s 2ms/step - loss: 0.9641 - accuracy: 0.8317 - val_loss: 0.3891 - val_accuracy: 0.7955\n",
      "Epoch 41/100\n",
      "536/536 [==============================] - 1s 2ms/step - loss: 0.9489 - accuracy: 0.8308 - val_loss: 0.3925 - val_accuracy: 0.7955\n",
      "Epoch 42/100\n",
      "536/536 [==============================] - 1s 2ms/step - loss: 0.9412 - accuracy: 0.8315 - val_loss: 0.3907 - val_accuracy: 0.7955\n",
      "Epoch 43/100\n",
      "536/536 [==============================] - 1s 2ms/step - loss: 0.9240 - accuracy: 0.8328 - val_loss: 0.3881 - val_accuracy: 0.7955\n",
      "Epoch 44/100\n",
      "536/536 [==============================] - 1s 2ms/step - loss: 0.9033 - accuracy: 0.8349 - val_loss: 0.3870 - val_accuracy: 0.7955\n",
      "Epoch 45/100\n",
      "536/536 [==============================] - 1s 2ms/step - loss: 0.9665 - accuracy: 0.8350 - val_loss: 0.3874 - val_accuracy: 0.7955\n",
      "Epoch 46/100\n",
      "536/536 [==============================] - 1s 2ms/step - loss: 0.9512 - accuracy: 0.8302 - val_loss: 0.3896 - val_accuracy: 0.7955\n",
      "Epoch 47/100\n",
      "536/536 [==============================] - 1s 2ms/step - loss: 0.9289 - accuracy: 0.8283 - val_loss: 0.3897 - val_accuracy: 0.7955\n",
      "Epoch 48/100\n",
      "536/536 [==============================] - 1s 3ms/step - loss: 0.9546 - accuracy: 0.8362 - val_loss: 0.3905 - val_accuracy: 0.7955\n",
      "Epoch 49/100\n",
      "536/536 [==============================] - 2s 3ms/step - loss: 0.9529 - accuracy: 0.8399 - val_loss: 0.3875 - val_accuracy: 0.7955\n",
      "Epoch 50/100\n",
      "536/536 [==============================] - 1s 2ms/step - loss: 0.9704 - accuracy: 0.8377 - val_loss: 0.3880 - val_accuracy: 0.7955\n",
      "Epoch 51/100\n",
      "536/536 [==============================] - 1s 2ms/step - loss: 0.8965 - accuracy: 0.8285 - val_loss: 0.3870 - val_accuracy: 0.7955\n",
      "Epoch 52/100\n",
      "536/536 [==============================] - 1s 2ms/step - loss: 0.9441 - accuracy: 0.8309 - val_loss: 0.3892 - val_accuracy: 0.7955\n",
      "Epoch 53/100\n",
      "536/536 [==============================] - 1s 2ms/step - loss: 0.9526 - accuracy: 0.8317 - val_loss: 0.3896 - val_accuracy: 0.7955\n",
      "Epoch 54/100\n"
     ]
    },
    {
     "name": "stdout",
     "output_type": "stream",
     "text": [
      "536/536 [==============================] - 1s 3ms/step - loss: 0.8965 - accuracy: 0.8280 - val_loss: 0.3873 - val_accuracy: 0.7955\n",
      "Epoch 55/100\n",
      "536/536 [==============================] - 1s 2ms/step - loss: 1.0101 - accuracy: 0.8313 - val_loss: 0.3886 - val_accuracy: 0.7955\n",
      "Epoch 56/100\n",
      "536/536 [==============================] - 1s 2ms/step - loss: 0.9089 - accuracy: 0.8283 - val_loss: 0.3888 - val_accuracy: 0.7955\n",
      "Epoch 57/100\n",
      "536/536 [==============================] - 1s 2ms/step - loss: 0.8444 - accuracy: 0.8349 - val_loss: 0.3911 - val_accuracy: 0.7955\n",
      "Epoch 58/100\n",
      "536/536 [==============================] - 1s 2ms/step - loss: 0.8713 - accuracy: 0.8354 - val_loss: 0.3899 - val_accuracy: 0.7955\n",
      "Epoch 59/100\n",
      "536/536 [==============================] - 1s 2ms/step - loss: 0.9395 - accuracy: 0.8350 - val_loss: 0.3880 - val_accuracy: 0.7955\n",
      "Epoch 60/100\n",
      "536/536 [==============================] - 1s 2ms/step - loss: 0.9838 - accuracy: 0.8322 - val_loss: 0.3893 - val_accuracy: 0.7955\n",
      "Epoch 61/100\n",
      "536/536 [==============================] - 1s 2ms/step - loss: 0.9205 - accuracy: 0.8294 - val_loss: 0.3881 - val_accuracy: 0.7955\n",
      "Epoch 62/100\n",
      "536/536 [==============================] - 1s 2ms/step - loss: 0.9929 - accuracy: 0.8328 - val_loss: 0.3880 - val_accuracy: 0.7955\n",
      "Epoch 63/100\n",
      "536/536 [==============================] - 1s 2ms/step - loss: 0.9437 - accuracy: 0.8315 - val_loss: 0.3898 - val_accuracy: 0.7955\n",
      "Epoch 64/100\n",
      "536/536 [==============================] - 1s 2ms/step - loss: 0.9164 - accuracy: 0.8369 - val_loss: 0.3940 - val_accuracy: 0.7955\n",
      "Epoch 65/100\n",
      "536/536 [==============================] - 1s 2ms/step - loss: 0.9020 - accuracy: 0.8285 - val_loss: 0.3866 - val_accuracy: 0.7955\n",
      "Epoch 66/100\n",
      "536/536 [==============================] - 1s 2ms/step - loss: 0.9485 - accuracy: 0.8337 - val_loss: 0.3869 - val_accuracy: 0.7955\n",
      "Epoch 67/100\n",
      "536/536 [==============================] - 1s 2ms/step - loss: 1.0118 - accuracy: 0.8263 - val_loss: 0.3874 - val_accuracy: 0.7955\n",
      "Epoch 68/100\n",
      "536/536 [==============================] - 1s 2ms/step - loss: 0.9758 - accuracy: 0.8337 - val_loss: 0.3871 - val_accuracy: 0.7955\n",
      "Epoch 69/100\n",
      "536/536 [==============================] - 1s 2ms/step - loss: 1.0158 - accuracy: 0.8354 - val_loss: 0.3889 - val_accuracy: 0.7955\n",
      "Epoch 70/100\n",
      "536/536 [==============================] - 1s 2ms/step - loss: 0.9789 - accuracy: 0.8270 - val_loss: 0.3880 - val_accuracy: 0.7955\n",
      "Epoch 71/100\n",
      "536/536 [==============================] - 1s 2ms/step - loss: 0.9550 - accuracy: 0.8345 - val_loss: 0.3857 - val_accuracy: 0.7955\n",
      "Epoch 72/100\n",
      "536/536 [==============================] - 1s 2ms/step - loss: 0.9520 - accuracy: 0.8358 - val_loss: 0.3938 - val_accuracy: 0.7955\n",
      "Epoch 73/100\n",
      "536/536 [==============================] - 1s 2ms/step - loss: 0.9318 - accuracy: 0.8382 - val_loss: 0.3852 - val_accuracy: 0.7955\n",
      "Epoch 74/100\n",
      "536/536 [==============================] - 1s 2ms/step - loss: 0.9688 - accuracy: 0.8326 - val_loss: 0.3876 - val_accuracy: 0.7955\n",
      "Epoch 75/100\n",
      "536/536 [==============================] - 1s 2ms/step - loss: 0.9897 - accuracy: 0.8350 - val_loss: 0.3870 - val_accuracy: 0.7955\n",
      "Epoch 76/100\n",
      "536/536 [==============================] - 1s 2ms/step - loss: 0.9369 - accuracy: 0.8322 - val_loss: 0.3862 - val_accuracy: 0.7955\n",
      "Epoch 77/100\n",
      "536/536 [==============================] - 1s 2ms/step - loss: 1.0245 - accuracy: 0.8315 - val_loss: 0.3880 - val_accuracy: 0.7955\n",
      "Epoch 78/100\n",
      "536/536 [==============================] - 1s 2ms/step - loss: 0.9433 - accuracy: 0.8339 - val_loss: 0.3873 - val_accuracy: 0.7955\n",
      "Epoch 79/100\n",
      "536/536 [==============================] - 1s 2ms/step - loss: 0.9962 - accuracy: 0.8375 - val_loss: 0.3882 - val_accuracy: 0.7955\n",
      "Epoch 80/100\n",
      "536/536 [==============================] - 1s 2ms/step - loss: 0.9225 - accuracy: 0.8330 - val_loss: 0.3893 - val_accuracy: 0.7955\n",
      "Epoch 81/100\n",
      "536/536 [==============================] - 1s 2ms/step - loss: 1.0201 - accuracy: 0.8384 - val_loss: 0.3855 - val_accuracy: 0.7955\n",
      "Epoch 82/100\n",
      "536/536 [==============================] - 1s 2ms/step - loss: 0.8822 - accuracy: 0.8365 - val_loss: 0.3878 - val_accuracy: 0.7955\n",
      "Epoch 83/100\n",
      "536/536 [==============================] - 1s 2ms/step - loss: 0.9199 - accuracy: 0.8322 - val_loss: 0.3833 - val_accuracy: 0.7955\n",
      "Epoch 84/100\n",
      "536/536 [==============================] - 1s 2ms/step - loss: 0.9492 - accuracy: 0.8291 - val_loss: 0.3849 - val_accuracy: 0.7955\n",
      "Epoch 85/100\n",
      "536/536 [==============================] - 1s 2ms/step - loss: 1.0276 - accuracy: 0.8280 - val_loss: 0.3838 - val_accuracy: 0.7955\n",
      "Epoch 86/100\n",
      "536/536 [==============================] - 1s 2ms/step - loss: 0.9794 - accuracy: 0.8373 - val_loss: 0.3872 - val_accuracy: 0.7955\n",
      "Epoch 87/100\n",
      "536/536 [==============================] - 1s 3ms/step - loss: 0.9441 - accuracy: 0.8354 - val_loss: 0.3844 - val_accuracy: 0.7955\n",
      "Epoch 88/100\n",
      "536/536 [==============================] - 1s 2ms/step - loss: 0.9551 - accuracy: 0.8334 - val_loss: 0.3832 - val_accuracy: 0.7955\n",
      "Epoch 89/100\n",
      "536/536 [==============================] - 1s 2ms/step - loss: 0.9979 - accuracy: 0.8309 - val_loss: 0.3841 - val_accuracy: 0.7955\n",
      "Epoch 90/100\n",
      "536/536 [==============================] - 1s 2ms/step - loss: 0.9153 - accuracy: 0.8369 - val_loss: 0.3839 - val_accuracy: 0.7955\n",
      "Epoch 91/100\n",
      "536/536 [==============================] - 1s 2ms/step - loss: 0.8842 - accuracy: 0.8382 - val_loss: 0.3833 - val_accuracy: 0.7955\n",
      "Epoch 92/100\n",
      "536/536 [==============================] - 1s 2ms/step - loss: 0.9512 - accuracy: 0.8339 - val_loss: 0.3846 - val_accuracy: 0.7955\n",
      "Epoch 93/100\n",
      "536/536 [==============================] - 1s 2ms/step - loss: 0.8697 - accuracy: 0.8347 - val_loss: 0.3850 - val_accuracy: 0.7955\n",
      "Epoch 94/100\n",
      "536/536 [==============================] - 1s 2ms/step - loss: 0.9322 - accuracy: 0.8375 - val_loss: 0.3821 - val_accuracy: 0.7955\n",
      "Epoch 95/100\n",
      "536/536 [==============================] - 1s 2ms/step - loss: 0.9460 - accuracy: 0.8356 - val_loss: 0.3829 - val_accuracy: 0.7955\n",
      "Epoch 96/100\n",
      "536/536 [==============================] - 1s 2ms/step - loss: 0.9604 - accuracy: 0.8377 - val_loss: 0.3830 - val_accuracy: 0.7955\n",
      "Epoch 97/100\n",
      "536/536 [==============================] - 1s 2ms/step - loss: 0.9173 - accuracy: 0.8332 - val_loss: 0.3820 - val_accuracy: 0.7955\n",
      "Epoch 98/100\n",
      "536/536 [==============================] - 1s 2ms/step - loss: 1.0296 - accuracy: 0.8315 - val_loss: 0.3840 - val_accuracy: 0.7955\n",
      "Epoch 99/100\n",
      "536/536 [==============================] - 1s 2ms/step - loss: 0.8902 - accuracy: 0.8371 - val_loss: 0.3847 - val_accuracy: 0.7955\n",
      "Epoch 100/100\n",
      "536/536 [==============================] - 1s 2ms/step - loss: 0.9065 - accuracy: 0.8362 - val_loss: 0.3838 - val_accuracy: 0.7955\n"
     ]
    }
   ],
   "source": [
    "model_history=classifier.fit(X_train,y_train,validation_split=0.33,batch_size=10,epochs=100)"
   ]
  },
  {
   "cell_type": "code",
   "execution_count": 26,
   "metadata": {
    "id": "HmgSQdIX0lB7"
   },
   "outputs": [],
   "source": [
    "#Early stopping-when accuracy is not at all increasing automatically the training will stop.below stuff taken\n",
    "# from keras documentation.From this we can know how many epochs is needed.\n",
    "import tensorflow as tf\n",
    "early_stopping=tf.keras.callbacks.EarlyStopping(\n",
    "    monitor=\"val_loss\",\n",
    "    min_delta=0.0001,\n",
    "    patience=20,\n",
    "    verbose=1,\n",
    "    mode=\"auto\",\n",
    "    baseline=None,\n",
    "    restore_best_weights=False,\n",
    ")"
   ]
  },
  {
   "cell_type": "code",
   "execution_count": 27,
   "metadata": {
    "colab": {
     "base_uri": "https://localhost:8080/"
    },
    "id": "KnnpvbcV4lNb",
    "outputId": "54dec290-f80a-4016-bbc7-51228584a577"
   },
   "outputs": [
    {
     "name": "stdout",
     "output_type": "stream",
     "text": [
      "Epoch 1/1000\n",
      "536/536 [==============================] - 1s 2ms/step - loss: 0.9599 - accuracy: 0.8287 - val_loss: 0.3829 - val_accuracy: 0.7955\n",
      "Epoch 2/1000\n",
      "536/536 [==============================] - 1s 2ms/step - loss: 0.9251 - accuracy: 0.8317 - val_loss: 0.3823 - val_accuracy: 0.7955\n",
      "Epoch 3/1000\n",
      "536/536 [==============================] - 1s 2ms/step - loss: 0.9083 - accuracy: 0.8321 - val_loss: 0.3815 - val_accuracy: 0.7955\n",
      "Epoch 4/1000\n",
      "536/536 [==============================] - 1s 2ms/step - loss: 0.9686 - accuracy: 0.8388 - val_loss: 0.3831 - val_accuracy: 0.7955\n",
      "Epoch 5/1000\n",
      "536/536 [==============================] - 1s 3ms/step - loss: 0.9951 - accuracy: 0.8377 - val_loss: 0.3833 - val_accuracy: 0.7955\n",
      "Epoch 6/1000\n",
      "536/536 [==============================] - 1s 2ms/step - loss: 1.0014 - accuracy: 0.8369 - val_loss: 0.3822 - val_accuracy: 0.7955\n",
      "Epoch 7/1000\n",
      "536/536 [==============================] - 1s 2ms/step - loss: 0.9284 - accuracy: 0.8356 - val_loss: 0.3823 - val_accuracy: 0.7955\n",
      "Epoch 8/1000\n",
      "536/536 [==============================] - 1s 2ms/step - loss: 1.0100 - accuracy: 0.8373 - val_loss: 0.3813 - val_accuracy: 0.7955\n",
      "Epoch 9/1000\n",
      "536/536 [==============================] - 1s 2ms/step - loss: 0.9610 - accuracy: 0.8326 - val_loss: 0.3819 - val_accuracy: 0.7955\n",
      "Epoch 10/1000\n",
      "536/536 [==============================] - 1s 2ms/step - loss: 0.9252 - accuracy: 0.8350 - val_loss: 0.3822 - val_accuracy: 0.7955\n",
      "Epoch 11/1000\n",
      "536/536 [==============================] - 1s 2ms/step - loss: 0.9243 - accuracy: 0.8365 - val_loss: 0.3824 - val_accuracy: 0.7955\n",
      "Epoch 12/1000\n",
      "536/536 [==============================] - 2s 3ms/step - loss: 0.9264 - accuracy: 0.8350 - val_loss: 0.3849 - val_accuracy: 0.7955\n",
      "Epoch 13/1000\n",
      "536/536 [==============================] - 2s 3ms/step - loss: 1.0027 - accuracy: 0.8309 - val_loss: 0.3817 - val_accuracy: 0.7955\n",
      "Epoch 14/1000\n",
      "536/536 [==============================] - 1s 3ms/step - loss: 0.9564 - accuracy: 0.8390 - val_loss: 0.3833 - val_accuracy: 0.7955\n",
      "Epoch 15/1000\n",
      "536/536 [==============================] - 1s 3ms/step - loss: 0.9473 - accuracy: 0.8391 - val_loss: 0.3871 - val_accuracy: 0.7955\n",
      "Epoch 16/1000\n",
      "536/536 [==============================] - 2s 3ms/step - loss: 1.0032 - accuracy: 0.8309 - val_loss: 0.3842 - val_accuracy: 0.7955\n",
      "Epoch 17/1000\n",
      "536/536 [==============================] - 1s 3ms/step - loss: 1.0262 - accuracy: 0.8393 - val_loss: 0.3839 - val_accuracy: 0.7955\n",
      "Epoch 18/1000\n",
      "536/536 [==============================] - 1s 2ms/step - loss: 0.9055 - accuracy: 0.8358 - val_loss: 0.3827 - val_accuracy: 0.7955\n",
      "Epoch 19/1000\n",
      "536/536 [==============================] - 1s 2ms/step - loss: 0.9630 - accuracy: 0.8405 - val_loss: 0.3822 - val_accuracy: 0.7955\n",
      "Epoch 20/1000\n",
      "536/536 [==============================] - 1s 2ms/step - loss: 0.9012 - accuracy: 0.8375 - val_loss: 0.3810 - val_accuracy: 0.7955\n",
      "Epoch 21/1000\n",
      "536/536 [==============================] - 1s 2ms/step - loss: 1.0104 - accuracy: 0.8362 - val_loss: 0.3820 - val_accuracy: 0.7955\n",
      "Epoch 22/1000\n",
      "536/536 [==============================] - 1s 2ms/step - loss: 0.9729 - accuracy: 0.8358 - val_loss: 0.3827 - val_accuracy: 0.7955\n",
      "Epoch 23/1000\n",
      "536/536 [==============================] - 1s 2ms/step - loss: 0.9420 - accuracy: 0.8416 - val_loss: 0.3836 - val_accuracy: 0.7955\n",
      "Epoch 24/1000\n",
      "536/536 [==============================] - 1s 2ms/step - loss: 0.8900 - accuracy: 0.8403 - val_loss: 0.3825 - val_accuracy: 0.7955\n",
      "Epoch 25/1000\n",
      "536/536 [==============================] - 1s 2ms/step - loss: 0.8764 - accuracy: 0.8423 - val_loss: 0.3869 - val_accuracy: 0.7955\n",
      "Epoch 26/1000\n",
      "536/536 [==============================] - 1s 2ms/step - loss: 0.9356 - accuracy: 0.8349 - val_loss: 0.3801 - val_accuracy: 0.7955\n",
      "Epoch 27/1000\n",
      "536/536 [==============================] - 1s 2ms/step - loss: 0.9525 - accuracy: 0.8302 - val_loss: 0.3837 - val_accuracy: 0.7955\n",
      "Epoch 28/1000\n",
      "536/536 [==============================] - 1s 2ms/step - loss: 0.8738 - accuracy: 0.8388 - val_loss: 0.3819 - val_accuracy: 0.7955\n",
      "Epoch 29/1000\n",
      "536/536 [==============================] - 1s 2ms/step - loss: 0.8693 - accuracy: 0.8354 - val_loss: 0.3848 - val_accuracy: 0.7955\n",
      "Epoch 30/1000\n",
      "536/536 [==============================] - 1s 2ms/step - loss: 0.9643 - accuracy: 0.8350 - val_loss: 0.3823 - val_accuracy: 0.7955\n",
      "Epoch 31/1000\n",
      "536/536 [==============================] - 1s 2ms/step - loss: 0.9573 - accuracy: 0.8360 - val_loss: 0.3807 - val_accuracy: 0.7955\n",
      "Epoch 32/1000\n",
      "536/536 [==============================] - 1s 2ms/step - loss: 0.8960 - accuracy: 0.8399 - val_loss: 0.3847 - val_accuracy: 0.7955\n",
      "Epoch 33/1000\n",
      "536/536 [==============================] - 1s 2ms/step - loss: 0.9850 - accuracy: 0.8337 - val_loss: 0.3810 - val_accuracy: 0.7955\n",
      "Epoch 34/1000\n",
      "536/536 [==============================] - 1s 2ms/step - loss: 0.9859 - accuracy: 0.8358 - val_loss: 0.3813 - val_accuracy: 0.7955\n",
      "Epoch 35/1000\n",
      "536/536 [==============================] - 1s 2ms/step - loss: 0.9711 - accuracy: 0.8336 - val_loss: 0.3809 - val_accuracy: 0.7955\n",
      "Epoch 36/1000\n",
      "536/536 [==============================] - 1s 2ms/step - loss: 0.9429 - accuracy: 0.8345 - val_loss: 0.3842 - val_accuracy: 0.7955\n",
      "Epoch 37/1000\n",
      "536/536 [==============================] - 1s 2ms/step - loss: 0.9293 - accuracy: 0.8319 - val_loss: 0.3904 - val_accuracy: 0.7955\n",
      "Epoch 38/1000\n",
      "536/536 [==============================] - 1s 2ms/step - loss: 0.9038 - accuracy: 0.8360 - val_loss: 0.3805 - val_accuracy: 0.7955\n",
      "Epoch 39/1000\n",
      "536/536 [==============================] - 1s 3ms/step - loss: 0.9683 - accuracy: 0.8336 - val_loss: 0.3794 - val_accuracy: 0.7955\n",
      "Epoch 40/1000\n",
      "536/536 [==============================] - 1s 2ms/step - loss: 0.9168 - accuracy: 0.8362 - val_loss: 0.3819 - val_accuracy: 0.7955\n",
      "Epoch 41/1000\n",
      "536/536 [==============================] - 1s 3ms/step - loss: 0.9359 - accuracy: 0.8330 - val_loss: 0.3803 - val_accuracy: 0.7955\n",
      "Epoch 42/1000\n",
      "536/536 [==============================] - 1s 3ms/step - loss: 0.9378 - accuracy: 0.8315 - val_loss: 0.3814 - val_accuracy: 0.7955\n",
      "Epoch 43/1000\n",
      "536/536 [==============================] - 1s 2ms/step - loss: 0.9002 - accuracy: 0.8373 - val_loss: 0.3836 - val_accuracy: 0.7955\n",
      "Epoch 44/1000\n",
      "536/536 [==============================] - 1s 2ms/step - loss: 0.9168 - accuracy: 0.8369 - val_loss: 0.3818 - val_accuracy: 0.7955\n",
      "Epoch 45/1000\n",
      "536/536 [==============================] - 1s 2ms/step - loss: 0.9569 - accuracy: 0.8367 - val_loss: 0.3837 - val_accuracy: 0.7955\n",
      "Epoch 46/1000\n",
      "536/536 [==============================] - 1s 2ms/step - loss: 0.9621 - accuracy: 0.8349 - val_loss: 0.3828 - val_accuracy: 0.7955\n",
      "Epoch 47/1000\n",
      "536/536 [==============================] - 1s 2ms/step - loss: 0.8939 - accuracy: 0.8386 - val_loss: 0.3826 - val_accuracy: 0.7955\n",
      "Epoch 48/1000\n",
      "536/536 [==============================] - 1s 2ms/step - loss: 0.8950 - accuracy: 0.8410 - val_loss: 0.3814 - val_accuracy: 0.7955\n",
      "Epoch 49/1000\n",
      "536/536 [==============================] - 1s 2ms/step - loss: 0.9277 - accuracy: 0.8362 - val_loss: 0.3818 - val_accuracy: 0.7955\n",
      "Epoch 50/1000\n",
      "536/536 [==============================] - 1s 2ms/step - loss: 0.8866 - accuracy: 0.8369 - val_loss: 0.3838 - val_accuracy: 0.7955\n",
      "Epoch 51/1000\n",
      "536/536 [==============================] - 1s 2ms/step - loss: 0.9630 - accuracy: 0.8304 - val_loss: 0.3845 - val_accuracy: 0.7955\n",
      "Epoch 52/1000\n",
      "536/536 [==============================] - 1s 2ms/step - loss: 0.9216 - accuracy: 0.8360 - val_loss: 0.3837 - val_accuracy: 0.7955\n",
      "Epoch 53/1000\n",
      "536/536 [==============================] - 1s 2ms/step - loss: 0.9348 - accuracy: 0.8345 - val_loss: 0.3833 - val_accuracy: 0.7955\n",
      "Epoch 54/1000\n",
      "536/536 [==============================] - 1s 2ms/step - loss: 0.9296 - accuracy: 0.8405 - val_loss: 0.3807 - val_accuracy: 0.7955\n",
      "Epoch 55/1000\n",
      "536/536 [==============================] - 1s 2ms/step - loss: 0.9515 - accuracy: 0.8336 - val_loss: 0.3850 - val_accuracy: 0.7955\n",
      "Epoch 56/1000\n",
      "536/536 [==============================] - 1s 2ms/step - loss: 0.9593 - accuracy: 0.8313 - val_loss: 0.3870 - val_accuracy: 0.7955\n",
      "Epoch 57/1000\n"
     ]
    },
    {
     "name": "stdout",
     "output_type": "stream",
     "text": [
      "536/536 [==============================] - 1s 2ms/step - loss: 0.9336 - accuracy: 0.8423 - val_loss: 0.3835 - val_accuracy: 0.7955\n",
      "Epoch 58/1000\n",
      "536/536 [==============================] - 1s 2ms/step - loss: 0.9728 - accuracy: 0.8352 - val_loss: 0.3825 - val_accuracy: 0.7955\n",
      "Epoch 59/1000\n",
      "536/536 [==============================] - 1s 2ms/step - loss: 0.8952 - accuracy: 0.8388 - val_loss: 0.3823 - val_accuracy: 0.7955\n",
      "Epoch 59: early stopping\n"
     ]
    }
   ],
   "source": [
    "model_history=classifier.fit(X_train,y_train,validation_split=0.33,batch_size=10,epochs=1000,callbacks=early_stopping)"
   ]
  },
  {
   "cell_type": "code",
   "execution_count": 28,
   "metadata": {
    "colab": {
     "base_uri": "https://localhost:8080/"
    },
    "id": "dnXYEe0R5CGq",
    "outputId": "d3528510-a1b4-403f-8841-71805ee0649b"
   },
   "outputs": [
    {
     "data": {
      "text/plain": [
       "dict_keys(['loss', 'accuracy', 'val_loss', 'val_accuracy'])"
      ]
     },
     "execution_count": 28,
     "metadata": {},
     "output_type": "execute_result"
    }
   ],
   "source": [
    "#see in the above early stopping gor excected and model stopped training\n",
    "model_history.history.keys()"
   ]
  },
  {
   "cell_type": "code",
   "execution_count": 29,
   "metadata": {
    "colab": {
     "base_uri": "https://localhost:8080/",
     "height": 472
    },
    "id": "lJjDtkEj5f1X",
    "outputId": "7e070388-6e58-441a-d7af-516156e9b0c2"
   },
   "outputs": [
    {
     "data": {
      "image/png": "[encoded data removed]",
      "text/plain": [
       "<Figure size 640x480 with 1 Axes>"
      ]
     },
     "metadata": {},
     "output_type": "display_data"
    }
   ],
   "source": [
    "plt.plot(model_history.history['accuracy'])\n",
    "plt.plot(model_history.history['val_accuracy'])\n",
    "plt.title('model accuracy')\n",
    "plt.xlabel('accuracy')\n",
    "plt.ylabel('epoch')\n",
    "plt.legend(['train','test'],loc='upper left')\n",
    "plt.show()"
   ]
  },
  {
   "cell_type": "code",
   "execution_count": 30,
   "metadata": {
    "colab": {
     "base_uri": "https://localhost:8080/",
     "height": 472
    },
    "id": "OHLNJg9v6kT3",
    "outputId": "17475d21-daa8-475e-a356-6d3c1a21a591"
   },
   "outputs": [
    {
     "data": {
      "image/png": "[encoded data removed]",
      "text/plain": [
       "<Figure size 640x480 with 1 Axes>"
      ]
     },
     "metadata": {},
     "output_type": "display_data"
    }
   ],
   "source": [
    "plt.plot(model_history.history['loss'])\n",
    "plt.plot(model_history.history['val_loss'])\n",
    "plt.title('model loss')\n",
    "plt.xlabel('loss')\n",
    "plt.ylabel('epoch')\n",
    "plt.legend(['train','test'],loc='upper left')\n",
    "plt.show()"
   ]
  },
  {
   "cell_type": "code",
   "execution_count": 31,
   "metadata": {
    "colab": {
     "base_uri": "https://localhost:8080/"
    },
    "id": "D911QPvL7Atm",
    "outputId": "c3c4598f-cc6b-4931-8761-1e207978c461"
   },
   "outputs": [
    {
     "name": "stdout",
     "output_type": "stream",
     "text": [
      "63/63 [==============================] - 0s 972us/step\n"
     ]
    }
   ],
   "source": [
    "y_pred=classifier.predict(X_test)\n",
    "y_pred=(y_pred>=0.5)"
   ]
  },
  {
   "cell_type": "code",
   "execution_count": 32,
   "metadata": {
    "colab": {
     "base_uri": "https://localhost:8080/"
    },
    "id": "CX7N4reX8cvu",
    "outputId": "f794490f-bd74-4cf4-a750-506c5c215a3c"
   },
   "outputs": [
    {
     "data": {
      "text/plain": [
       "array([[1595,    0],\n",
       "       [ 405,    0]], dtype=int64)"
      ]
     },
     "execution_count": 32,
     "metadata": {},
     "output_type": "execute_result"
    }
   ],
   "source": [
    "#create confusion matrix\n",
    "from sklearn.metrics import confusion_matrix\n",
    "cm=confusion_matrix(y_test,y_pred)\n",
    "cm"
   ]
  },
  {
   "cell_type": "code",
   "execution_count": 33,
   "metadata": {
    "colab": {
     "base_uri": "https://localhost:8080/"
    },
    "id": "39QBb0lc8p18",
    "outputId": "90237607-54ed-47ce-9f57-3268f9c36fec"
   },
   "outputs": [
    {
     "data": {
      "text/plain": [
       "0.7975"
      ]
     },
     "execution_count": 33,
     "metadata": {},
     "output_type": "execute_result"
    }
   ],
   "source": [
    "#calculate accuracy\n",
    "from sklearn.metrics import accuracy_score\n",
    "score=accuracy_score(y_pred,y_test)\n",
    "score"
   ]
  },
  {
   "cell_type": "code",
   "execution_count": 34,
   "metadata": {
    "colab": {
     "base_uri": "https://localhost:8080/"
    },
    "id": "vNPZXu8J83BA",
    "outputId": "5f01e3b8-efce-493e-f781-dafc7f60d8ef"
   },
   "outputs": [
    {
     "data": {
      "text/plain": [
       "[array([[-6.47796914e-02,  8.34508240e-02, -1.13501854e-01,\n",
       "          1.39375320e-02,  5.52276820e-02, -1.65859699e-01,\n",
       "         -1.07422872e-02,  2.17465982e-01, -2.80383050e-01,\n",
       "          1.88997179e-01,  1.97135597e-01],\n",
       "        [ 6.45021975e-01,  7.45554566e-02, -6.92202270e-01,\n",
       "         -6.93646133e-01,  1.93547592e-01,  2.45620802e-01,\n",
       "          2.64681697e-01,  2.75624037e-01, -7.31448352e-01,\n",
       "         -8.46428037e-01, -4.92901474e-01],\n",
       "        [ 2.55254507e-02,  3.19501042e-01, -1.02380708e-01,\n",
       "          5.41749820e-02,  9.63243395e-02, -1.07798696e-01,\n",
       "          1.56743992e-02,  1.08182795e-01,  1.67237371e-01,\n",
       "          3.30871739e-03,  2.82532652e-04],\n",
       "        [-6.83672130e-02, -3.82273465e-01, -3.62568289e-01,\n",
       "         -3.08266103e-01, -9.20477033e-01, -7.40940452e-01,\n",
       "          1.48847565e-01, -5.67502081e-01,  2.32701778e-01,\n",
       "         -3.40992063e-01, -5.62833786e-01],\n",
       "        [-1.09879568e-01, -1.29551113e-01,  9.27423611e-02,\n",
       "          7.00818226e-02, -1.07756400e+00, -9.99196529e-01,\n",
       "          1.17988253e+00,  4.05361503e-02,  4.24825884e-02,\n",
       "          1.61057077e-02, -1.06591590e-01],\n",
       "        [ 3.58343907e-02, -7.25039765e-02, -5.38880751e-03,\n",
       "         -3.46259847e-02,  9.50595737e-02,  1.60977021e-02,\n",
       "         -2.63551027e-02,  6.91019893e-02,  8.76549408e-02,\n",
       "         -7.07326904e-02,  1.52195320e-01],\n",
       "        [ 3.72812212e-01,  5.12229681e-01, -3.49753462e-02,\n",
       "          1.42367959e-01, -3.79337892e-02, -1.95954606e-01,\n",
       "         -2.76245415e-01,  6.18564069e-01,  4.75051731e-01,\n",
       "          6.23745546e-02,  1.15311980e-01],\n",
       "        [-1.65690891e-02, -2.63187766e-01, -3.68100964e-02,\n",
       "         -6.43898621e-02,  8.40202812e-03, -6.93350136e-02,\n",
       "          2.02318113e-02,  2.32832029e-01, -6.77824095e-02,\n",
       "         -5.84377907e-02,  8.76870453e-02],\n",
       "        [-3.17467079e-02, -4.61553007e-01,  9.95145589e-02,\n",
       "         -7.27024823e-02,  5.17431855e-01,  3.72034788e-01,\n",
       "          1.92559604e-02,  1.17876247e-01,  1.42212600e-01,\n",
       "         -1.56875730e-01, -2.08211750e-01],\n",
       "        [-3.85683402e-02,  4.22752619e-01, -3.93707186e-01,\n",
       "         -8.34170654e-02,  5.92591837e-02, -2.10793316e-02,\n",
       "          1.78110793e-01, -1.16970139e-02, -5.30976392e-02,\n",
       "         -4.31770347e-02,  6.21753037e-02],\n",
       "        [ 1.29354089e-01, -9.89382043e-02, -3.01427264e-02,\n",
       "          1.83372244e-01,  1.86252482e-02, -8.92799199e-02,\n",
       "         -9.12035070e-03,  1.87886626e-01,  3.99876803e-01,\n",
       "          1.14714429e-01,  3.31958979e-01]], dtype=float32),\n",
       " array([-1.4484473 , -0.42522037,  0.4128938 ,  0.85426635, -0.5365943 ,\n",
       "        -0.57977325, -1.5707607 , -0.81592536,  0.16152453,  0.6915813 ,\n",
       "         0.46526894], dtype=float32),\n",
       " array([[ 1.140134  , -0.8256708 ,  0.40945312,  1.1239785 , -0.2380468 ,\n",
       "          1.1455611 ,  0.51111823],\n",
       "        [ 0.13419677, -0.9384128 ,  0.10346844,  0.23723385, -0.00756384,\n",
       "          0.12045336,  0.08170631],\n",
       "        [ 0.1735881 , -0.97393984,  0.11475384,  0.1962018 , -0.26887536,\n",
       "          0.27218533,  0.05430721],\n",
       "        [ 0.207433  , -0.9719595 , -0.08292918,  0.09353113,  0.87105155,\n",
       "         -0.05449341,  0.00739273],\n",
       "        [-0.21055105, -0.17946188, -0.9252028 , -0.6561548 , -0.18173793,\n",
       "         -0.1531588 , -1.0620843 ],\n",
       "        [-0.11471811,  0.41359338, -1.3039325 , -0.68508506, -0.17257574,\n",
       "         -0.12358251, -1.2616485 ],\n",
       "        [-1.5201199 , -0.5482574 , -1.0718418 , -1.957208  , -0.9493092 ,\n",
       "         -1.2280204 , -0.9452325 ],\n",
       "        [ 0.48175755, -1.05883   ,  0.3295474 ,  0.44301787,  0.09164468,\n",
       "          0.16542003,  0.39522249],\n",
       "        [ 0.14729737, -0.549328  ,  0.1399748 ,  0.17959456, -0.26401496,\n",
       "          0.2011015 ,  0.07859291],\n",
       "        [ 0.35226858, -0.75869185,  0.02592319,  0.26973087, -0.343456  ,\n",
       "          0.26632956,  0.06435818],\n",
       "        [ 0.01726856, -0.5751772 ,  0.20977229,  0.2234424 , -0.13445403,\n",
       "          0.10747195,  0.1138539 ]], dtype=float32),\n",
       " array([ 0.22993541,  0.30727035,  0.29496795,  0.6049033 , -0.01126217,\n",
       "         0.23056039,  0.26128995], dtype=float32),\n",
       " array([[ 0.34118775,  0.23311417,  0.20858313,  0.17955852, -0.45102113,\n",
       "          0.2648353 ],\n",
       "        [-1.5244724 , -1.3990629 , -1.392984  , -0.5363182 , -1.339383  ,\n",
       "         -0.52385855],\n",
       "        [ 0.6496644 ,  0.2757075 ,  0.5532022 ,  0.2933643 , -0.24487291,\n",
       "          0.717957  ],\n",
       "        [ 0.7534122 ,  0.62407476,  0.46113902, -1.0758095 ,  0.74787736,\n",
       "         -0.7895886 ],\n",
       "        [ 0.63592625,  0.0547389 ,  0.60310864,  0.3965089 ,  0.4709146 ,\n",
       "          0.08483229],\n",
       "        [ 0.47657907, -0.6204923 ,  0.30571613,  0.28890172,  0.500488  ,\n",
       "          0.36361668],\n",
       "        [ 0.6625116 ,  0.07069361,  0.35761282,  0.51583815,  0.44099542,\n",
       "          0.4166936 ]], dtype=float32),\n",
       " array([ 0.0162628 , -0.00094318,  0.02493747,  0.00698139, -0.00066102,\n",
       "         0.00452346], dtype=float32),\n",
       " array([[-0.26686177],\n",
       "        [-0.5201907 ],\n",
       "        [-0.31988162],\n",
       "        [-0.75789285],\n",
       "        [-0.44771194],\n",
       "        [-0.5810528 ]], dtype=float32),\n",
       " array([-0.08659919], dtype=float32)]"
      ]
     },
     "execution_count": 34,
     "metadata": {},
     "output_type": "execute_result"
    }
   ],
   "source": [
    "#get the weights\n",
    "classifier.get_weights()"
   ]
  },
  {
   "cell_type": "code",
   "execution_count": 35,
   "metadata": {
    "id": "b2fqYylZ-bHA"
   },
   "outputs": [
    {
     "name": "stderr",
     "output_type": "stream",
     "text": [
      "C:\\Users\\somna\\AppData\\Roaming\\Python\\Python310\\site-packages\\keras\\src\\engine\\training.py:3103: UserWarning: You are saving your model as an HDF5 file via `model.save()`. This file format is considered legacy. We recommend using instead the native Keras format, e.g. `model.save('my_model.keras')`.\n",
      "  saving_api.save_model(\n"
     ]
    }
   ],
   "source": [
    "from tensorflow.keras.models import save_model, load_model\n",
    "import pickle\n",
    "\n",
    "# Assuming 'model_history' is the history object returned by classifier.fit\n",
    "# and 'model_history.model' is your TensorFlow/Keras model\n",
    "\n",
    "# Save the model\n",
    "model_history.model.save('model_tf.h5')\n",
    "\n",
    "# Save the model history using pickle\n",
    "with open('model_history.pkl', 'wb') as file:\n",
    "    pickle.dump(model_history.history, file)\n",
    "\n",
    "# Load the model\n",
    "loaded_model_tf = load_model('model_tf.h5')\n",
    "\n",
    "# Load the model history using pickle\n",
    "with open('model_history.pkl', 'rb') as file:\n",
    "    loaded_model_history = pickle.load(file)"
   ]
  },
  {
   "cell_type": "code",
   "execution_count": 36,
   "metadata": {
    "colab": {
     "base_uri": "https://localhost:8080/"
    },
    "id": "3qzJXeNZKS-d",
    "outputId": "a467a9ae-3022-49ae-f601-e94d05265b5e"
   },
   "outputs": [
    {
     "data": {
      "text/plain": [
       "<keras.src.engine.sequential.Sequential at 0x1ee2f32a230>"
      ]
     },
     "execution_count": 36,
     "metadata": {},
     "output_type": "execute_result"
    }
   ],
   "source": [
    "loaded_model = load_model('model_tf.h5')\n",
    "loaded_model"
   ]
  },
  {
   "cell_type": "code",
   "execution_count": null,
   "metadata": {
    "colab": {
     "base_uri": "https://localhost:8080/",
     "height": 176
    },
    "id": "YN73yWyoLQCq",
    "outputId": "dc5fa71e-9e96-44c1-f544-aa8e143ba376"
   },
   "outputs": [],
   "source": []
  },
  {
   "cell_type": "code",
   "execution_count": null,
   "metadata": {
    "id": "HXgrV6HrLZGy"
   },
   "outputs": [],
   "source": []
  },
  {
   "cell_type": "code",
   "execution_count": null,
   "metadata": {},
   "outputs": [],
   "source": []
  },
  {
   "cell_type": "code",
   "execution_count": null,
   "metadata": {},
   "outputs": [],
   "source": []
  }
 ],
 "metadata": {
  "accelerator": "TPU",
  "colab": {
   "provenance": []
  },
  "kernelspec": {
   "display_name": "Python 3 (ipykernel)",
   "language": "python",
   "name": "python3"
  },
  "language_info": {
   "codemirror_mode": {
    "name": "ipython",
    "version": 3
   },
   "file_extension": ".py",
   "mimetype": "text/x-python",
   "name": "python",
   "nbconvert_exporter": "python",
   "pygments_lexer": "ipython3",
   "version": "3.10.9"
  }
 },
 "nbformat": 4,
 "nbformat_minor": 1
}
