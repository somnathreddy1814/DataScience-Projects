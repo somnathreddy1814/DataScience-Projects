{
 "cells": [
  {
   "cell_type": "code",
   "execution_count": 2,
   "id": "bf19ca0e-3554-4260-b723-342547728d82",
   "metadata": {},
   "outputs": [],
   "source": [
    "import numpy as np\n",
    "import pandas as pd\n",
    "from warnings import filterwarnings\n",
    "filterwarnings(\"ignore\")"
   ]
  },
  {
   "cell_type": "code",
   "execution_count": 3,
   "id": "8dc515f8-567d-466c-a610-fa06229f405c",
   "metadata": {},
   "outputs": [
    {
     "data": {
      "text/html": [
       "<div>\n",
       "<style scoped>\n",
       "    .dataframe tbody tr th:only-of-type {\n",
       "        vertical-align: middle;\n",
       "    }\n",
       "\n",
       "    .dataframe tbody tr th {\n",
       "        vertical-align: top;\n",
       "    }\n",
       "\n",
       "    .dataframe thead th {\n",
       "        text-align: right;\n",
       "    }\n",
       "</style>\n",
       "<table border=\"1\" class=\"dataframe\">\n",
       "  <thead>\n",
       "    <tr style=\"text-align: right;\">\n",
       "      <th></th>\n",
       "      <th>index</th>\n",
       "      <th>Drug_Name</th>\n",
       "      <th>Reason</th>\n",
       "      <th>Description</th>\n",
       "    </tr>\n",
       "  </thead>\n",
       "  <tbody>\n",
       "    <tr>\n",
       "      <th>0</th>\n",
       "      <td>1</td>\n",
       "      <td>A CN Gel(Topical) 20gmA CN Soap 75gm</td>\n",
       "      <td>Acne</td>\n",
       "      <td>Mild to moderate acne (spots)</td>\n",
       "    </tr>\n",
       "    <tr>\n",
       "      <th>1</th>\n",
       "      <td>2</td>\n",
       "      <td>A Ret 0.05% Gel 20gmA Ret 0.1% Gel 20gmA Ret 0...</td>\n",
       "      <td>Acne</td>\n",
       "      <td>A RET 0.025% is a prescription medicine that i...</td>\n",
       "    </tr>\n",
       "    <tr>\n",
       "      <th>2</th>\n",
       "      <td>3</td>\n",
       "      <td>ACGEL CL NANO Gel 15gm</td>\n",
       "      <td>Acne</td>\n",
       "      <td>It is used to treat acne vulgaris in people 12...</td>\n",
       "    </tr>\n",
       "    <tr>\n",
       "      <th>3</th>\n",
       "      <td>4</td>\n",
       "      <td>ACGEL NANO Gel 15gm</td>\n",
       "      <td>Acne</td>\n",
       "      <td>It is used to treat acne vulgaris in people 12...</td>\n",
       "    </tr>\n",
       "    <tr>\n",
       "      <th>4</th>\n",
       "      <td>5</td>\n",
       "      <td>Acleen 1% Lotion 25ml</td>\n",
       "      <td>Acne</td>\n",
       "      <td>treat the most severe form of acne (nodular ac...</td>\n",
       "    </tr>\n",
       "  </tbody>\n",
       "</table>\n",
       "</div>"
      ],
      "text/plain": [
       "   index                                          Drug_Name Reason  \\\n",
       "0      1               A CN Gel(Topical) 20gmA CN Soap 75gm   Acne   \n",
       "1      2  A Ret 0.05% Gel 20gmA Ret 0.1% Gel 20gmA Ret 0...   Acne   \n",
       "2      3                             ACGEL CL NANO Gel 15gm   Acne   \n",
       "3      4                                ACGEL NANO Gel 15gm   Acne   \n",
       "4      5                              Acleen 1% Lotion 25ml   Acne   \n",
       "\n",
       "                                         Description  \n",
       "0                      Mild to moderate acne (spots)  \n",
       "1  A RET 0.025% is a prescription medicine that i...  \n",
       "2  It is used to treat acne vulgaris in people 12...  \n",
       "3  It is used to treat acne vulgaris in people 12...  \n",
       "4  treat the most severe form of acne (nodular ac...  "
      ]
     },
     "execution_count": 3,
     "metadata": {},
     "output_type": "execute_result"
    }
   ],
   "source": [
    "df=pd.read_csv('medicine.csv')\n",
    "df.head()"
   ]
  },
  {
   "cell_type": "code",
   "execution_count": 4,
   "id": "dc3f9f08-6bf6-4da6-81ef-ad732b156d04",
   "metadata": {},
   "outputs": [
    {
     "data": {
      "text/plain": [
       "(9720, 4)"
      ]
     },
     "execution_count": 4,
     "metadata": {},
     "output_type": "execute_result"
    }
   ],
   "source": [
    "df.shape"
   ]
  },
  {
   "cell_type": "code",
   "execution_count": 6,
   "id": "16679ae5-849e-489a-bb50-d79086413934",
   "metadata": {},
   "outputs": [
    {
     "data": {
      "text/plain": [
       "index          0\n",
       "Drug_Name      0\n",
       "Reason         0\n",
       "Description    0\n",
       "dtype: int64"
      ]
     },
     "execution_count": 6,
     "metadata": {},
     "output_type": "execute_result"
    }
   ],
   "source": [
    "df.isnull().sum()"
   ]
  },
  {
   "cell_type": "code",
   "execution_count": 8,
   "id": "dfefe1ac-781e-450a-b8a9-c090226c079b",
   "metadata": {},
   "outputs": [
    {
     "data": {
      "text/plain": [
       "0"
      ]
     },
     "execution_count": 8,
     "metadata": {},
     "output_type": "execute_result"
    }
   ],
   "source": [
    "#no missing values so we can proceed\n",
    "#check for duplicate values\n",
    "df.duplicated().sum()"
   ]
  },
  {
   "cell_type": "code",
   "execution_count": 9,
   "id": "ecfead17-ca4f-4242-840e-852ee120ebcc",
   "metadata": {},
   "outputs": [],
   "source": [
    "df['Reason'] = df['Reason'].apply(lambda x:x.split())\n",
    "df['Description'] = df['Description'].apply(lambda x:x.split())"
   ]
  },
  {
   "cell_type": "code",
   "execution_count": 10,
   "id": "5d0bfc81-7d4d-4772-b4de-09e87b86fcd8",
   "metadata": {},
   "outputs": [],
   "source": [
    "df['Description'] = df['Description'].apply(lambda x:[i.replace(\" \",\"\") for i in x])"
   ]
  },
  {
   "cell_type": "code",
   "execution_count": 11,
   "id": "a9cedf7d-0eca-45f5-bb58-546b08011722",
   "metadata": {},
   "outputs": [],
   "source": [
    "df['tags'] = df['Description'] + df['Reason'] "
   ]
  },
  {
   "cell_type": "code",
   "execution_count": 12,
   "id": "9d402ee9-28b6-41b5-8daa-0274cd04e349",
   "metadata": {},
   "outputs": [],
   "source": [
    "new_df = df[['index','Drug_Name','tags']]"
   ]
  },
  {
   "cell_type": "code",
   "execution_count": 13,
   "id": "b2388bbc-d46d-4213-861e-d5d54841e645",
   "metadata": {},
   "outputs": [
    {
     "data": {
      "text/html": [
       "<div>\n",
       "<style scoped>\n",
       "    .dataframe tbody tr th:only-of-type {\n",
       "        vertical-align: middle;\n",
       "    }\n",
       "\n",
       "    .dataframe tbody tr th {\n",
       "        vertical-align: top;\n",
       "    }\n",
       "\n",
       "    .dataframe thead th {\n",
       "        text-align: right;\n",
       "    }\n",
       "</style>\n",
       "<table border=\"1\" class=\"dataframe\">\n",
       "  <thead>\n",
       "    <tr style=\"text-align: right;\">\n",
       "      <th></th>\n",
       "      <th>index</th>\n",
       "      <th>Drug_Name</th>\n",
       "      <th>tags</th>\n",
       "    </tr>\n",
       "  </thead>\n",
       "  <tbody>\n",
       "    <tr>\n",
       "      <th>0</th>\n",
       "      <td>1</td>\n",
       "      <td>A CN Gel(Topical) 20gmA CN Soap 75gm</td>\n",
       "      <td>[Mild, to, moderate, acne, (spots), Acne]</td>\n",
       "    </tr>\n",
       "    <tr>\n",
       "      <th>1</th>\n",
       "      <td>2</td>\n",
       "      <td>A Ret 0.05% Gel 20gmA Ret 0.1% Gel 20gmA Ret 0...</td>\n",
       "      <td>[A, RET, 0.025%, is, a, prescription, medicine...</td>\n",
       "    </tr>\n",
       "    <tr>\n",
       "      <th>2</th>\n",
       "      <td>3</td>\n",
       "      <td>ACGEL CL NANO Gel 15gm</td>\n",
       "      <td>[It, is, used, to, treat, acne, vulgaris, in, ...</td>\n",
       "    </tr>\n",
       "    <tr>\n",
       "      <th>3</th>\n",
       "      <td>4</td>\n",
       "      <td>ACGEL NANO Gel 15gm</td>\n",
       "      <td>[It, is, used, to, treat, acne, vulgaris, in, ...</td>\n",
       "    </tr>\n",
       "    <tr>\n",
       "      <th>4</th>\n",
       "      <td>5</td>\n",
       "      <td>Acleen 1% Lotion 25ml</td>\n",
       "      <td>[treat, the, most, severe, form, of, acne, (no...</td>\n",
       "    </tr>\n",
       "    <tr>\n",
       "      <th>...</th>\n",
       "      <td>...</td>\n",
       "      <td>...</td>\n",
       "      <td>...</td>\n",
       "    </tr>\n",
       "    <tr>\n",
       "      <th>9715</th>\n",
       "      <td>9716</td>\n",
       "      <td>T Muce Ointment 5gm</td>\n",
       "      <td>[used, for, treating, warts, Wound]</td>\n",
       "    </tr>\n",
       "    <tr>\n",
       "      <th>9716</th>\n",
       "      <td>9717</td>\n",
       "      <td>Wokadine 10% Solution 100mlWokadine Solution 5...</td>\n",
       "      <td>[used, to, soften, the, skin, cells, Wound]</td>\n",
       "    </tr>\n",
       "    <tr>\n",
       "      <th>9717</th>\n",
       "      <td>9718</td>\n",
       "      <td>Wokadine M Onit 10gm</td>\n",
       "      <td>[used, for, scars, Wound]</td>\n",
       "    </tr>\n",
       "    <tr>\n",
       "      <th>9718</th>\n",
       "      <td>9719</td>\n",
       "      <td>Wound Fix Solution 100ml</td>\n",
       "      <td>[used, for, wounds, Wound]</td>\n",
       "    </tr>\n",
       "    <tr>\n",
       "      <th>9719</th>\n",
       "      <td>9720</td>\n",
       "      <td>Wounsol Ointment 15gm</td>\n",
       "      <td>[used, to, treat, and, remove, raised, warts, ...</td>\n",
       "    </tr>\n",
       "  </tbody>\n",
       "</table>\n",
       "<p>9720 rows × 3 columns</p>\n",
       "</div>"
      ],
      "text/plain": [
       "      index                                          Drug_Name  \\\n",
       "0         1               A CN Gel(Topical) 20gmA CN Soap 75gm   \n",
       "1         2  A Ret 0.05% Gel 20gmA Ret 0.1% Gel 20gmA Ret 0...   \n",
       "2         3                             ACGEL CL NANO Gel 15gm   \n",
       "3         4                                ACGEL NANO Gel 15gm   \n",
       "4         5                              Acleen 1% Lotion 25ml   \n",
       "...     ...                                                ...   \n",
       "9715   9716                                T Muce Ointment 5gm   \n",
       "9716   9717  Wokadine 10% Solution 100mlWokadine Solution 5...   \n",
       "9717   9718                               Wokadine M Onit 10gm   \n",
       "9718   9719                           Wound Fix Solution 100ml   \n",
       "9719   9720                              Wounsol Ointment 15gm   \n",
       "\n",
       "                                                   tags  \n",
       "0             [Mild, to, moderate, acne, (spots), Acne]  \n",
       "1     [A, RET, 0.025%, is, a, prescription, medicine...  \n",
       "2     [It, is, used, to, treat, acne, vulgaris, in, ...  \n",
       "3     [It, is, used, to, treat, acne, vulgaris, in, ...  \n",
       "4     [treat, the, most, severe, form, of, acne, (no...  \n",
       "...                                                 ...  \n",
       "9715                [used, for, treating, warts, Wound]  \n",
       "9716        [used, to, soften, the, skin, cells, Wound]  \n",
       "9717                          [used, for, scars, Wound]  \n",
       "9718                         [used, for, wounds, Wound]  \n",
       "9719  [used, to, treat, and, remove, raised, warts, ...  \n",
       "\n",
       "[9720 rows x 3 columns]"
      ]
     },
     "execution_count": 13,
     "metadata": {},
     "output_type": "execute_result"
    }
   ],
   "source": [
    "new_df"
   ]
  },
  {
   "cell_type": "code",
   "execution_count": 14,
   "id": "84f69f8f-214b-417f-a348-8905f8c40029",
   "metadata": {},
   "outputs": [
    {
     "data": {
      "text/plain": [
       "0                      Mild to moderate acne (spots) Acne\n",
       "1       A RET 0.025% is a prescription medicine that i...\n",
       "2       It is used to treat acne vulgaris in people 12...\n",
       "3       It is used to treat acne vulgaris in people 12...\n",
       "4       treat the most severe form of acne (nodular ac...\n",
       "                              ...                        \n",
       "9715                        used for treating warts Wound\n",
       "9716                  used to soften the skin cells Wound\n",
       "9717                                 used for scars Wound\n",
       "9718                                used for wounds Wound\n",
       "9719    used to treat and remove raised warts (usually...\n",
       "Name: tags, Length: 9720, dtype: object"
      ]
     },
     "execution_count": 14,
     "metadata": {},
     "output_type": "execute_result"
    }
   ],
   "source": [
    "new_df['tags'].apply(lambda x:\" \".join(x))"
   ]
  },
  {
   "cell_type": "code",
   "execution_count": 15,
   "id": "f7b05b5c-af3f-4f0a-995b-d1bec0f9a5ff",
   "metadata": {},
   "outputs": [
    {
     "data": {
      "text/html": [
       "<div>\n",
       "<style scoped>\n",
       "    .dataframe tbody tr th:only-of-type {\n",
       "        vertical-align: middle;\n",
       "    }\n",
       "\n",
       "    .dataframe tbody tr th {\n",
       "        vertical-align: top;\n",
       "    }\n",
       "\n",
       "    .dataframe thead th {\n",
       "        text-align: right;\n",
       "    }\n",
       "</style>\n",
       "<table border=\"1\" class=\"dataframe\">\n",
       "  <thead>\n",
       "    <tr style=\"text-align: right;\">\n",
       "      <th></th>\n",
       "      <th>index</th>\n",
       "      <th>Drug_Name</th>\n",
       "      <th>tags</th>\n",
       "    </tr>\n",
       "  </thead>\n",
       "  <tbody>\n",
       "    <tr>\n",
       "      <th>0</th>\n",
       "      <td>1</td>\n",
       "      <td>A CN Gel(Topical) 20gmA CN Soap 75gm</td>\n",
       "      <td>[Mild, to, moderate, acne, (spots), Acne]</td>\n",
       "    </tr>\n",
       "    <tr>\n",
       "      <th>1</th>\n",
       "      <td>2</td>\n",
       "      <td>A Ret 0.05% Gel 20gmA Ret 0.1% Gel 20gmA Ret 0...</td>\n",
       "      <td>[A, RET, 0.025%, is, a, prescription, medicine...</td>\n",
       "    </tr>\n",
       "    <tr>\n",
       "      <th>2</th>\n",
       "      <td>3</td>\n",
       "      <td>ACGEL CL NANO Gel 15gm</td>\n",
       "      <td>[It, is, used, to, treat, acne, vulgaris, in, ...</td>\n",
       "    </tr>\n",
       "    <tr>\n",
       "      <th>3</th>\n",
       "      <td>4</td>\n",
       "      <td>ACGEL NANO Gel 15gm</td>\n",
       "      <td>[It, is, used, to, treat, acne, vulgaris, in, ...</td>\n",
       "    </tr>\n",
       "    <tr>\n",
       "      <th>4</th>\n",
       "      <td>5</td>\n",
       "      <td>Acleen 1% Lotion 25ml</td>\n",
       "      <td>[treat, the, most, severe, form, of, acne, (no...</td>\n",
       "    </tr>\n",
       "    <tr>\n",
       "      <th>...</th>\n",
       "      <td>...</td>\n",
       "      <td>...</td>\n",
       "      <td>...</td>\n",
       "    </tr>\n",
       "    <tr>\n",
       "      <th>9715</th>\n",
       "      <td>9716</td>\n",
       "      <td>T Muce Ointment 5gm</td>\n",
       "      <td>[used, for, treating, warts, Wound]</td>\n",
       "    </tr>\n",
       "    <tr>\n",
       "      <th>9716</th>\n",
       "      <td>9717</td>\n",
       "      <td>Wokadine 10% Solution 100mlWokadine Solution 5...</td>\n",
       "      <td>[used, to, soften, the, skin, cells, Wound]</td>\n",
       "    </tr>\n",
       "    <tr>\n",
       "      <th>9717</th>\n",
       "      <td>9718</td>\n",
       "      <td>Wokadine M Onit 10gm</td>\n",
       "      <td>[used, for, scars, Wound]</td>\n",
       "    </tr>\n",
       "    <tr>\n",
       "      <th>9718</th>\n",
       "      <td>9719</td>\n",
       "      <td>Wound Fix Solution 100ml</td>\n",
       "      <td>[used, for, wounds, Wound]</td>\n",
       "    </tr>\n",
       "    <tr>\n",
       "      <th>9719</th>\n",
       "      <td>9720</td>\n",
       "      <td>Wounsol Ointment 15gm</td>\n",
       "      <td>[used, to, treat, and, remove, raised, warts, ...</td>\n",
       "    </tr>\n",
       "  </tbody>\n",
       "</table>\n",
       "<p>9720 rows × 3 columns</p>\n",
       "</div>"
      ],
      "text/plain": [
       "      index                                          Drug_Name  \\\n",
       "0         1               A CN Gel(Topical) 20gmA CN Soap 75gm   \n",
       "1         2  A Ret 0.05% Gel 20gmA Ret 0.1% Gel 20gmA Ret 0...   \n",
       "2         3                             ACGEL CL NANO Gel 15gm   \n",
       "3         4                                ACGEL NANO Gel 15gm   \n",
       "4         5                              Acleen 1% Lotion 25ml   \n",
       "...     ...                                                ...   \n",
       "9715   9716                                T Muce Ointment 5gm   \n",
       "9716   9717  Wokadine 10% Solution 100mlWokadine Solution 5...   \n",
       "9717   9718                               Wokadine M Onit 10gm   \n",
       "9718   9719                           Wound Fix Solution 100ml   \n",
       "9719   9720                              Wounsol Ointment 15gm   \n",
       "\n",
       "                                                   tags  \n",
       "0             [Mild, to, moderate, acne, (spots), Acne]  \n",
       "1     [A, RET, 0.025%, is, a, prescription, medicine...  \n",
       "2     [It, is, used, to, treat, acne, vulgaris, in, ...  \n",
       "3     [It, is, used, to, treat, acne, vulgaris, in, ...  \n",
       "4     [treat, the, most, severe, form, of, acne, (no...  \n",
       "...                                                 ...  \n",
       "9715                [used, for, treating, warts, Wound]  \n",
       "9716        [used, to, soften, the, skin, cells, Wound]  \n",
       "9717                          [used, for, scars, Wound]  \n",
       "9718                         [used, for, wounds, Wound]  \n",
       "9719  [used, to, treat, and, remove, raised, warts, ...  \n",
       "\n",
       "[9720 rows x 3 columns]"
      ]
     },
     "execution_count": 15,
     "metadata": {},
     "output_type": "execute_result"
    }
   ],
   "source": [
    "new_df"
   ]
  },
  {
   "cell_type": "code",
   "execution_count": 16,
   "id": "e049e0f5-4858-4128-acf5-e0124256f856",
   "metadata": {},
   "outputs": [],
   "source": [
    "new_df['tags'] = new_df['tags'].apply(lambda x:\" \".join(x))"
   ]
  },
  {
   "cell_type": "code",
   "execution_count": 17,
   "id": "b466ca2c-889a-4356-b9ca-9d61798a79b9",
   "metadata": {},
   "outputs": [
    {
     "data": {
      "text/html": [
       "<div>\n",
       "<style scoped>\n",
       "    .dataframe tbody tr th:only-of-type {\n",
       "        vertical-align: middle;\n",
       "    }\n",
       "\n",
       "    .dataframe tbody tr th {\n",
       "        vertical-align: top;\n",
       "    }\n",
       "\n",
       "    .dataframe thead th {\n",
       "        text-align: right;\n",
       "    }\n",
       "</style>\n",
       "<table border=\"1\" class=\"dataframe\">\n",
       "  <thead>\n",
       "    <tr style=\"text-align: right;\">\n",
       "      <th></th>\n",
       "      <th>index</th>\n",
       "      <th>Drug_Name</th>\n",
       "      <th>tags</th>\n",
       "    </tr>\n",
       "  </thead>\n",
       "  <tbody>\n",
       "    <tr>\n",
       "      <th>0</th>\n",
       "      <td>1</td>\n",
       "      <td>A CN Gel(Topical) 20gmA CN Soap 75gm</td>\n",
       "      <td>Mild to moderate acne (spots) Acne</td>\n",
       "    </tr>\n",
       "    <tr>\n",
       "      <th>1</th>\n",
       "      <td>2</td>\n",
       "      <td>A Ret 0.05% Gel 20gmA Ret 0.1% Gel 20gmA Ret 0...</td>\n",
       "      <td>A RET 0.025% is a prescription medicine that i...</td>\n",
       "    </tr>\n",
       "    <tr>\n",
       "      <th>2</th>\n",
       "      <td>3</td>\n",
       "      <td>ACGEL CL NANO Gel 15gm</td>\n",
       "      <td>It is used to treat acne vulgaris in people 12...</td>\n",
       "    </tr>\n",
       "    <tr>\n",
       "      <th>3</th>\n",
       "      <td>4</td>\n",
       "      <td>ACGEL NANO Gel 15gm</td>\n",
       "      <td>It is used to treat acne vulgaris in people 12...</td>\n",
       "    </tr>\n",
       "    <tr>\n",
       "      <th>4</th>\n",
       "      <td>5</td>\n",
       "      <td>Acleen 1% Lotion 25ml</td>\n",
       "      <td>treat the most severe form of acne (nodular ac...</td>\n",
       "    </tr>\n",
       "    <tr>\n",
       "      <th>...</th>\n",
       "      <td>...</td>\n",
       "      <td>...</td>\n",
       "      <td>...</td>\n",
       "    </tr>\n",
       "    <tr>\n",
       "      <th>9715</th>\n",
       "      <td>9716</td>\n",
       "      <td>T Muce Ointment 5gm</td>\n",
       "      <td>used for treating warts Wound</td>\n",
       "    </tr>\n",
       "    <tr>\n",
       "      <th>9716</th>\n",
       "      <td>9717</td>\n",
       "      <td>Wokadine 10% Solution 100mlWokadine Solution 5...</td>\n",
       "      <td>used to soften the skin cells Wound</td>\n",
       "    </tr>\n",
       "    <tr>\n",
       "      <th>9717</th>\n",
       "      <td>9718</td>\n",
       "      <td>Wokadine M Onit 10gm</td>\n",
       "      <td>used for scars Wound</td>\n",
       "    </tr>\n",
       "    <tr>\n",
       "      <th>9718</th>\n",
       "      <td>9719</td>\n",
       "      <td>Wound Fix Solution 100ml</td>\n",
       "      <td>used for wounds Wound</td>\n",
       "    </tr>\n",
       "    <tr>\n",
       "      <th>9719</th>\n",
       "      <td>9720</td>\n",
       "      <td>Wounsol Ointment 15gm</td>\n",
       "      <td>used to treat and remove raised warts (usually...</td>\n",
       "    </tr>\n",
       "  </tbody>\n",
       "</table>\n",
       "<p>9720 rows × 3 columns</p>\n",
       "</div>"
      ],
      "text/plain": [
       "      index                                          Drug_Name  \\\n",
       "0         1               A CN Gel(Topical) 20gmA CN Soap 75gm   \n",
       "1         2  A Ret 0.05% Gel 20gmA Ret 0.1% Gel 20gmA Ret 0...   \n",
       "2         3                             ACGEL CL NANO Gel 15gm   \n",
       "3         4                                ACGEL NANO Gel 15gm   \n",
       "4         5                              Acleen 1% Lotion 25ml   \n",
       "...     ...                                                ...   \n",
       "9715   9716                                T Muce Ointment 5gm   \n",
       "9716   9717  Wokadine 10% Solution 100mlWokadine Solution 5...   \n",
       "9717   9718                               Wokadine M Onit 10gm   \n",
       "9718   9719                           Wound Fix Solution 100ml   \n",
       "9719   9720                              Wounsol Ointment 15gm   \n",
       "\n",
       "                                                   tags  \n",
       "0                    Mild to moderate acne (spots) Acne  \n",
       "1     A RET 0.025% is a prescription medicine that i...  \n",
       "2     It is used to treat acne vulgaris in people 12...  \n",
       "3     It is used to treat acne vulgaris in people 12...  \n",
       "4     treat the most severe form of acne (nodular ac...  \n",
       "...                                                 ...  \n",
       "9715                      used for treating warts Wound  \n",
       "9716                used to soften the skin cells Wound  \n",
       "9717                               used for scars Wound  \n",
       "9718                              used for wounds Wound  \n",
       "9719  used to treat and remove raised warts (usually...  \n",
       "\n",
       "[9720 rows x 3 columns]"
      ]
     },
     "execution_count": 17,
     "metadata": {},
     "output_type": "execute_result"
    }
   ],
   "source": [
    "new_df"
   ]
  },
  {
   "cell_type": "code",
   "execution_count": 18,
   "id": "0ba6dadb-6ae5-4504-b67e-2e9cab652883",
   "metadata": {},
   "outputs": [],
   "source": [
    "new_df['tags'] = new_df['tags'].apply(lambda x:x.lower())"
   ]
  },
  {
   "cell_type": "code",
   "execution_count": 19,
   "id": "ba5af6bd-1171-4bc5-9727-019fda6c371a",
   "metadata": {},
   "outputs": [
    {
     "data": {
      "text/html": [
       "<div>\n",
       "<style scoped>\n",
       "    .dataframe tbody tr th:only-of-type {\n",
       "        vertical-align: middle;\n",
       "    }\n",
       "\n",
       "    .dataframe tbody tr th {\n",
       "        vertical-align: top;\n",
       "    }\n",
       "\n",
       "    .dataframe thead th {\n",
       "        text-align: right;\n",
       "    }\n",
       "</style>\n",
       "<table border=\"1\" class=\"dataframe\">\n",
       "  <thead>\n",
       "    <tr style=\"text-align: right;\">\n",
       "      <th></th>\n",
       "      <th>index</th>\n",
       "      <th>Drug_Name</th>\n",
       "      <th>tags</th>\n",
       "    </tr>\n",
       "  </thead>\n",
       "  <tbody>\n",
       "    <tr>\n",
       "      <th>0</th>\n",
       "      <td>1</td>\n",
       "      <td>A CN Gel(Topical) 20gmA CN Soap 75gm</td>\n",
       "      <td>mild to moderate acne (spots) acne</td>\n",
       "    </tr>\n",
       "    <tr>\n",
       "      <th>1</th>\n",
       "      <td>2</td>\n",
       "      <td>A Ret 0.05% Gel 20gmA Ret 0.1% Gel 20gmA Ret 0...</td>\n",
       "      <td>a ret 0.025% is a prescription medicine that i...</td>\n",
       "    </tr>\n",
       "    <tr>\n",
       "      <th>2</th>\n",
       "      <td>3</td>\n",
       "      <td>ACGEL CL NANO Gel 15gm</td>\n",
       "      <td>it is used to treat acne vulgaris in people 12...</td>\n",
       "    </tr>\n",
       "    <tr>\n",
       "      <th>3</th>\n",
       "      <td>4</td>\n",
       "      <td>ACGEL NANO Gel 15gm</td>\n",
       "      <td>it is used to treat acne vulgaris in people 12...</td>\n",
       "    </tr>\n",
       "    <tr>\n",
       "      <th>4</th>\n",
       "      <td>5</td>\n",
       "      <td>Acleen 1% Lotion 25ml</td>\n",
       "      <td>treat the most severe form of acne (nodular ac...</td>\n",
       "    </tr>\n",
       "    <tr>\n",
       "      <th>...</th>\n",
       "      <td>...</td>\n",
       "      <td>...</td>\n",
       "      <td>...</td>\n",
       "    </tr>\n",
       "    <tr>\n",
       "      <th>9715</th>\n",
       "      <td>9716</td>\n",
       "      <td>T Muce Ointment 5gm</td>\n",
       "      <td>used for treating warts wound</td>\n",
       "    </tr>\n",
       "    <tr>\n",
       "      <th>9716</th>\n",
       "      <td>9717</td>\n",
       "      <td>Wokadine 10% Solution 100mlWokadine Solution 5...</td>\n",
       "      <td>used to soften the skin cells wound</td>\n",
       "    </tr>\n",
       "    <tr>\n",
       "      <th>9717</th>\n",
       "      <td>9718</td>\n",
       "      <td>Wokadine M Onit 10gm</td>\n",
       "      <td>used for scars wound</td>\n",
       "    </tr>\n",
       "    <tr>\n",
       "      <th>9718</th>\n",
       "      <td>9719</td>\n",
       "      <td>Wound Fix Solution 100ml</td>\n",
       "      <td>used for wounds wound</td>\n",
       "    </tr>\n",
       "    <tr>\n",
       "      <th>9719</th>\n",
       "      <td>9720</td>\n",
       "      <td>Wounsol Ointment 15gm</td>\n",
       "      <td>used to treat and remove raised warts (usually...</td>\n",
       "    </tr>\n",
       "  </tbody>\n",
       "</table>\n",
       "<p>9720 rows × 3 columns</p>\n",
       "</div>"
      ],
      "text/plain": [
       "      index                                          Drug_Name  \\\n",
       "0         1               A CN Gel(Topical) 20gmA CN Soap 75gm   \n",
       "1         2  A Ret 0.05% Gel 20gmA Ret 0.1% Gel 20gmA Ret 0...   \n",
       "2         3                             ACGEL CL NANO Gel 15gm   \n",
       "3         4                                ACGEL NANO Gel 15gm   \n",
       "4         5                              Acleen 1% Lotion 25ml   \n",
       "...     ...                                                ...   \n",
       "9715   9716                                T Muce Ointment 5gm   \n",
       "9716   9717  Wokadine 10% Solution 100mlWokadine Solution 5...   \n",
       "9717   9718                               Wokadine M Onit 10gm   \n",
       "9718   9719                           Wound Fix Solution 100ml   \n",
       "9719   9720                              Wounsol Ointment 15gm   \n",
       "\n",
       "                                                   tags  \n",
       "0                    mild to moderate acne (spots) acne  \n",
       "1     a ret 0.025% is a prescription medicine that i...  \n",
       "2     it is used to treat acne vulgaris in people 12...  \n",
       "3     it is used to treat acne vulgaris in people 12...  \n",
       "4     treat the most severe form of acne (nodular ac...  \n",
       "...                                                 ...  \n",
       "9715                      used for treating warts wound  \n",
       "9716                used to soften the skin cells wound  \n",
       "9717                               used for scars wound  \n",
       "9718                              used for wounds wound  \n",
       "9719  used to treat and remove raised warts (usually...  \n",
       "\n",
       "[9720 rows x 3 columns]"
      ]
     },
     "execution_count": 19,
     "metadata": {},
     "output_type": "execute_result"
    }
   ],
   "source": [
    "new_df"
   ]
  },
  {
   "cell_type": "code",
   "execution_count": 20,
   "id": "4696852e-275f-43bb-925e-e5533995b709",
   "metadata": {},
   "outputs": [],
   "source": [
    "import nltk"
   ]
  },
  {
   "cell_type": "code",
   "execution_count": 21,
   "id": "cfd93f62-9c38-4af3-8f82-bed24b6efde8",
   "metadata": {},
   "outputs": [],
   "source": [
    "from nltk.stem.porter import PorterStemmer\n",
    "ps = PorterStemmer()"
   ]
  },
  {
   "cell_type": "code",
   "execution_count": 22,
   "id": "aa16d772-994a-4d87-a696-ee3e619b1f2f",
   "metadata": {},
   "outputs": [],
   "source": [
    "from sklearn.feature_extraction.text import CountVectorizer\n",
    "cv = CountVectorizer(stop_words='english',max_features=5000)"
   ]
  },
  {
   "cell_type": "code",
   "execution_count": 23,
   "id": "ab7302bc-7173-42d0-b0e6-cc8cf5861fa7",
   "metadata": {},
   "outputs": [],
   "source": [
    "def stem(text):\n",
    "  y = []\n",
    "\n",
    "  for i in text.split():\n",
    "    y.append(ps.stem(i))\n",
    "\n",
    "  return \" \".join(y) "
   ]
  },
  {
   "cell_type": "code",
   "execution_count": 24,
   "id": "2ab07b80-39b5-471a-98f4-6f0e5a149e98",
   "metadata": {},
   "outputs": [],
   "source": [
    "new_df['tags'] = new_df['tags'].apply(stem)\n"
   ]
  },
  {
   "cell_type": "code",
   "execution_count": 25,
   "id": "fb83bdf1-2b93-4dbe-9c87-9bfd38cd3c15",
   "metadata": {},
   "outputs": [
    {
     "data": {
      "text/plain": [
       "(9720, 806)"
      ]
     },
     "execution_count": 25,
     "metadata": {},
     "output_type": "execute_result"
    }
   ],
   "source": [
    "cv.fit_transform(new_df['tags']).toarray().shape\n"
   ]
  },
  {
   "cell_type": "code",
   "execution_count": 26,
   "id": "b46a5b0a-1137-4648-81d0-31a4eabecd9c",
   "metadata": {},
   "outputs": [],
   "source": [
    "vectors = cv.fit_transform(new_df['tags']).toarray()"
   ]
  },
  {
   "cell_type": "code",
   "execution_count": 27,
   "id": "82e9c9db-ebc6-41d0-85db-016a59e6451b",
   "metadata": {},
   "outputs": [
    {
     "data": {
      "text/plain": [
       "array(['025', '12', '16', '18', 'abdomin', 'abl', 'ach', 'acid', 'acn',\n",
       "       'acne', 'acquir', 'action', 'activ', 'acut', 'acute', 'adequ',\n",
       "       'adhd', 'adjunct', 'adolesc', 'adult', 'adults', 'affect', 'ag',\n",
       "       'age', 'aids', 'allerg', 'allergen', 'allergi', 'allow', 'alon',\n",
       "       'alzheim', 'alzheimer', 'alzheimerâ', 'amoebiasi', 'anaemia',\n",
       "       'anal', 'angina', 'angl', 'ani', 'ankylos', 'anorexia', 'anoth',\n",
       "       'anti', 'antioxid', 'antipsychot', 'antiretrovir', 'anxieti',\n",
       "       'anxiou', 'anxious', 'apnoea', 'appear', 'appetit', 'appetite',\n",
       "       'appli', 'appropri', 'area', 'arrhythmia', 'arrhythmiasi',\n",
       "       'arteri', 'arthralgia', 'arthriti', 'associ', 'atherothrombot',\n",
       "       'athleteâ', 'atop', 'atrial', 'attack', 'awak', 'b1', 'b2', 'b3',\n",
       "       'b5', 'b6', 'babi', 'backache', 'bacteri', 'bacteria', 'balanc',\n",
       "       'balanitis', 'bandag', 'becom', 'behaviour', 'beliefs', 'benefit',\n",
       "       'beta', 'biliari', 'biotin', 'bite', 'blackhead', 'blackheads',\n",
       "       'bleaches', 'bleed', 'bloating', 'block', 'blood', 'bodi', 'bodyâ',\n",
       "       'bon', 'bone', 'bones', 'bowel', 'brain', 'breakdown', 'breath',\n",
       "       'brighten', 'bronchiti', 'brown', 'bursitis', 'calcium', 'calm',\n",
       "       'cancer', 'candid', 'candidiasis', 'canâ', 'carbohydr',\n",
       "       'cardiovascular', 'care', 'carrier', 'cartilag', 'case', 'cases',\n",
       "       'cataract', 'caus', 'cavity', 'cell', 'certain', 'chanc', 'chang',\n",
       "       'characteris', 'chemic', 'chemotherapi', 'chest', 'chickenpox',\n",
       "       'childhood', 'children', 'chlosma', 'cholesterol', 'chronic',\n",
       "       'clean', 'cleaner', 'cleanser', 'clear', 'clot', 'cmv', 'cold',\n",
       "       'colds', 'colic', 'colon', 'colorect', 'coma', 'combin', 'common',\n",
       "       'complet', 'complexion', 'concomit', 'condit', 'conditions',\n",
       "       'confused', 'confusion', 'congestion', 'conjunct', 'consciousness',\n",
       "       'consid', 'consist', 'constip', 'constipation', 'constipationâ',\n",
       "       'continu', 'contracept', 'control', 'contusion', 'convent',\n",
       "       'convulsion', 'corpori', 'corticosteroid', 'cough', 'cramp',\n",
       "       'cream', 'cruri', 'cushion', 'cycl', 'cytomegaloviru',\n",
       "       'cytoprotect', 'd3', 'daili', 'damag', 'dandruff', 'dark', 'death',\n",
       "       'decreas', 'defici', 'degrad', 'degre', 'delay', 'demand',\n",
       "       'dementia', 'dental', 'deposit', 'depress', 'depressed', 'dermat',\n",
       "       'deterg', 'diabet', 'diagnost', 'diarrhea', 'diarrhoea', 'diet',\n",
       "       'differ', 'difficult', 'difficulti', 'digest', 'digestion',\n",
       "       'dilate', 'discolor', 'discoloured', 'diseas', 'disord',\n",
       "       'disorder', 'disorders', 'displac', 'distens', 'dizzi', 'doctor',\n",
       "       'doe', 'drain', 'drained', 'dri', 'drop', 'drowsi', 'drugs',\n",
       "       'dull', 'dure', 'dysmenorrhea', 'ear', 'ears', 'eczema', 'effect',\n",
       "       'effects', 'elbow', 'element', 'emot', 'encephalopathi',\n",
       "       'endometriosi', 'energi', 'energy', 'enhanc', 'enlarg', 'enzym',\n",
       "       'enzyme', 'epicondylitis', 'episod', 'especi', 'essenti', 'event',\n",
       "       'excess', 'exercis', 'exfoli', 'exocrin', 'extern', 'extra', 'eye',\n",
       "       'eyes', 'face', 'fade', 'fail', 'failur', 'failure', 'fast', 'fat',\n",
       "       'fatigue', 'fats', 'fatti', 'febril', 'feed', 'feel', 'feet',\n",
       "       'fever', 'feverish', 'fibril', 'fine', 'fissur', 'flat', 'flatul',\n",
       "       'flatulence', 'flexibl', 'flow', 'flu', 'fluid', 'flutter',\n",
       "       'focus', 'folic', 'follow', 'food', 'foot', 'form', 'format',\n",
       "       'free', 'fresh', 'friction', 'function', 'fungal', 'fungi',\n",
       "       'fungu', 'gain', 'gener', 'genit', 'gland', 'glaucoma', 'glow',\n",
       "       'gonorrhoea', 'good', 'gout', 'gradual', 'gravi', 'growth',\n",
       "       'guilty', 'gum', 'ha', 'haematopoiesi', 'haemorrhoid',\n",
       "       'haemorrhoidectomi', 'haemorrhoids', 'hair', 'hallucinations',\n",
       "       'hands', 'hard', 'hay', 'head', 'headach', 'headache', 'heal',\n",
       "       'health', 'healthy', 'hear', 'hearing', 'heart', 'heartbeat',\n",
       "       'help', 'hepat', 'herp', 'high', 'hiv', 'hives', 'hormon',\n",
       "       'hospit', 'human', 'hygien', 'hypercalcaemia', 'hyperparathyroid',\n",
       "       'hyperpigment', 'hyperpigmentation', 'hypertens', 'hypertension',\n",
       "       'hyperthyroid', 'hypertrophi', 'hypnosi', 'hypotens',\n",
       "       'hypothyroid', 'hypothyroidism', 'hyroid', 'ibs', 'immun',\n",
       "       'immunodefici', 'improv', 'improvesâ', 'includ', 'incoher',\n",
       "       'incomplet', 'increas', 'indic', 'indigest', 'induc', 'infect',\n",
       "       'infection', 'infections', 'infest', 'inflamm', 'inflammationâ',\n",
       "       'inflammatori', 'influenza', 'infrequ', 'inguinalis', 'inhal',\n",
       "       'inhibitor', 'injuri', 'inner', 'insect', 'insid', 'insomnia',\n",
       "       'insufficiencyâ', 'integr', 'intens', 'interdigit', 'intern',\n",
       "       'interrupt', 'intestin', 'intestinal', 'intoler', 'invas',\n",
       "       'involuntari', 'iodine', 'iritis', 'iron', 'irrit', 'isâ', 'itch',\n",
       "       'itâ', 'jewelleri', 'jock', 'joint', 'kidney', 'kit', 'knees',\n",
       "       'known', 'lack', 'lactat', 'lead', 'learning', 'left', 'level',\n",
       "       'lice', 'life', 'ligaments', 'line', 'lip', 'liquid', 'liv',\n",
       "       'live', 'liver', 'long', 'look', 'lose', 'loss', 'lotion', 'lower',\n",
       "       'lowersâ', 'lowerâ', 'lung', 'lvh', 'mainli', 'maintain', 'major',\n",
       "       'make', 'malari', 'malaria', 'malignancies', 'manag', 'manganese',\n",
       "       'mani', 'manuum', 'marrow', 'medic', 'medicin', 'melanin',\n",
       "       'melasma', 'mellitu', 'memori', 'men', 'mening', 'menopaus',\n",
       "       'mental', 'metabol', 'methyl', 'micronutri', 'migrain', 'migraine',\n",
       "       'mild', 'milk', 'miner', 'minor', 'mistaken', 'mobil', 'moder',\n",
       "       'moderate', 'moistur', 'molybdenum', 'motion', 'movement',\n",
       "       'movements', 'muscl', 'muscular', 'musculoskelet', 'myalgia',\n",
       "       'myasthenia', 'mydriasi', 'myeloid', 'narrow', 'nasal', 'natur',\n",
       "       'nausea', 'need', 'nephropathy', 'nerv', 'nervosa', 'nervousness',\n",
       "       'nettl', 'neuralgia', 'neutral', 'newborns', 'nodular', 'non',\n",
       "       'normal', 'nose', 'nutrient', 'nutrit', 'occur', 'ocular', 'ofâ',\n",
       "       'oili', 'older', 'onli', 'op', 'open', 'oper', 'oral', 'origin',\n",
       "       'osteoarthr', 'osteodystrophy', 'osteoporosi', 'oxid', 'oxidation',\n",
       "       'pah', 'pain', 'pancrea', 'paralys', 'parathyroid', 'parkinson',\n",
       "       'parkinsonâ', 'passag', 'patch', 'patches', 'patient', 'patientsâ',\n",
       "       'pectori', 'pectoris', 'pedis', 'pelvic', 'penil', 'peopl',\n",
       "       'peptid', 'period', 'physic', 'piles', 'pimpl', 'pimple',\n",
       "       'pityriasi', 'polysaccharid', 'portal', 'post', 'potent', 'power',\n",
       "       'pre', 'prednisolon', 'pregnanc', 'prematur', 'preoper',\n",
       "       'prescrib', 'prescript', 'present', 'pressur', 'prevent', 'prexia',\n",
       "       'primari', 'prinzmet', 'problem', 'procedur', 'process',\n",
       "       'proctiti', 'produc', 'product', 'progress', 'prolactin', 'promot',\n",
       "       'properti', 'protect', 'provid', 'pseudo', 'psychosi',\n",
       "       'psychosomat', 'pulmonari', 'pupil', 'pyrexia', 'rabi', 'radicals',\n",
       "       'radiculitis', 'rais', 'rarer', 'rash', 'react', 'reaction',\n",
       "       'receiv', 'recommend', 'red', 'reduc', 'reduct', 'refer',\n",
       "       'regener', 'regimen', 'relat', 'releief', 'relief', 'reliev',\n",
       "       'reliv', 'remov', 'renal', 'repair', 'replac', 'reproduct',\n",
       "       'resist', 'respiratori', 'respond', 'respons', 'restor', 'ret',\n",
       "       'retin', 'rheumat', 'ring', 'ringworm', 'root', 'rosacea', 'scabi',\n",
       "       'scali', 'scalp', 'scar', 'schizophren', 'schizophrenia',\n",
       "       'seborrh', 'sed', 'sedat', 'sens', 'sever', 'shingl', 'short',\n",
       "       'sick', 'sickness', 'silki', 'simpl', 'simplex', 'sinusitis',\n",
       "       'skelet', 'skin', 'skinâ', 'sleep', 'slow', 'small', 'smoke',\n",
       "       'smooth', 'soaps', 'soar', 'soft', 'soften', 'soothen', 'sore',\n",
       "       'sores', 'spasmod', 'speech', 'speed', 'spondyl', 'spot', 'spots',\n",
       "       'sprain', 'spread', 'stabil', 'starch', 'start', 'state',\n",
       "       'steroids', 'stiff', 'stomach', 'stools', 'stop', 'strains',\n",
       "       'strengthen', 'stroke', 'structur', 'substanc', 'suffer', 'sugar',\n",
       "       'sunburn', 'sunscreen', 'suppl', 'supplement', 'support',\n",
       "       'surgeri', 'surgeryâ', 'surgic', 'suspiciousness', 'sweat',\n",
       "       'swell', 'swelling', 'swollen', 'symptom', 'symptomat', 'symptoms',\n",
       "       'syndrom', 'synovi', 'synovitis', 'synthesi', 'synthet',\n",
       "       'syphilis', 'tablet', 'tachycardia', 'task', 'temperature',\n",
       "       'tender', 'tendonitis', 'tens', 'term', 'textur', 'therapi',\n",
       "       'therebi', 'thi', 'thing', 'throat', 'thrombolysi', 'thrush',\n",
       "       'thu', 'thyroid', 'thyroxin', 'time', 'tinea', 'tinnitus', 'tissu',\n",
       "       'tissues', 'toe', 'tone', 'tonsil', 'tonsilitis', 'tonsillectomi',\n",
       "       'toothach', 'toothache', 'topic', 'trace', 'tract', 'transmit',\n",
       "       'transplant', 'trauma', 'traumat', 'travel', 'treat', 'treatment',\n",
       "       'treatsâ', 'treatâ', 'tremor', 'triglycerid', 'tubercular', 'type',\n",
       "       'ulcer', 'unabl', 'unbalanc', 'uncompl', 'uneven', 'unstabl',\n",
       "       'unusu', 'unwant', 'upper', 'uptak', 'urate', 'uretericâ', 'uric',\n",
       "       'urinaryâ', 'use', 'uses', 'usual', 'uveiti', 'vaccin', 'vagin',\n",
       "       'variant', 'varieti', 'ventricular', 'verruca', 'versicolor',\n",
       "       'vertigo', 'vessel', 'viral', 'viru', 'virus', 'vitamin',\n",
       "       'vitamins', 'volume', 'vomit', 'vulgari', 'vulgarisâ', 'wall',\n",
       "       'wart', 'wash', 'weak', 'weaken', 'weight', 'wet', 'whichâ',\n",
       "       'whilst', 'white', 'widen', 'withdrawn', 'womb', 'women', 'work',\n",
       "       'worsen', 'wound', 'wrinkl', 'wrinkles', 'year', 'younger', 'zinc',\n",
       "       'œpancreat'], dtype=object)"
      ]
     },
     "execution_count": 27,
     "metadata": {},
     "output_type": "execute_result"
    }
   ],
   "source": [
    "cv.get_feature_names_out()"
   ]
  },
  {
   "cell_type": "code",
   "execution_count": 28,
   "id": "7bdfacb3-88ba-4735-9f00-84d052433209",
   "metadata": {},
   "outputs": [],
   "source": [
    "from sklearn.metrics.pairwise import cosine_similarity\n"
   ]
  },
  {
   "cell_type": "code",
   "execution_count": 29,
   "id": "5d81cf86-4faa-4a4b-8e17-dfe96237bc91",
   "metadata": {},
   "outputs": [
    {
     "data": {
      "text/plain": [
       "array([[1.        , 0.25197632, 0.43643578, ..., 0.        , 0.        ,\n",
       "        0.        ],\n",
       "       [0.25197632, 1.        , 0.25660012, ..., 0.19245009, 0.1490712 ,\n",
       "        0.0860663 ],\n",
       "       [0.43643578, 0.25660012, 1.        , ..., 0.11111111, 0.0860663 ,\n",
       "        0.0993808 ],\n",
       "       ...,\n",
       "       [0.        , 0.19245009, 0.11111111, ..., 1.        , 0.77459667,\n",
       "        0.2981424 ],\n",
       "       [0.        , 0.1490712 , 0.0860663 , ..., 0.77459667, 1.        ,\n",
       "        0.34641016],\n",
       "       [0.        , 0.0860663 , 0.0993808 , ..., 0.2981424 , 0.34641016,\n",
       "        1.        ]])"
      ]
     },
     "execution_count": 29,
     "metadata": {},
     "output_type": "execute_result"
    }
   ],
   "source": [
    "cosine_similarity(vectors)"
   ]
  },
  {
   "cell_type": "code",
   "execution_count": 30,
   "id": "8bef2208-5026-4a6e-84c9-d9ef32242941",
   "metadata": {},
   "outputs": [],
   "source": [
    "similarity = cosine_similarity(vectors)"
   ]
  },
  {
   "cell_type": "code",
   "execution_count": 31,
   "id": "494dd174-6a89-4484-a088-6abba662e3e3",
   "metadata": {},
   "outputs": [
    {
     "data": {
      "text/plain": [
       "array([0.25197632, 1.        , 0.25660012, ..., 0.19245009, 0.1490712 ,\n",
       "       0.0860663 ])"
      ]
     },
     "execution_count": 31,
     "metadata": {},
     "output_type": "execute_result"
    }
   ],
   "source": [
    "similarity[1]"
   ]
  },
  {
   "cell_type": "code",
   "execution_count": 38,
   "id": "8b7c6f78-030b-45aa-9955-2d89781f17d3",
   "metadata": {},
   "outputs": [
    {
     "name": "stdout",
     "output_type": "stream",
     "text": [
      "ACGEL NANO Gel 15gm\n",
      "Acnehit Gel 15gm\n",
      "Acnelak Soap 75gm\n",
      "Acnetor AD 1% Ointment 15gm\n",
      "Acnetor AD Cream 15Acnetor AD Gel 15gm\n"
     ]
    }
   ],
   "source": [
    "def recommend(medicine):\n",
    "    medicine_index = new_df[new_df['Drug_Name'] == medicine].index[0]\n",
    "    distances = similarity[medicine_index]\n",
    "    medicines_list = sorted(list(enumerate(distances)),reverse=True,key=lambda x:x[1])[1:6]\n",
    "    \n",
    "    for i in medicines_list:\n",
    "        print(new_df.iloc[i[0]].Drug_Name)\n",
    "recommend(\"ACGEL CL NANO Gel 15gm\")\n"
   ]
  },
  {
   "cell_type": "code",
   "execution_count": 45,
   "id": "760ed75d-9cfb-48ab-a360-2f1507b37d38",
   "metadata": {},
   "outputs": [
    {
     "name": "stdout",
     "output_type": "stream",
     "text": [
      "Cachpar 500mg Tablet 10'S\n",
      "Babygesic 250mg Syrup 60mlBabygesic 125mg Syrup 60ml\n",
      "Calpol 100mg Drops 15mlCalpol 650mg Tablet 10'SCalpol 500mg Tablet 500'SCalpol 500mg Tablet 10'S\n",
      "Calipar 250mg Syrup 60ml\n",
      "Brucet 400/333mg Tablet 3'S\n"
     ]
    }
   ],
   "source": [
    "\n",
    "from sklearn.feature_extraction.text import TfidfVectorizer\n",
    "from sklearn.metrics.pairwise import linear_kernel\n",
    "\n",
    "\n",
    "# Create TF-IDF vectors for the tags column\n",
    "tfidf = TfidfVectorizer(stop_words='english')\n",
    "tfidf_matrix = tfidf.fit_transform(new_df['tags'])\n",
    "\n",
    "# Compute cosine similarity matrix\n",
    "cosine_sim = linear_kernel(tfidf_matrix, tfidf_matrix)\n",
    "\n",
    "def recommend(symptoms):\n",
    "    # Transform input symptoms to the same tf-idf vector space\n",
    "    symptoms_tfidf = tfidf.transform([symptoms])\n",
    "    \n",
    "    # Compute cosine similarity between the input symptoms and all medicines\n",
    "    cosine_similarities = linear_kernel(symptoms_tfidf, tfidf_matrix).flatten()\n",
    "    \n",
    "    # Get top 5 similar medicines\n",
    "    related_docs_indices = cosine_similarities.argsort()[:-6:-1]\n",
    "    \n",
    "    for index in related_docs_indices:\n",
    "        print(new_df.iloc[index]['Drug_Name'])\n",
    "\n",
    "# Example use\n",
    "recommend(\"fever\")\n"
   ]
  },
  {
   "cell_type": "code",
   "execution_count": null,
   "id": "58d433fc-e655-48d0-8042-0f79c4576e75",
   "metadata": {},
   "outputs": [],
   "source": []
  }
 ],
 "metadata": {
  "kernelspec": {
   "display_name": "Python 3 (ipykernel)",
   "language": "python",
   "name": "python3"
  },
  "language_info": {
   "codemirror_mode": {
    "name": "ipython",
    "version": 3
   },
   "file_extension": ".py",
   "mimetype": "text/x-python",
   "name": "python",
   "nbconvert_exporter": "python",
   "pygments_lexer": "ipython3",
   "version": "3.10.13"
  }
 },
 "nbformat": 4,
 "nbformat_minor": 5
}
