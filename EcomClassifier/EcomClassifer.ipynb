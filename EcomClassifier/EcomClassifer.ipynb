{
 "cells": [
  {
   "cell_type": "code",
   "execution_count": 1,
   "id": "8f5ec784-9f68-4914-9e1b-c4e4dec6c701",
   "metadata": {},
   "outputs": [],
   "source": [
    "%config Completer.use_jedi = False"
   ]
  },
  {
   "cell_type": "code",
   "execution_count": 2,
   "id": "adf7f806-8323-4407-8f7b-65c957edd68d",
   "metadata": {},
   "outputs": [],
   "source": [
    "import numpy as np\n",
    "import pandas as pd\n"
   ]
  },
  {
   "cell_type": "markdown",
   "id": "04fb818c-7616-40bd-b201-163b47df234c",
   "metadata": {},
   "source": [
    "1. Data cleaning\n",
    "2. EDA\n",
    "3. Text Preprocessing\n",
    "4. Model building\n",
    "5. Evaluation\n",
    "6. Improvement\n"
   ]
  },
  {
   "cell_type": "code",
   "execution_count": 3,
   "id": "59049e13-64f8-460a-9138-3c84d55dd7ba",
   "metadata": {},
   "outputs": [
    {
     "data": {
      "text/plain": [
       "Index(['Household', 'Paper Plane Design Framed Wall Hanging Motivational Office Decor Art Prints (8.7 X 8.7 inch) - Set of 4 Painting made up in synthetic frame with uv textured print which gives multi effects and attracts towards it. This is an special series of paintings which makes your wall very beautiful and gives a royal touch. This painting is ready to hang, you would be proud to possess this unique painting that is a niche apart. We use only the most modern and efficient printing technology on our prints, with only the and inks and precision epson, roland and hp printers. This innovative hd printing technique results in durable and spectacular looking prints of the highest that last a lifetime. We print solely with top-notch 100% inks, to achieve brilliant and true colours. Due to their high level of uv resistance, our prints retain their beautiful colours for many years. Add colour and style to your living space with this digitally printed painting. Some are for pleasure and some for eternal bliss.so bring home this elegant print that is lushed with rich colors that makes it nothing but sheer elegance to be to your friends and family.it would be treasured forever by whoever your lucky recipient is. Liven up your place with these intriguing paintings that are high definition hd graphic digital prints for home, office or any room.'], dtype='object')"
      ]
     },
     "execution_count": 3,
     "metadata": {},
     "output_type": "execute_result"
    }
   ],
   "source": [
    "#Reding data from csv\n",
    "df=pd.read_csv(\"ecommerceDataset.csv\")\n",
    "df.columns"
   ]
  },
  {
   "cell_type": "markdown",
   "id": "e5f01da8-b1d1-4e16-96e5-94372fbd2a5b",
   "metadata": {},
   "source": [
    "### DATA CLEANING"
   ]
  },
  {
   "cell_type": "markdown",
   "id": "9adf97d1-d53b-4560-94c4-7ad128451e83",
   "metadata": {},
   "source": [
    "### Here first row is taken as feature names so modify that"
   ]
  },
  {
   "cell_type": "code",
   "execution_count": 4,
   "id": "d852353b-a326-45f2-9d4e-90bc57a7deb6",
   "metadata": {},
   "outputs": [
    {
     "data": {
      "text/html": [
       "<div>\n",
       "<style scoped>\n",
       "    .dataframe tbody tr th:only-of-type {\n",
       "        vertical-align: middle;\n",
       "    }\n",
       "\n",
       "    .dataframe tbody tr th {\n",
       "        vertical-align: top;\n",
       "    }\n",
       "\n",
       "    .dataframe thead th {\n",
       "        text-align: right;\n",
       "    }\n",
       "</style>\n",
       "<table border=\"1\" class=\"dataframe\">\n",
       "  <thead>\n",
       "    <tr style=\"text-align: right;\">\n",
       "      <th></th>\n",
       "      <th>0</th>\n",
       "      <th>1</th>\n",
       "    </tr>\n",
       "  </thead>\n",
       "  <tbody>\n",
       "    <tr>\n",
       "      <th>0</th>\n",
       "      <td>Household</td>\n",
       "      <td>Paper Plane Design Framed Wall Hanging Motivat...</td>\n",
       "    </tr>\n",
       "    <tr>\n",
       "      <th>1</th>\n",
       "      <td>Household</td>\n",
       "      <td>SAF 'Floral' Framed Painting (Wood, 30 inch x ...</td>\n",
       "    </tr>\n",
       "    <tr>\n",
       "      <th>2</th>\n",
       "      <td>Household</td>\n",
       "      <td>SAF 'UV Textured Modern Art Print Framed' Pain...</td>\n",
       "    </tr>\n",
       "    <tr>\n",
       "      <th>3</th>\n",
       "      <td>Household</td>\n",
       "      <td>SAF Flower Print Framed Painting (Synthetic, 1...</td>\n",
       "    </tr>\n",
       "    <tr>\n",
       "      <th>4</th>\n",
       "      <td>Household</td>\n",
       "      <td>Incredible Gifts India Wooden Happy Birthday U...</td>\n",
       "    </tr>\n",
       "    <tr>\n",
       "      <th>...</th>\n",
       "      <td>...</td>\n",
       "      <td>...</td>\n",
       "    </tr>\n",
       "    <tr>\n",
       "      <th>50420</th>\n",
       "      <td>Electronics</td>\n",
       "      <td>Strontium MicroSD Class 10 8GB Memory Card (Bl...</td>\n",
       "    </tr>\n",
       "    <tr>\n",
       "      <th>50421</th>\n",
       "      <td>Electronics</td>\n",
       "      <td>CrossBeats Wave Waterproof Bluetooth Wireless ...</td>\n",
       "    </tr>\n",
       "    <tr>\n",
       "      <th>50422</th>\n",
       "      <td>Electronics</td>\n",
       "      <td>Karbonn Titanium Wind W4 (White) Karbonn Titan...</td>\n",
       "    </tr>\n",
       "    <tr>\n",
       "      <th>50423</th>\n",
       "      <td>Electronics</td>\n",
       "      <td>Samsung Guru FM Plus (SM-B110E/D, Black) Colou...</td>\n",
       "    </tr>\n",
       "    <tr>\n",
       "      <th>50424</th>\n",
       "      <td>Electronics</td>\n",
       "      <td>Micromax Canvas Win W121 (White)</td>\n",
       "    </tr>\n",
       "  </tbody>\n",
       "</table>\n",
       "<p>50425 rows × 2 columns</p>\n",
       "</div>"
      ],
      "text/plain": [
       "                 0                                                  1\n",
       "0        Household  Paper Plane Design Framed Wall Hanging Motivat...\n",
       "1        Household  SAF 'Floral' Framed Painting (Wood, 30 inch x ...\n",
       "2        Household  SAF 'UV Textured Modern Art Print Framed' Pain...\n",
       "3        Household  SAF Flower Print Framed Painting (Synthetic, 1...\n",
       "4        Household  Incredible Gifts India Wooden Happy Birthday U...\n",
       "...            ...                                                ...\n",
       "50420  Electronics  Strontium MicroSD Class 10 8GB Memory Card (Bl...\n",
       "50421  Electronics  CrossBeats Wave Waterproof Bluetooth Wireless ...\n",
       "50422  Electronics  Karbonn Titanium Wind W4 (White) Karbonn Titan...\n",
       "50423  Electronics  Samsung Guru FM Plus (SM-B110E/D, Black) Colou...\n",
       "50424  Electronics                   Micromax Canvas Win W121 (White)\n",
       "\n",
       "[50425 rows x 2 columns]"
      ]
     },
     "execution_count": 4,
     "metadata": {},
     "output_type": "execute_result"
    }
   ],
   "source": [
    "df=pd.read_csv(\"ecommerceDataset.csv\",header=None)\n",
    "df"
   ]
  },
  {
   "cell_type": "code",
   "execution_count": 5,
   "id": "55035f42-9b42-42eb-8ed8-884c4caf06df",
   "metadata": {},
   "outputs": [
    {
     "data": {
      "text/plain": [
       "(50425, 2)"
      ]
     },
     "execution_count": 5,
     "metadata": {},
     "output_type": "execute_result"
    }
   ],
   "source": [
    "df.shape"
   ]
  },
  {
   "cell_type": "code",
   "execution_count": 6,
   "id": "34d7532a-db8e-4317-8e73-033dee826871",
   "metadata": {},
   "outputs": [
    {
     "name": "stdout",
     "output_type": "stream",
     "text": [
      "<class 'pandas.core.frame.DataFrame'>\n",
      "RangeIndex: 50425 entries, 0 to 50424\n",
      "Data columns (total 2 columns):\n",
      " #   Column  Non-Null Count  Dtype \n",
      "---  ------  --------------  ----- \n",
      " 0   0       50425 non-null  object\n",
      " 1   1       50424 non-null  object\n",
      "dtypes: object(2)\n",
      "memory usage: 788.0+ KB\n"
     ]
    }
   ],
   "source": [
    "df.info()"
   ]
  },
  {
   "cell_type": "code",
   "execution_count": 7,
   "id": "39a537ec-d319-4b49-8ca8-739ab04ea356",
   "metadata": {},
   "outputs": [
    {
     "data": {
      "text/html": [
       "<div>\n",
       "<style scoped>\n",
       "    .dataframe tbody tr th:only-of-type {\n",
       "        vertical-align: middle;\n",
       "    }\n",
       "\n",
       "    .dataframe tbody tr th {\n",
       "        vertical-align: top;\n",
       "    }\n",
       "\n",
       "    .dataframe thead th {\n",
       "        text-align: right;\n",
       "    }\n",
       "</style>\n",
       "<table border=\"1\" class=\"dataframe\">\n",
       "  <thead>\n",
       "    <tr style=\"text-align: right;\">\n",
       "      <th></th>\n",
       "      <th>0</th>\n",
       "      <th>1</th>\n",
       "    </tr>\n",
       "  </thead>\n",
       "  <tbody>\n",
       "    <tr>\n",
       "      <th>count</th>\n",
       "      <td>50425</td>\n",
       "      <td>50424</td>\n",
       "    </tr>\n",
       "    <tr>\n",
       "      <th>unique</th>\n",
       "      <td>4</td>\n",
       "      <td>27802</td>\n",
       "    </tr>\n",
       "    <tr>\n",
       "      <th>top</th>\n",
       "      <td>Household</td>\n",
       "      <td>Think &amp; Grow Rich About the Author NAPOLEON HI...</td>\n",
       "    </tr>\n",
       "    <tr>\n",
       "      <th>freq</th>\n",
       "      <td>19313</td>\n",
       "      <td>30</td>\n",
       "    </tr>\n",
       "  </tbody>\n",
       "</table>\n",
       "</div>"
      ],
      "text/plain": [
       "                0                                                  1\n",
       "count       50425                                              50424\n",
       "unique          4                                              27802\n",
       "top     Household  Think & Grow Rich About the Author NAPOLEON HI...\n",
       "freq        19313                                                 30"
      ]
     },
     "execution_count": 7,
     "metadata": {},
     "output_type": "execute_result"
    }
   ],
   "source": [
    "df.describe()"
   ]
  },
  {
   "cell_type": "code",
   "execution_count": null,
   "id": "91a12700-7973-4072-a99e-35eebfd2f1df",
   "metadata": {},
   "outputs": [],
   "source": []
  },
  {
   "cell_type": "code",
   "execution_count": 8,
   "id": "1cb17f58-b3b5-4e2d-a928-2d4e72c77417",
   "metadata": {},
   "outputs": [
    {
     "data": {
      "text/html": [
       "<div>\n",
       "<style scoped>\n",
       "    .dataframe tbody tr th:only-of-type {\n",
       "        vertical-align: middle;\n",
       "    }\n",
       "\n",
       "    .dataframe tbody tr th {\n",
       "        vertical-align: top;\n",
       "    }\n",
       "\n",
       "    .dataframe thead th {\n",
       "        text-align: right;\n",
       "    }\n",
       "</style>\n",
       "<table border=\"1\" class=\"dataframe\">\n",
       "  <thead>\n",
       "    <tr style=\"text-align: right;\">\n",
       "      <th></th>\n",
       "      <th>Label</th>\n",
       "      <th>Text</th>\n",
       "    </tr>\n",
       "  </thead>\n",
       "  <tbody>\n",
       "    <tr>\n",
       "      <th>49412</th>\n",
       "      <td>Electronics</td>\n",
       "      <td>Kotion Each GS410 Headphones with Mic and for ...</td>\n",
       "    </tr>\n",
       "    <tr>\n",
       "      <th>39712</th>\n",
       "      <td>Clothing &amp; Accessories</td>\n",
       "      <td>GOODTRY Women's Cotton Hoodies-Charcoal Melang...</td>\n",
       "    </tr>\n",
       "    <tr>\n",
       "      <th>23000</th>\n",
       "      <td>Books</td>\n",
       "      <td>Essays ? First Series</td>\n",
       "    </tr>\n",
       "    <tr>\n",
       "      <th>1529</th>\n",
       "      <td>Household</td>\n",
       "      <td>Mollismoons Without Beans Luxury Fur and Leath...</td>\n",
       "    </tr>\n",
       "    <tr>\n",
       "      <th>16031</th>\n",
       "      <td>Household</td>\n",
       "      <td>Samsung 6.2 kg Fully-Automatic Top load Washin...</td>\n",
       "    </tr>\n",
       "  </tbody>\n",
       "</table>\n",
       "</div>"
      ],
      "text/plain": [
       "                        Label  \\\n",
       "49412             Electronics   \n",
       "39712  Clothing & Accessories   \n",
       "23000                   Books   \n",
       "1529                Household   \n",
       "16031               Household   \n",
       "\n",
       "                                                    Text  \n",
       "49412  Kotion Each GS410 Headphones with Mic and for ...  \n",
       "39712  GOODTRY Women's Cotton Hoodies-Charcoal Melang...  \n",
       "23000                             Essays ? First Series   \n",
       "1529   Mollismoons Without Beans Luxury Fur and Leath...  \n",
       "16031  Samsung 6.2 kg Fully-Automatic Top load Washin...  "
      ]
     },
     "execution_count": 8,
     "metadata": {},
     "output_type": "execute_result"
    }
   ],
   "source": [
    "df.columns = ['Label', 'Text'] \n",
    "df.sample(5)"
   ]
  },
  {
   "cell_type": "code",
   "execution_count": 9,
   "id": "37cd3fa2-e8ce-4bfd-a2ad-a06f76f27e47",
   "metadata": {},
   "outputs": [
    {
     "data": {
      "text/plain": [
       "Label    0\n",
       "Text     1\n",
       "dtype: int64"
      ]
     },
     "execution_count": 9,
     "metadata": {},
     "output_type": "execute_result"
    }
   ],
   "source": [
    "# missing values\n",
    "df.isnull().sum()"
   ]
  },
  {
   "cell_type": "code",
   "execution_count": 10,
   "id": "ab246608-e93a-4461-9123-384202bc306b",
   "metadata": {},
   "outputs": [],
   "source": [
    "# 1 missing value in almost 40k+ rows so drop that row\n",
    "# missing values\n",
    "df=df.dropna()\n"
   ]
  },
  {
   "cell_type": "markdown",
   "id": "9acd28f5-e335-4408-b906-bf101da2ef9d",
   "metadata": {},
   "source": [
    "### EXPLORATORY DATA ANALYSIS"
   ]
  },
  {
   "cell_type": "code",
   "execution_count": 11,
   "id": "e652581b-1f73-4670-a6f9-beca5dc1df62",
   "metadata": {},
   "outputs": [
    {
     "data": {
      "text/plain": [
       "Label\n",
       "Household                 19313\n",
       "Books                     11820\n",
       "Electronics               10621\n",
       "Clothing & Accessories     8670\n",
       "Name: count, dtype: int64"
      ]
     },
     "execution_count": 11,
     "metadata": {},
     "output_type": "execute_result"
    }
   ],
   "source": [
    "df[\"Label\"].value_counts()"
   ]
  },
  {
   "cell_type": "markdown",
   "id": "deb730e0-cb87-4aa8-9729-247d3f2ebea2",
   "metadata": {},
   "source": [
    "### These values do show some imbalance across the categories.Lets put it on pie chart and see their distribution\n"
   ]
  },
  {
   "cell_type": "code",
   "execution_count": 12,
   "id": "ba22d5fd-df66-4e05-97e8-da85b0d25c55",
   "metadata": {},
   "outputs": [
    {
     "data": {
      "image/png": "[encoded data removed]",
      "text/plain": [
       "<Figure size 1000x600 with 1 Axes>"
      ]
     },
     "metadata": {},
     "output_type": "display_data"
    }
   ],
   "source": [
    "import matplotlib.pyplot as plt\n",
    "\n",
    "# Assuming df is your DataFrame\n",
    "categories = df['Text'].unique()\n",
    "values = df['Label'].value_counts()\n",
    "\n",
    "# Plotting the pie chart\n",
    "plt.figure(figsize=(10, 6))\n",
    "plt.pie(values, labels=values.index, autopct='%1.1f%%', startangle=140, colors=plt.cm.Paired.colors)\n",
    "plt.title('Category Distribution')\n",
    "plt.axis('equal')  # Equal aspect ratio ensures the pie is drawn as a circle.\n",
    "plt.show()\n"
   ]
  },
  {
   "cell_type": "markdown",
   "id": "4ef797f8-b2fd-4296-a944-7bef67234a3f",
   "metadata": {},
   "source": [
    "### Here we can see Household occupies around 38 percent and clothing and accessories is only 17 percent which is less than half.\n",
    "\n",
    "### Model Performance: Classifiers might get biased towards the majority class (Household) because it has more training examples.\n",
    "\n",
    "### So we can use class_weight='balanced' parameter to save model from getting deviated towards the large samples category"
   ]
  },
  {
   "cell_type": "markdown",
   "id": "edd9902d-8c90-4fb7-8391-73f139c9538e",
   "metadata": {},
   "source": [
    "Converting categorical labels to numerical values in part of EDA"
   ]
  },
  {
   "cell_type": "markdown",
   "id": "754e12fa-7ba9-4f73-8329-5f5ac009c3e8",
   "metadata": {},
   "source": [
    "First lets try training the model directly and get performance metrics then We can try improving the model using various techniques and more optimal model with less computational energy."
   ]
  },
  {
   "cell_type": "code",
   "execution_count": 13,
   "id": "89591e6f-515e-45d5-a0b4-0d5ce5d08e26",
   "metadata": {},
   "outputs": [
    {
     "name": "stderr",
     "output_type": "stream",
     "text": [
      "C:\\Users\\somna\\AppData\\Local\\Temp\\ipykernel_300\\2912694957.py:2: SettingWithCopyWarning: \n",
      "A value is trying to be set on a copy of a slice from a DataFrame.\n",
      "Try using .loc[row_indexer,col_indexer] = value instead\n",
      "\n",
      "See the caveats in the documentation: https://pandas.pydata.org/pandas-docs/stable/user_guide/indexing.html#returning-a-view-versus-a-copy\n",
      "  df['label_num'] = df['Label'].map({\n"
     ]
    },
    {
     "data": {
      "text/html": [
       "<div>\n",
       "<style scoped>\n",
       "    .dataframe tbody tr th:only-of-type {\n",
       "        vertical-align: middle;\n",
       "    }\n",
       "\n",
       "    .dataframe tbody tr th {\n",
       "        vertical-align: top;\n",
       "    }\n",
       "\n",
       "    .dataframe thead th {\n",
       "        text-align: right;\n",
       "    }\n",
       "</style>\n",
       "<table border=\"1\" class=\"dataframe\">\n",
       "  <thead>\n",
       "    <tr style=\"text-align: right;\">\n",
       "      <th></th>\n",
       "      <th>Label</th>\n",
       "      <th>Text</th>\n",
       "      <th>label_num</th>\n",
       "    </tr>\n",
       "  </thead>\n",
       "  <tbody>\n",
       "    <tr>\n",
       "      <th>12305</th>\n",
       "      <td>Household</td>\n",
       "      <td>Lyra Glassware Galata Long Drink Glass Set, 34...</td>\n",
       "      <td>0</td>\n",
       "    </tr>\n",
       "    <tr>\n",
       "      <th>14040</th>\n",
       "      <td>Household</td>\n",
       "      <td>Inalsa Panache 1400-Watt Steam Iron (White/Roy...</td>\n",
       "      <td>0</td>\n",
       "    </tr>\n",
       "    <tr>\n",
       "      <th>49127</th>\n",
       "      <td>Electronics</td>\n",
       "      <td>Greatech Cases Mobile Charging Stand Wall Hold...</td>\n",
       "      <td>2</td>\n",
       "    </tr>\n",
       "    <tr>\n",
       "      <th>15807</th>\n",
       "      <td>Household</td>\n",
       "      <td>Shreeji Ethnic Powerful Portable and High Powe...</td>\n",
       "      <td>0</td>\n",
       "    </tr>\n",
       "    <tr>\n",
       "      <th>6824</th>\n",
       "      <td>Household</td>\n",
       "      <td>Kuber Industries PVC 6 Seater Transparent Dini...</td>\n",
       "      <td>0</td>\n",
       "    </tr>\n",
       "  </tbody>\n",
       "</table>\n",
       "</div>"
      ],
      "text/plain": [
       "             Label                                               Text  \\\n",
       "12305    Household  Lyra Glassware Galata Long Drink Glass Set, 34...   \n",
       "14040    Household  Inalsa Panache 1400-Watt Steam Iron (White/Roy...   \n",
       "49127  Electronics  Greatech Cases Mobile Charging Stand Wall Hold...   \n",
       "15807    Household  Shreeji Ethnic Powerful Portable and High Powe...   \n",
       "6824     Household  Kuber Industries PVC 6 Seater Transparent Dini...   \n",
       "\n",
       "       label_num  \n",
       "12305          0  \n",
       "14040          0  \n",
       "49127          2  \n",
       "15807          0  \n",
       "6824           0  "
      ]
     },
     "execution_count": 13,
     "metadata": {},
     "output_type": "execute_result"
    }
   ],
   "source": [
    "# Add the new column which gives a unique number to each of these labels\n",
    "df['label_num'] = df['Label'].map({\n",
    "    'Household': 0, \n",
    "    'Books': 1, \n",
    "    'Electronics': 2, \n",
    "    'Clothing & Accessories': 3\n",
    "})\n",
    "\n",
    "# Checking the results\n",
    "df.sample(5)\n"
   ]
  },
  {
   "cell_type": "code",
   "execution_count": 14,
   "id": "dc72a2fa-5df7-4a1d-8b59-2a037e165cfa",
   "metadata": {},
   "outputs": [
    {
     "data": {
      "text/html": [
       "<div>\n",
       "<style scoped>\n",
       "    .dataframe tbody tr th:only-of-type {\n",
       "        vertical-align: middle;\n",
       "    }\n",
       "\n",
       "    .dataframe tbody tr th {\n",
       "        vertical-align: top;\n",
       "    }\n",
       "\n",
       "    .dataframe thead th {\n",
       "        text-align: right;\n",
       "    }\n",
       "</style>\n",
       "<table border=\"1\" class=\"dataframe\">\n",
       "  <thead>\n",
       "    <tr style=\"text-align: right;\">\n",
       "      <th></th>\n",
       "      <th>Text</th>\n",
       "      <th>label_num</th>\n",
       "    </tr>\n",
       "  </thead>\n",
       "  <tbody>\n",
       "    <tr>\n",
       "      <th>48827</th>\n",
       "      <td>JBL GO Portable Wireless Bluetooth Speaker wit...</td>\n",
       "      <td>2</td>\n",
       "    </tr>\n",
       "    <tr>\n",
       "      <th>14946</th>\n",
       "      <td>Samsung 253 L 4 Star Frost Free Double Door Re...</td>\n",
       "      <td>0</td>\n",
       "    </tr>\n",
       "    <tr>\n",
       "      <th>40997</th>\n",
       "      <td>Kingston SSDNow A400 240GB Internal Solid Stat...</td>\n",
       "      <td>2</td>\n",
       "    </tr>\n",
       "    <tr>\n",
       "      <th>50161</th>\n",
       "      <td>Alcatel New T-58 Black Corded Landline Phone w...</td>\n",
       "      <td>2</td>\n",
       "    </tr>\n",
       "    <tr>\n",
       "      <th>1504</th>\n",
       "      <td>Life Before Toilets, Tables, Dressers, Doors, ...</td>\n",
       "      <td>0</td>\n",
       "    </tr>\n",
       "  </tbody>\n",
       "</table>\n",
       "</div>"
      ],
      "text/plain": [
       "                                                    Text  label_num\n",
       "48827  JBL GO Portable Wireless Bluetooth Speaker wit...          2\n",
       "14946  Samsung 253 L 4 Star Frost Free Double Door Re...          0\n",
       "40997  Kingston SSDNow A400 240GB Internal Solid Stat...          2\n",
       "50161  Alcatel New T-58 Black Corded Landline Phone w...          2\n",
       "1504   Life Before Toilets, Tables, Dressers, Doors, ...          0"
      ]
     },
     "execution_count": 14,
     "metadata": {},
     "output_type": "execute_result"
    }
   ],
   "source": [
    "df_updated=df[['Text','label_num']]\n",
    "df_updated.sample(5)"
   ]
  },
  {
   "cell_type": "code",
   "execution_count": 15,
   "id": "89206942-d577-4513-aa5b-8020c1558375",
   "metadata": {},
   "outputs": [],
   "source": [
    "X=df_updated[['Text']]\n",
    "y=df_updated[['label_num']]"
   ]
  },
  {
   "cell_type": "code",
   "execution_count": 16,
   "id": "4df05f15-556f-4b7d-82dd-cc1b6d8b6e33",
   "metadata": {},
   "outputs": [],
   "source": [
    "from sklearn.model_selection import train_test_split\n",
    "X_train, X_test, y_train, y_test = train_test_split(X, y, test_size=0.2, random_state=42)"
   ]
  },
  {
   "cell_type": "code",
   "execution_count": 17,
   "id": "aab67478-85f0-48bd-b102-9f167c9d9c87",
   "metadata": {},
   "outputs": [
    {
     "name": "stdout",
     "output_type": "stream",
     "text": [
      "Training set size: X_train - (40339, 1), y_train - (40339, 1)\n",
      "Testing set size: X_test - (10085, 1), y_test - (10085, 1)\n"
     ]
    }
   ],
   "source": [
    "# Print the sizes of each split to verify\n",
    "print(f\"Training set size: X_train - {X_train.shape}, y_train - {y_train.shape}\")\n",
    "print(f\"Testing set size: X_test - {X_test.shape}, y_test - {y_test.shape}\")"
   ]
  },
  {
   "cell_type": "code",
   "execution_count": 18,
   "id": "5beaaf10-954b-4f69-81a9-39f841c497ef",
   "metadata": {},
   "outputs": [
    {
     "data": {
      "text/plain": [
       "(40339, 1)"
      ]
     },
     "execution_count": 18,
     "metadata": {},
     "output_type": "execute_result"
    }
   ],
   "source": [
    "X_train.shape"
   ]
  },
  {
   "cell_type": "code",
   "execution_count": 19,
   "id": "11837f07-af01-4732-9fa4-e3142d7ca906",
   "metadata": {},
   "outputs": [
    {
     "data": {
      "text/plain": [
       "(40339, 1)"
      ]
     },
     "execution_count": 19,
     "metadata": {},
     "output_type": "execute_result"
    }
   ],
   "source": [
    "y_train.shape"
   ]
  },
  {
   "cell_type": "code",
   "execution_count": 20,
   "id": "81987d98-67aa-4a8c-bb77-4effa33e284d",
   "metadata": {},
   "outputs": [
    {
     "data": {
      "text/plain": [
       "(10085, 1)"
      ]
     },
     "execution_count": 20,
     "metadata": {},
     "output_type": "execute_result"
    }
   ],
   "source": [
    "X_test.shape"
   ]
  },
  {
   "cell_type": "code",
   "execution_count": 21,
   "id": "a2c48df1-f2ca-4687-9321-67fd2cfa359d",
   "metadata": {},
   "outputs": [
    {
     "data": {
      "text/plain": [
       "(10085, 1)"
      ]
     },
     "execution_count": 21,
     "metadata": {},
     "output_type": "execute_result"
    }
   ],
   "source": [
    "y_test.shape"
   ]
  },
  {
   "cell_type": "code",
   "execution_count": 22,
   "id": "2378b914-f3c3-488b-b5dd-bd52285078be",
   "metadata": {},
   "outputs": [
    {
     "data": {
      "text/plain": [
       "label_num\n",
       "0            15438\n",
       "1             9442\n",
       "2             8539\n",
       "3             6920\n",
       "Name: count, dtype: int64"
      ]
     },
     "execution_count": 22,
     "metadata": {},
     "output_type": "execute_result"
    }
   ],
   "source": [
    "y_train.value_counts()"
   ]
  },
  {
   "cell_type": "markdown",
   "id": "93d78675-b99a-45ca-a92e-7a167adf8ecf",
   "metadata": {},
   "source": [
    "Note: First we are trying to measure model performace without data preprocessing ie Lower case\n",
    "Tokenization\n",
    "Removing special characters\n",
    "Removing stop words and punctuation \n",
    "Stemming etc anyways for basic preprocessing we will be using TFIDF and see how it performs then modify the data accordingly."
   ]
  },
  {
   "cell_type": "markdown",
   "id": "078235f8-fcb9-4462-b50f-bd113b771256",
   "metadata": {},
   "source": [
    "First lets try training the model directly and get performance metrics then We can try improving the model using various techniques and more optimal model with less computational energy."
   ]
  },
  {
   "cell_type": "markdown",
   "id": "0a318f30-8efc-466d-ba9a-cf272d30e1cd",
   "metadata": {},
   "source": [
    "using sklearn pipeline module create a classification pipeline to classify the Ecommerce Data.  \n",
    "Note:  \n",
    "  \n",
    "use TF-IDF for pre-processing the text.  \n",
    "\n",
    "use KNN as the classifier  \n",
    "\n",
    "print the classification report."
   ]
  },
  {
   "cell_type": "code",
   "execution_count": 25,
   "id": "ad25b318-a4ed-479f-ac8a-d4c02dff9d8b",
   "metadata": {},
   "outputs": [],
   "source": [
    "from sklearn.neighbors import KNeighborsClassifier\n",
    "from sklearn.pipeline import Pipeline\n",
    "from sklearn.metrics import classification_report\n",
    "from sklearn.feature_extraction.text import TfidfVectorizer\n",
    "\n",
    "\n",
    "#1. create a pipeline object\n",
    "clf = Pipeline([\n",
    "     ('vectorizer_tfidf',TfidfVectorizer()),    \n",
    "     ('KNN', KNeighborsClassifier())         \n",
    "])\n"
   ]
  },
  {
   "cell_type": "code",
   "execution_count": 26,
   "id": "c7b8a135-4890-4bda-b17e-f5486385cc07",
   "metadata": {},
   "outputs": [
    {
     "name": "stderr",
     "output_type": "stream",
     "text": [
      "C:\\ProgramData\\anaconda3\\lib\\site-packages\\sklearn\\neighbors\\_classification.py:228: DataConversionWarning: A column-vector y was passed when a 1d array was expected. Please change the shape of y to (n_samples,), for example using ravel().\n",
      "  return self._fit(X, y)\n"
     ]
    },
    {
     "name": "stdout",
     "output_type": "stream",
     "text": [
      "              precision    recall  f1-score   support\n",
      "\n",
      "           0       0.96      0.97      0.96      3875\n",
      "           1       0.97      0.96      0.96      2378\n",
      "           2       0.95      0.95      0.95      2082\n",
      "           3       0.97      0.97      0.97      1750\n",
      "\n",
      "    accuracy                           0.96     10085\n",
      "   macro avg       0.96      0.96      0.96     10085\n",
      "weighted avg       0.96      0.96      0.96     10085\n",
      "\n"
     ]
    }
   ],
   "source": [
    "# Fit the pipeline on training data\n",
    "clf.fit(X_train['Text'], y_train)\n",
    "\n",
    "# Predict on test data\n",
    "y_pred = clf.predict(X_test['Text'])\n",
    "\n",
    "# Print classification report\n",
    "print(classification_report(y_test, y_pred))\n"
   ]
  },
  {
   "cell_type": "code",
   "execution_count": 25,
   "id": "23391779-93f0-4415-a45a-ae197da09f00",
   "metadata": {},
   "outputs": [],
   "source": [
    "import numpy as np\n",
    "from sklearn.neighbors import KNeighborsClassifier\n",
    "from sklearn.pipeline import Pipeline\n",
    "from sklearn.metrics import classification_report\n",
    "from sklearn.feature_extraction.text import TfidfVectorizer"
   ]
  },
  {
   "cell_type": "code",
   "execution_count": null,
   "id": "a1cbd63d-1297-43d2-aac8-953b64d3a35a",
   "metadata": {},
   "outputs": [],
   "source": [
    "\n",
    "# Use ravel() to flatten y_train and y_test if they are 2D arrays\n",
    "y_train = np.ravel(y_train)\n",
    "y_test = np.ravel(y_test)"
   ]
  },
  {
   "cell_type": "code",
   "execution_count": null,
   "id": "e180293c-3b56-48fb-93b0-b9ce4991c717",
   "metadata": {},
   "outputs": [],
   "source": [
    "\n",
    "\n",
    "# Assuming X_train and X_test are DataFrames with 'Text' column containing text data\n",
    "# and y_train, y_test are the corresponding target labels\n",
    "\n",
    "\n",
    "# Create a pipeline object\n",
    "clf = Pipeline([\n",
    "     ('vectorizer_tfidf', TfidfVectorizer()),    \n",
    "     ('KNN', KNeighborsClassifier())         \n",
    "])\n",
    "\n",
    "# Fit the pipeline on the training data\n",
    "clf.fit(X_train['Text'], y_train)\n",
    "\n",
    "# Predict on the test data\n",
    "y_pred = clf.predict(X_test['Text'])\n",
    "\n",
    "# Print the classification report\n",
    "print(classification_report(y_test, y_pred))\n"
   ]
  },
  {
   "cell_type": "code",
   "execution_count": 23,
   "id": "6d09f9bb-3a16-44e1-88bd-6415040e9017",
   "metadata": {},
   "outputs": [],
   "source": [
    "# pip install imbalanced-learn\n",
    "from imblearn.over_sampling import RandomOverSampler\n",
    "\n",
    "# Assume X_train and y_train are your original unbalanced training data\n",
    "\n",
    "# Create a RandomOverSampler instance\n",
    "oversampler = RandomOverSampler(random_state=42)\n",
    "\n",
    "# Resample the training data\n",
    "X_train_resampled, y_train_resampled = oversampler.fit_resample(X_train[['Text']], y_train)"
   ]
  },
  {
   "cell_type": "code",
   "execution_count": 26,
   "id": "a8f76f59-b9dd-4547-a766-ff480628d717",
   "metadata": {},
   "outputs": [
    {
     "name": "stderr",
     "output_type": "stream",
     "text": [
      "C:\\ProgramData\\anaconda3\\lib\\site-packages\\sklearn\\neighbors\\_classification.py:228: DataConversionWarning: A column-vector y was passed when a 1d array was expected. Please change the shape of y to (n_samples,), for example using ravel().\n",
      "  return self._fit(X, y)\n"
     ]
    },
    {
     "name": "stdout",
     "output_type": "stream",
     "text": [
      "              precision    recall  f1-score   support\n",
      "\n",
      "           0       0.98      0.98      0.98      3875\n",
      "           1       0.98      0.98      0.98      2378\n",
      "           2       0.96      0.97      0.97      2082\n",
      "           3       0.97      0.98      0.98      1750\n",
      "\n",
      "    accuracy                           0.98     10085\n",
      "   macro avg       0.98      0.98      0.98     10085\n",
      "weighted avg       0.98      0.98      0.98     10085\n",
      "\n"
     ]
    }
   ],
   "source": [
    "\n",
    "# Create a pipeline object with adjusted parameters\n",
    "clf = Pipeline([\n",
    "     ('vectorizer_tfidf', TfidfVectorizer()),    \n",
    "     ('KNN', KNeighborsClassifier(n_neighbors=5, weights='distance', metric='euclidean'))         \n",
    "])\n",
    "\n",
    "# Fit the pipeline on the resampled training data\n",
    "clf.fit(X_train_resampled['Text'], y_train_resampled)\n",
    "\n",
    "# Predict on the test data\n",
    "y_pred = clf.predict(X_test['Text'])\n",
    "\n",
    "# Print the classification report\n",
    "print(classification_report(y_test, y_pred))"
   ]
  },
  {
   "cell_type": "markdown",
   "id": "aa710016-a97d-43f5-9a76-ae015d8c03da",
   "metadata": {},
   "source": [
    "see after balancing data set and doing hyper parameter tuning the performance of the model already went up now lets try applying different algoritms with parameters\n"
   ]
  },
  {
   "cell_type": "code",
   "execution_count": null,
   "id": "8e1d780d-64ed-46b5-b5e3-c3bd4402e9c5",
   "metadata": {},
   "outputs": [],
   "source": [
    "# from sklearn.tree import DecisionTreeClassifier\n",
    "# from sklearn.model_selection import GridSearchCV\n",
    "\n",
    "# # Create a pipeline with TfidfVectorizer and DecisionTreeClassifier\n",
    "# clf_dt = Pipeline([\n",
    "#     ('vectorizer_tfidf', TfidfVectorizer()),    \n",
    "#     ('DecisionTree', DecisionTreeClassifier())\n",
    "# ])\n",
    "\n",
    "# # Define parameter grid for grid search\n",
    "# param_grid_dt = {\n",
    "#     'DecisionTree__max_depth': [None, 10, 20, 30],\n",
    "#     'DecisionTree__min_samples_split': [2, 5, 10],\n",
    "#     'DecisionTree__min_samples_leaf': [1, 2, 4],\n",
    "# }\n",
    "\n",
    "# # Perform grid search with cross-validation\n",
    "# grid_search_dt = GridSearchCV(clf_dt, param_grid_dt, cv=5, scoring='accuracy', verbose=1)\n",
    "# grid_search_dt.fit(X_train['Text'], y_train)\n",
    "\n",
    "# # Print best parameters and best score\n",
    "# print(\"Best parameters found: \", grid_search_dt.best_params_)\n",
    "# print(\"Best cross-validation accuracy: {:.2f}\".format(grid_search_dt.best_score_))\n",
    "\n",
    "# # Predict on the test data using the best model\n",
    "# y_pred_dt = grid_search_dt.best_estimator_.predict(X_test['Text'])\n",
    "\n",
    "# # Print the classification report\n",
    "# print(classification_report(y_test, y_pred_dt))\n",
    "\n",
    "\n",
    "\n"
   ]
  },
  {
   "cell_type": "markdown",
   "id": "a5f88377-4e2f-4bff-b2b4-7808609bcfb1",
   "metadata": {},
   "source": [
    "As we know Dession tree model may give better accuracy but time taken will be much more than remaining classifier for this case it would take approximately 5 times more than the remaining models. So rerunning would take a lot of time so commenting out the code."
   ]
  },
  {
   "cell_type": "code",
   "execution_count": 27,
   "id": "533c0b0f-cfc3-4bde-badf-528e04e82e70",
   "metadata": {},
   "outputs": [
    {
     "name": "stdout",
     "output_type": "stream",
     "text": [
      "Fitting 5 folds for each of 2 candidates, totalling 10 fits\n"
     ]
    },
    {
     "name": "stderr",
     "output_type": "stream",
     "text": [
      "C:\\ProgramData\\anaconda3\\lib\\site-packages\\sklearn\\utils\\validation.py:1184: DataConversionWarning: A column-vector y was passed when a 1d array was expected. Please change the shape of y to (n_samples, ), for example using ravel().\n",
      "  y = column_or_1d(y, warn=True)\n",
      "C:\\ProgramData\\anaconda3\\lib\\site-packages\\sklearn\\utils\\validation.py:1184: DataConversionWarning: A column-vector y was passed when a 1d array was expected. Please change the shape of y to (n_samples, ), for example using ravel().\n",
      "  y = column_or_1d(y, warn=True)\n",
      "C:\\ProgramData\\anaconda3\\lib\\site-packages\\sklearn\\utils\\validation.py:1184: DataConversionWarning: A column-vector y was passed when a 1d array was expected. Please change the shape of y to (n_samples, ), for example using ravel().\n",
      "  y = column_or_1d(y, warn=True)\n",
      "C:\\ProgramData\\anaconda3\\lib\\site-packages\\sklearn\\utils\\validation.py:1184: DataConversionWarning: A column-vector y was passed when a 1d array was expected. Please change the shape of y to (n_samples, ), for example using ravel().\n",
      "  y = column_or_1d(y, warn=True)\n",
      "C:\\ProgramData\\anaconda3\\lib\\site-packages\\sklearn\\utils\\validation.py:1184: DataConversionWarning: A column-vector y was passed when a 1d array was expected. Please change the shape of y to (n_samples, ), for example using ravel().\n",
      "  y = column_or_1d(y, warn=True)\n",
      "C:\\ProgramData\\anaconda3\\lib\\site-packages\\sklearn\\utils\\validation.py:1184: DataConversionWarning: A column-vector y was passed when a 1d array was expected. Please change the shape of y to (n_samples, ), for example using ravel().\n",
      "  y = column_or_1d(y, warn=True)\n",
      "C:\\ProgramData\\anaconda3\\lib\\site-packages\\sklearn\\utils\\validation.py:1184: DataConversionWarning: A column-vector y was passed when a 1d array was expected. Please change the shape of y to (n_samples, ), for example using ravel().\n",
      "  y = column_or_1d(y, warn=True)\n",
      "C:\\ProgramData\\anaconda3\\lib\\site-packages\\sklearn\\utils\\validation.py:1184: DataConversionWarning: A column-vector y was passed when a 1d array was expected. Please change the shape of y to (n_samples, ), for example using ravel().\n",
      "  y = column_or_1d(y, warn=True)\n",
      "C:\\ProgramData\\anaconda3\\lib\\site-packages\\sklearn\\utils\\validation.py:1184: DataConversionWarning: A column-vector y was passed when a 1d array was expected. Please change the shape of y to (n_samples, ), for example using ravel().\n",
      "  y = column_or_1d(y, warn=True)\n",
      "C:\\ProgramData\\anaconda3\\lib\\site-packages\\sklearn\\utils\\validation.py:1184: DataConversionWarning: A column-vector y was passed when a 1d array was expected. Please change the shape of y to (n_samples, ), for example using ravel().\n",
      "  y = column_or_1d(y, warn=True)\n",
      "C:\\ProgramData\\anaconda3\\lib\\site-packages\\sklearn\\utils\\validation.py:1184: DataConversionWarning: A column-vector y was passed when a 1d array was expected. Please change the shape of y to (n_samples, ), for example using ravel().\n",
      "  y = column_or_1d(y, warn=True)\n"
     ]
    },
    {
     "name": "stdout",
     "output_type": "stream",
     "text": [
      "Best parameters found:  {'MultinomialNB__alpha': 0.0001}\n",
      "Best cross-validation F1-score: 0.98\n",
      "              precision    recall  f1-score   support\n",
      "\n",
      "           0       0.97      0.98      0.97      3875\n",
      "           1       0.98      0.95      0.97      2378\n",
      "           2       0.95      0.97      0.96      2082\n",
      "           3       0.98      0.98      0.98      1750\n",
      "\n",
      "    accuracy                           0.97     10085\n",
      "   macro avg       0.97      0.97      0.97     10085\n",
      "weighted avg       0.97      0.97      0.97     10085\n",
      "\n"
     ]
    }
   ],
   "source": [
    "from sklearn.model_selection import GridSearchCV\n",
    "\n",
    "from sklearn.naive_bayes import MultinomialNB\n",
    "clf_mnb = Pipeline([\n",
    "    ('vectorizer_tfidf', TfidfVectorizer()),    \n",
    "    ('MultinomialNB', MultinomialNB())\n",
    "])\n",
    "\n",
    "# Define the parameter grid for alpha\n",
    "param_grid_mnb = {\n",
    "    'MultinomialNB__alpha': [0.0001,0.05]  # Example values for alpha\n",
    "}\n",
    "\n",
    "# Perform grid search with cross-validation\n",
    "grid_search_mnb = GridSearchCV(clf_mnb, param_grid_mnb, cv=5, scoring='f1_macro', verbose=1)\n",
    "grid_search_mnb.fit(X_train_resampled['Text'], y_train_resampled)\n",
    "\n",
    "# Print best parameters and best score\n",
    "print(\"Best parameters found: \", grid_search_mnb.best_params_)\n",
    "print(\"Best cross-validation F1-score: {:.2f}\".format(grid_search_mnb.best_score_))\n",
    "\n",
    "# Predict on the test data using the best model\n",
    "y_pred_mnb_best = grid_search_mnb.best_estimator_.predict(X_test['Text'])\n",
    "\n",
    "# Print the classification report\n",
    "print(classification_report(y_test, y_pred_mnb_best))"
   ]
  },
  {
   "cell_type": "code",
   "execution_count": 28,
   "id": "c52f8842-c0dd-47f1-b0b9-2c9d8b62483c",
   "metadata": {},
   "outputs": [
    {
     "name": "stderr",
     "output_type": "stream",
     "text": [
      "C:\\ProgramData\\anaconda3\\lib\\site-packages\\sklearn\\utils\\validation.py:1184: DataConversionWarning: A column-vector y was passed when a 1d array was expected. Please change the shape of y to (n_samples, ), for example using ravel().\n",
      "  y = column_or_1d(y, warn=True)\n"
     ]
    },
    {
     "name": "stdout",
     "output_type": "stream",
     "text": [
      "              precision    recall  f1-score   support\n",
      "\n",
      "           0       0.95      0.96      0.96      3875\n",
      "           1       0.97      0.93      0.95      2378\n",
      "           2       0.93      0.95      0.94      2082\n",
      "           3       0.95      0.99      0.97      1750\n",
      "\n",
      "    accuracy                           0.95     10085\n",
      "   macro avg       0.95      0.95      0.95     10085\n",
      "weighted avg       0.95      0.95      0.95     10085\n",
      "\n"
     ]
    }
   ],
   "source": [
    "\n",
    "\n",
    "\n",
    "\n",
    "# Create a pipeline with TfidfVectorizer and MultinomialNB\n",
    "clf_mnb = Pipeline([\n",
    "    ('vectorizer_tfidf', TfidfVectorizer()),    \n",
    "    ('MultinomialNB', MultinomialNB())\n",
    "])\n",
    "\n",
    "# Fit the pipeline on the resampled training data\n",
    "clf_mnb.fit(X_train_resampled['Text'], y_train_resampled)\n",
    "\n",
    "# Predict on the test data\n",
    "y_pred_mnb = clf_mnb.predict(X_test['Text'])\n",
    "\n",
    "# Print the classification report\n",
    "print(classification_report(y_test, y_pred_mnb))\n"
   ]
  },
  {
   "cell_type": "code",
   "execution_count": 29,
   "id": "15b6ee9e-aed9-4745-add7-b84599af11c9",
   "metadata": {},
   "outputs": [
    {
     "name": "stdout",
     "output_type": "stream",
     "text": [
      "Fitting 5 folds for each of 10 candidates, totalling 50 fits\n"
     ]
    },
    {
     "name": "stderr",
     "output_type": "stream",
     "text": [
      "C:\\ProgramData\\anaconda3\\lib\\site-packages\\sklearn\\utils\\validation.py:1184: DataConversionWarning: A column-vector y was passed when a 1d array was expected. Please change the shape of y to (n_samples, ), for example using ravel().\n",
      "  y = column_or_1d(y, warn=True)\n",
      "C:\\ProgramData\\anaconda3\\lib\\site-packages\\sklearn\\utils\\validation.py:1184: DataConversionWarning: A column-vector y was passed when a 1d array was expected. Please change the shape of y to (n_samples, ), for example using ravel().\n",
      "  y = column_or_1d(y, warn=True)\n",
      "C:\\ProgramData\\anaconda3\\lib\\site-packages\\sklearn\\utils\\validation.py:1184: DataConversionWarning: A column-vector y was passed when a 1d array was expected. Please change the shape of y to (n_samples, ), for example using ravel().\n",
      "  y = column_or_1d(y, warn=True)\n",
      "C:\\ProgramData\\anaconda3\\lib\\site-packages\\sklearn\\utils\\validation.py:1184: DataConversionWarning: A column-vector y was passed when a 1d array was expected. Please change the shape of y to (n_samples, ), for example using ravel().\n",
      "  y = column_or_1d(y, warn=True)\n",
      "C:\\ProgramData\\anaconda3\\lib\\site-packages\\sklearn\\utils\\validation.py:1184: DataConversionWarning: A column-vector y was passed when a 1d array was expected. Please change the shape of y to (n_samples, ), for example using ravel().\n",
      "  y = column_or_1d(y, warn=True)\n",
      "C:\\ProgramData\\anaconda3\\lib\\site-packages\\sklearn\\utils\\validation.py:1184: DataConversionWarning: A column-vector y was passed when a 1d array was expected. Please change the shape of y to (n_samples, ), for example using ravel().\n",
      "  y = column_or_1d(y, warn=True)\n",
      "C:\\ProgramData\\anaconda3\\lib\\site-packages\\sklearn\\utils\\validation.py:1184: DataConversionWarning: A column-vector y was passed when a 1d array was expected. Please change the shape of y to (n_samples, ), for example using ravel().\n",
      "  y = column_or_1d(y, warn=True)\n",
      "C:\\ProgramData\\anaconda3\\lib\\site-packages\\sklearn\\utils\\validation.py:1184: DataConversionWarning: A column-vector y was passed when a 1d array was expected. Please change the shape of y to (n_samples, ), for example using ravel().\n",
      "  y = column_or_1d(y, warn=True)\n",
      "C:\\ProgramData\\anaconda3\\lib\\site-packages\\sklearn\\utils\\validation.py:1184: DataConversionWarning: A column-vector y was passed when a 1d array was expected. Please change the shape of y to (n_samples, ), for example using ravel().\n",
      "  y = column_or_1d(y, warn=True)\n",
      "C:\\ProgramData\\anaconda3\\lib\\site-packages\\sklearn\\utils\\validation.py:1184: DataConversionWarning: A column-vector y was passed when a 1d array was expected. Please change the shape of y to (n_samples, ), for example using ravel().\n",
      "  y = column_or_1d(y, warn=True)\n",
      "C:\\ProgramData\\anaconda3\\lib\\site-packages\\sklearn\\utils\\validation.py:1184: DataConversionWarning: A column-vector y was passed when a 1d array was expected. Please change the shape of y to (n_samples, ), for example using ravel().\n",
      "  y = column_or_1d(y, warn=True)\n",
      "C:\\ProgramData\\anaconda3\\lib\\site-packages\\sklearn\\utils\\validation.py:1184: DataConversionWarning: A column-vector y was passed when a 1d array was expected. Please change the shape of y to (n_samples, ), for example using ravel().\n",
      "  y = column_or_1d(y, warn=True)\n",
      "C:\\ProgramData\\anaconda3\\lib\\site-packages\\sklearn\\utils\\validation.py:1184: DataConversionWarning: A column-vector y was passed when a 1d array was expected. Please change the shape of y to (n_samples, ), for example using ravel().\n",
      "  y = column_or_1d(y, warn=True)\n",
      "C:\\ProgramData\\anaconda3\\lib\\site-packages\\sklearn\\utils\\validation.py:1184: DataConversionWarning: A column-vector y was passed when a 1d array was expected. Please change the shape of y to (n_samples, ), for example using ravel().\n",
      "  y = column_or_1d(y, warn=True)\n",
      "C:\\ProgramData\\anaconda3\\lib\\site-packages\\sklearn\\utils\\validation.py:1184: DataConversionWarning: A column-vector y was passed when a 1d array was expected. Please change the shape of y to (n_samples, ), for example using ravel().\n",
      "  y = column_or_1d(y, warn=True)\n",
      "C:\\ProgramData\\anaconda3\\lib\\site-packages\\sklearn\\utils\\validation.py:1184: DataConversionWarning: A column-vector y was passed when a 1d array was expected. Please change the shape of y to (n_samples, ), for example using ravel().\n",
      "  y = column_or_1d(y, warn=True)\n",
      "C:\\ProgramData\\anaconda3\\lib\\site-packages\\sklearn\\utils\\validation.py:1184: DataConversionWarning: A column-vector y was passed when a 1d array was expected. Please change the shape of y to (n_samples, ), for example using ravel().\n",
      "  y = column_or_1d(y, warn=True)\n",
      "C:\\ProgramData\\anaconda3\\lib\\site-packages\\sklearn\\utils\\validation.py:1184: DataConversionWarning: A column-vector y was passed when a 1d array was expected. Please change the shape of y to (n_samples, ), for example using ravel().\n",
      "  y = column_or_1d(y, warn=True)\n",
      "C:\\ProgramData\\anaconda3\\lib\\site-packages\\sklearn\\utils\\validation.py:1184: DataConversionWarning: A column-vector y was passed when a 1d array was expected. Please change the shape of y to (n_samples, ), for example using ravel().\n",
      "  y = column_or_1d(y, warn=True)\n",
      "C:\\ProgramData\\anaconda3\\lib\\site-packages\\sklearn\\utils\\validation.py:1184: DataConversionWarning: A column-vector y was passed when a 1d array was expected. Please change the shape of y to (n_samples, ), for example using ravel().\n",
      "  y = column_or_1d(y, warn=True)\n",
      "C:\\ProgramData\\anaconda3\\lib\\site-packages\\sklearn\\utils\\validation.py:1184: DataConversionWarning: A column-vector y was passed when a 1d array was expected. Please change the shape of y to (n_samples, ), for example using ravel().\n",
      "  y = column_or_1d(y, warn=True)\n",
      "C:\\ProgramData\\anaconda3\\lib\\site-packages\\sklearn\\utils\\validation.py:1184: DataConversionWarning: A column-vector y was passed when a 1d array was expected. Please change the shape of y to (n_samples, ), for example using ravel().\n",
      "  y = column_or_1d(y, warn=True)\n",
      "C:\\ProgramData\\anaconda3\\lib\\site-packages\\sklearn\\utils\\validation.py:1184: DataConversionWarning: A column-vector y was passed when a 1d array was expected. Please change the shape of y to (n_samples, ), for example using ravel().\n",
      "  y = column_or_1d(y, warn=True)\n",
      "C:\\ProgramData\\anaconda3\\lib\\site-packages\\sklearn\\utils\\validation.py:1184: DataConversionWarning: A column-vector y was passed when a 1d array was expected. Please change the shape of y to (n_samples, ), for example using ravel().\n",
      "  y = column_or_1d(y, warn=True)\n",
      "C:\\ProgramData\\anaconda3\\lib\\site-packages\\sklearn\\utils\\validation.py:1184: DataConversionWarning: A column-vector y was passed when a 1d array was expected. Please change the shape of y to (n_samples, ), for example using ravel().\n",
      "  y = column_or_1d(y, warn=True)\n",
      "C:\\ProgramData\\anaconda3\\lib\\site-packages\\sklearn\\model_selection\\_validation.py:425: FitFailedWarning: \n",
      "25 fits failed out of a total of 50.\n",
      "The score on these train-test partitions for these parameters will be set to nan.\n",
      "If these failures are not expected, you can try to debug them by setting error_score='raise'.\n",
      "\n",
      "Below are more details about the failures:\n",
      "--------------------------------------------------------------------------------\n",
      "25 fits failed with the following error:\n",
      "Traceback (most recent call last):\n",
      "  File \"C:\\ProgramData\\anaconda3\\lib\\site-packages\\sklearn\\model_selection\\_validation.py\", line 732, in _fit_and_score\n",
      "    estimator.fit(X_train, y_train, **fit_params)\n",
      "  File \"C:\\ProgramData\\anaconda3\\lib\\site-packages\\sklearn\\base.py\", line 1151, in wrapper\n",
      "    return fit_method(estimator, *args, **kwargs)\n",
      "  File \"C:\\ProgramData\\anaconda3\\lib\\site-packages\\sklearn\\pipeline.py\", line 420, in fit\n",
      "    self._final_estimator.fit(Xt, y, **fit_params_last_step)\n",
      "  File \"C:\\ProgramData\\anaconda3\\lib\\site-packages\\sklearn\\base.py\", line 1151, in wrapper\n",
      "    return fit_method(estimator, *args, **kwargs)\n",
      "  File \"C:\\ProgramData\\anaconda3\\lib\\site-packages\\sklearn\\linear_model\\_logistic.py\", line 1168, in fit\n",
      "    solver = _check_solver(self.solver, self.penalty, self.dual)\n",
      "  File \"C:\\ProgramData\\anaconda3\\lib\\site-packages\\sklearn\\linear_model\\_logistic.py\", line 56, in _check_solver\n",
      "    raise ValueError(\n",
      "ValueError: Solver lbfgs supports only 'l2' or 'none' penalties, got l1 penalty.\n",
      "\n",
      "  warnings.warn(some_fits_failed_message, FitFailedWarning)\n",
      "C:\\ProgramData\\anaconda3\\lib\\site-packages\\sklearn\\model_selection\\_search.py:976: UserWarning: One or more of the test scores are non-finite: [       nan 0.90667449        nan 0.93390513        nan 0.95547431\n",
      "        nan 0.97601816        nan 0.98996964]\n",
      "  warnings.warn(\n",
      "C:\\ProgramData\\anaconda3\\lib\\site-packages\\sklearn\\utils\\validation.py:1184: DataConversionWarning: A column-vector y was passed when a 1d array was expected. Please change the shape of y to (n_samples, ), for example using ravel().\n",
      "  y = column_or_1d(y, warn=True)\n"
     ]
    },
    {
     "name": "stdout",
     "output_type": "stream",
     "text": [
      "Best parameters found:  {'LogisticRegression__C': 10.0, 'LogisticRegression__penalty': 'l2'}\n",
      "Best cross-validation F1-score: 0.99\n",
      "              precision    recall  f1-score   support\n",
      "\n",
      "           0       0.98      0.98      0.98      3875\n",
      "           1       0.99      0.98      0.98      2378\n",
      "           2       0.97      0.98      0.98      2082\n",
      "           3       0.99      0.99      0.99      1750\n",
      "\n",
      "    accuracy                           0.98     10085\n",
      "   macro avg       0.98      0.98      0.98     10085\n",
      "weighted avg       0.98      0.98      0.98     10085\n",
      "\n"
     ]
    }
   ],
   "source": [
    "from sklearn.pipeline import Pipeline\n",
    "from sklearn.feature_extraction.text import TfidfVectorizer\n",
    "from sklearn.linear_model import LogisticRegression\n",
    "from sklearn.model_selection import GridSearchCV\n",
    "from sklearn.metrics import classification_report\n",
    "from imblearn.over_sampling import RandomOverSampler\n",
    "\n",
    "# Assuming X_train_resampled and y_train_resampled are already defined from oversampling\n",
    "\n",
    "# Create a pipeline with TfidfVectorizer and LogisticRegression\n",
    "clf_logistic = Pipeline([\n",
    "    ('vectorizer_tfidf', TfidfVectorizer()),    \n",
    "    ('LogisticRegression', LogisticRegression(max_iter=1000))  # Adjust max_iter as needed\n",
    "])\n",
    "\n",
    "# Define the parameter grid for LogisticRegression\n",
    "param_grid_logistic = {\n",
    "    'LogisticRegression__C': [0.001, 0.01, 0.1, 1.0, 10.0],  # Example values for regularization parameter C\n",
    "    'LogisticRegression__penalty': ['l1', 'l2'],  # Regularization penalty type\n",
    "}\n",
    "\n",
    "# Perform grid search with cross-validation\n",
    "grid_search_logistic = GridSearchCV(clf_logistic, param_grid_logistic, cv=5, scoring='f1_macro', verbose=1)\n",
    "grid_search_logistic.fit(X_train_resampled['Text'], y_train_resampled)\n",
    "\n",
    "# Print best parameters and best score\n",
    "print(\"Best parameters found: \", grid_search_logistic.best_params_)\n",
    "print(\"Best cross-validation F1-score: {:.2f}\".format(grid_search_logistic.best_score_))\n",
    "\n",
    "# Predict on the test data using the best model\n",
    "y_pred_logistic_best = grid_search_logistic.best_estimator_.predict(X_test['Text'])\n",
    "\n",
    "# Print the classification report\n",
    "print(classification_report(y_test, y_pred_logistic_best))\n"
   ]
  },
  {
   "cell_type": "markdown",
   "id": "e3403917-d950-41e3-95e8-4f3fc945b653",
   "metadata": {},
   "source": [
    "Now lets try doing more preprocessing like Lower case\n",
    "Tokenization\n",
    "Removing special characters\n",
    "Removing stop words and punctuation\n",
    "Stemming"
   ]
  },
  {
   "cell_type": "code",
   "execution_count": null,
   "id": "154257a2-b5e8-4e53-9a35-748e2e7aff90",
   "metadata": {},
   "outputs": [],
   "source": []
  },
  {
   "cell_type": "code",
   "execution_count": null,
   "id": "c6fc8774-4a50-4705-acb4-f70dcc0acfd4",
   "metadata": {},
   "outputs": [],
   "source": [
    "# !pip install spacy\n"
   ]
  },
  {
   "cell_type": "code",
   "execution_count": null,
   "id": "446c55d2-23cf-46f5-afe4-163aeb53ff17",
   "metadata": {},
   "outputs": [],
   "source": [
    "# !python -m spacy download en_core_web_sm\n"
   ]
  },
  {
   "cell_type": "code",
   "execution_count": null,
   "id": "03ed994d-8d54-40c4-9ff0-86fd617738ed",
   "metadata": {},
   "outputs": [],
   "source": []
  },
  {
   "cell_type": "code",
   "execution_count": 30,
   "id": "891d814b-7ad6-40d5-aa25-be4d1ab3a8f2",
   "metadata": {},
   "outputs": [],
   "source": [
    "\n",
    "### utlity function for pre-processing the text\n",
    "import spacy\n",
    "\n",
    "# load english language model and create nlp object from it\n",
    "nlp = spacy.load(\"en_core_web_sm\") \n",
    "\n",
    "def preprocess(text):\n",
    "    # remove stop words and lemmatize the text\n",
    "    doc = nlp(text)\n",
    "    filtered_tokens = []\n",
    "    for token in doc:\n",
    "        if token.is_stop or token.is_punct:\n",
    "            continue\n",
    "        filtered_tokens.append(token.lemma_)\n",
    "    \n",
    "    return \" \".join(filtered_tokens) "
   ]
  },
  {
   "cell_type": "code",
   "execution_count": 31,
   "id": "26680669-e89d-4396-a865-edb2e0dde7d6",
   "metadata": {},
   "outputs": [
    {
     "name": "stderr",
     "output_type": "stream",
     "text": [
      "C:\\Users\\somna\\AppData\\Local\\Temp\\ipykernel_300\\3942021276.py:1: SettingWithCopyWarning: \n",
      "A value is trying to be set on a copy of a slice from a DataFrame.\n",
      "Try using .loc[row_indexer,col_indexer] = value instead\n",
      "\n",
      "See the caveats in the documentation: https://pandas.pydata.org/pandas-docs/stable/user_guide/indexing.html#returning-a-view-versus-a-copy\n",
      "  df['preprocessed_txt'] = df_updated['Text'].apply(preprocess)\n"
     ]
    }
   ],
   "source": [
    "df['preprocessed_txt'] = df_updated['Text'].apply(preprocess) "
   ]
  },
  {
   "cell_type": "code",
   "execution_count": 35,
   "id": "4bfe3304-e22c-4f09-b31c-0631a1123ece",
   "metadata": {},
   "outputs": [
    {
     "data": {
      "text/html": [
       "<div>\n",
       "<style scoped>\n",
       "    .dataframe tbody tr th:only-of-type {\n",
       "        vertical-align: middle;\n",
       "    }\n",
       "\n",
       "    .dataframe tbody tr th {\n",
       "        vertical-align: top;\n",
       "    }\n",
       "\n",
       "    .dataframe thead th {\n",
       "        text-align: right;\n",
       "    }\n",
       "</style>\n",
       "<table border=\"1\" class=\"dataframe\">\n",
       "  <thead>\n",
       "    <tr style=\"text-align: right;\">\n",
       "      <th></th>\n",
       "      <th>Label</th>\n",
       "      <th>Text</th>\n",
       "      <th>label_num</th>\n",
       "      <th>preprocessed_txt</th>\n",
       "    </tr>\n",
       "  </thead>\n",
       "  <tbody>\n",
       "    <tr>\n",
       "      <th>34101</th>\n",
       "      <td>Clothing &amp; Accessories</td>\n",
       "      <td>Fancyadda Men's Khadi Cotton Handkerchiefs (Pa...</td>\n",
       "      <td>3</td>\n",
       "      <td>Fancyadda Men Khadi Cotton Handkerchiefs Pack ...</td>\n",
       "    </tr>\n",
       "    <tr>\n",
       "      <th>42303</th>\n",
       "      <td>Electronics</td>\n",
       "      <td>Taslar Briefcase Messenger Shoulder Bag Strap ...</td>\n",
       "      <td>2</td>\n",
       "      <td>Taslar Briefcase Messenger Shoulder Bag Strap ...</td>\n",
       "    </tr>\n",
       "    <tr>\n",
       "      <th>35891</th>\n",
       "      <td>Clothing &amp; Accessories</td>\n",
       "      <td>Pearl Ocean Men's Satin Shirt (Sandy Brown) Sm...</td>\n",
       "      <td>3</td>\n",
       "      <td>Pearl Ocean Men Satin Shirt Sandy Brown Smooth...</td>\n",
       "    </tr>\n",
       "    <tr>\n",
       "      <th>9795</th>\n",
       "      <td>Household</td>\n",
       "      <td>Delight Chef - A brand of Delight Retail Glass...</td>\n",
       "      <td>0</td>\n",
       "      <td>Delight Chef brand Delight Retail Glass Cookie...</td>\n",
       "    </tr>\n",
       "    <tr>\n",
       "      <th>45878</th>\n",
       "      <td>Electronics</td>\n",
       "      <td>Logitech M235 Wireless Mouse (Grey) Colour:Gre...</td>\n",
       "      <td>2</td>\n",
       "      <td>Logitech M235 Wireless Mouse Grey Colour Grey ...</td>\n",
       "    </tr>\n",
       "  </tbody>\n",
       "</table>\n",
       "</div>"
      ],
      "text/plain": [
       "                        Label  \\\n",
       "34101  Clothing & Accessories   \n",
       "42303             Electronics   \n",
       "35891  Clothing & Accessories   \n",
       "9795                Household   \n",
       "45878             Electronics   \n",
       "\n",
       "                                                    Text  label_num  \\\n",
       "34101  Fancyadda Men's Khadi Cotton Handkerchiefs (Pa...          3   \n",
       "42303  Taslar Briefcase Messenger Shoulder Bag Strap ...          2   \n",
       "35891  Pearl Ocean Men's Satin Shirt (Sandy Brown) Sm...          3   \n",
       "9795   Delight Chef - A brand of Delight Retail Glass...          0   \n",
       "45878  Logitech M235 Wireless Mouse (Grey) Colour:Gre...          2   \n",
       "\n",
       "                                        preprocessed_txt  \n",
       "34101  Fancyadda Men Khadi Cotton Handkerchiefs Pack ...  \n",
       "42303  Taslar Briefcase Messenger Shoulder Bag Strap ...  \n",
       "35891  Pearl Ocean Men Satin Shirt Sandy Brown Smooth...  \n",
       "9795   Delight Chef brand Delight Retail Glass Cookie...  \n",
       "45878  Logitech M235 Wireless Mouse Grey Colour Grey ...  "
      ]
     },
     "execution_count": 35,
     "metadata": {},
     "output_type": "execute_result"
    }
   ],
   "source": [
    "df.sample(5)"
   ]
  },
  {
   "cell_type": "markdown",
   "id": "85c57855-7cfa-48a0-a4b2-881114bd1f6f",
   "metadata": {},
   "source": [
    "Build a model with pre processed text"
   ]
  },
  {
   "cell_type": "code",
   "execution_count": 36,
   "id": "19698512-f828-424e-9221-1f77d0a1cbe4",
   "metadata": {},
   "outputs": [],
   "source": [
    "X_train, X_test, y_train, y_test = train_test_split(\n",
    "    df.preprocessed_txt, \n",
    "    df.label_num,\n",
    "    test_size=0.2, # 20% samples will go to test dataset\n",
    "    random_state=2022,\n",
    "    stratify=df.label_num\n",
    ")"
   ]
  },
  {
   "cell_type": "code",
   "execution_count": 40,
   "id": "b1ba90cc-9d67-4a20-9e74-d3b4ab59d65e",
   "metadata": {},
   "outputs": [
    {
     "name": "stdout",
     "output_type": "stream",
     "text": [
      "Training set size: X_train - (40339, 1), y_train - (40339,)\n",
      "Testing set size: X_test - (10085, 1), y_test - (10085,)\n"
     ]
    }
   ],
   "source": [
    "# Split the data\n",
    "X_train, X_test, y_train, y_test = train_test_split(\n",
    "    df[['preprocessed_txt']],  # Ensure this is a DataFrame\n",
    "    df['label_num'],\n",
    "    test_size=0.2,  # 20% samples will go to the test dataset\n",
    "    random_state=2022,\n",
    "    stratify=df['label_num']\n",
    ")\n",
    "\n",
    "# Check shapes to confirm\n",
    "print(\"Training set size: X_train - {}, y_train - {}\".format(X_train.shape, y_train.shape))\n",
    "print(\"Testing set size: X_test - {}, y_test - {}\".format(X_test.shape, y_test.shape))\n",
    "\n",
    "# Import RandomOverSampler\n",
    "from imblearn.over_sampling import RandomOverSampler\n",
    "\n",
    "# Trying balancing the dataset with some additional parameters\n",
    "oversampler = RandomOverSampler(random_state=42)\n",
    "\n",
    "# Resample the training data\n",
    "X_train_resampled, y_train_resampled = oversampler.fit_resample(X_train, y_train)\n"
   ]
  },
  {
   "cell_type": "code",
   "execution_count": 41,
   "id": "fc40630a-dc69-4117-895b-b13ba937fd6a",
   "metadata": {},
   "outputs": [
    {
     "name": "stdout",
     "output_type": "stream",
     "text": [
      "Fitting 5 folds for each of 5 candidates, totalling 25 fits\n",
      "Best parameters found:  {'MultinomialNB__alpha': 0.0001}\n",
      "Best cross-validation F1-score: 0.98\n",
      "              precision    recall  f1-score   support\n",
      "\n",
      "           0       0.96      0.98      0.97      3863\n",
      "           1       0.98      0.96      0.97      2364\n",
      "           2       0.96      0.96      0.96      2124\n",
      "           3       0.97      0.98      0.98      1734\n",
      "\n",
      "    accuracy                           0.97     10085\n",
      "   macro avg       0.97      0.97      0.97     10085\n",
      "weighted avg       0.97      0.97      0.97     10085\n",
      "\n"
     ]
    }
   ],
   "source": [
    "\n",
    "# Create a pipeline with TfidfVectorizer and MultinomialNB\n",
    "from sklearn.naive_bayes import MultinomialNB\n",
    "from sklearn.pipeline import Pipeline\n",
    "from sklearn.model_selection import GridSearchCV\n",
    "from sklearn.metrics import classification_report\n",
    "\n",
    "clf_mnb = Pipeline([\n",
    "    ('vectorizer_tfidf', TfidfVectorizer()),    \n",
    "    ('MultinomialNB', MultinomialNB())\n",
    "])\n",
    "\n",
    "# Define the parameter grid for alpha\n",
    "param_grid_mnb = {\n",
    "    'MultinomialNB__alpha': [0.0001, 0.05, 0.1, 0.5, 1.0]  # Example values for alpha\n",
    "}\n",
    "\n",
    "# Perform grid search with cross-validation\n",
    "grid_search_mnb = GridSearchCV(clf_mnb, param_grid_mnb, cv=5, scoring='f1_macro', verbose=1)\n",
    "grid_search_mnb.fit(X_train_resampled['preprocessed_txt'], y_train_resampled)\n",
    "\n",
    "# Print best parameters and best score\n",
    "print(\"Best parameters found: \", grid_search_mnb.best_params_)\n",
    "print(\"Best cross-validation F1-score: {:.2f}\".format(grid_search_mnb.best_score_))\n",
    "\n",
    "# Predict on the test data using the best model\n",
    "y_pred_mnb_best = grid_search_mnb.best_estimator_.predict(X_test['preprocessed_txt'])\n",
    "\n",
    "# Print the classification report\n",
    "print(classification_report(y_test, y_pred_mnb_best))\n"
   ]
  },
  {
   "cell_type": "code",
   "execution_count": 47,
   "id": "5943c536-7e1e-4298-bb36-f13ab94d80c5",
   "metadata": {},
   "outputs": [
    {
     "name": "stdout",
     "output_type": "stream",
     "text": [
      "              precision    recall  f1-score   support\n",
      "\n",
      "           0       1.00      0.81      0.90      3863\n",
      "           1       0.63      1.00      0.77      2364\n",
      "           2       0.99      0.82      0.90      2124\n",
      "           3       0.99      0.81      0.89      1734\n",
      "\n",
      "    accuracy                           0.86     10085\n",
      "   macro avg       0.90      0.86      0.86     10085\n",
      "weighted avg       0.91      0.86      0.87     10085\n",
      "\n"
     ]
    }
   ],
   "source": [
    "\n",
    "# Create a pipeline object with adjusted parameters\n",
    "clf = Pipeline([\n",
    "     ('vectorizer_tfidf', TfidfVectorizer()),    \n",
    "     ('KNN', KNeighborsClassifier(n_neighbors=5, weights='distance', metric='euclidean'))         \n",
    "])\n",
    "\n",
    "# Fit the pipeline on the resampled training data\n",
    "clf.fit(X_train_resampled['preprocessed_txt'], y_train_resampled)\n",
    "\n",
    "# Predict on the test data\n",
    "y_pred = clf.predict(X_test['preprocessed_txt'])\n",
    "\n",
    "# Print the classification report\n",
    "print(classification_report(y_test, y_pred))"
   ]
  },
  {
   "cell_type": "code",
   "execution_count": 54,
   "id": "449447c1-2a7f-47c1-a2e4-eac4ff8227bf",
   "metadata": {},
   "outputs": [],
   "source": [
    "# Voting Classifier\n",
    "from sklearn.svm import SVC\n",
    "knc= KNeighborsClassifier()\n",
    "svc = SVC(kernel='sigmoid', gamma=1.0,probability=True)\n",
    "mnb = MultinomialNB()\n",
    "\n",
    "from sklearn.ensemble import VotingClassifier"
   ]
  },
  {
   "cell_type": "code",
   "execution_count": 55,
   "id": "c0e8fd0e-d897-4e1f-976e-a4620cb886ac",
   "metadata": {},
   "outputs": [],
   "source": [
    "voting = VotingClassifier(estimators=[('svm', svc), ('nb', mnb), ('KNN', KNN),('log',LogisticRegression)],voting='soft')\n"
   ]
  },
  {
   "cell_type": "code",
   "execution_count": 58,
   "id": "fa805735-ad6d-4cd3-af86-737bd5a40cc5",
   "metadata": {},
   "outputs": [
    {
     "name": "stdout",
     "output_type": "stream",
     "text": [
      "              precision    recall  f1-score   support\n",
      "\n",
      "           0       0.97      0.97      0.97      3863\n",
      "           1       0.97      0.97      0.97      2364\n",
      "           2       0.97      0.95      0.96      2124\n",
      "           3       0.97      0.98      0.98      1734\n",
      "\n",
      "    accuracy                           0.97     10085\n",
      "   macro avg       0.97      0.97      0.97     10085\n",
      "weighted avg       0.97      0.97      0.97     10085\n",
      "\n"
     ]
    }
   ],
   "source": [
    "from sklearn.ensemble import VotingClassifier\n",
    "from sklearn.naive_bayes import MultinomialNB\n",
    "from sklearn.neighbors import KNeighborsClassifier\n",
    "from sklearn.linear_model import LogisticRegression\n",
    "from sklearn.feature_extraction.text import TfidfVectorizer\n",
    "from sklearn.pipeline import Pipeline\n",
    "\n",
    "# Define individual classifiers\n",
    "clf_nb = Pipeline([\n",
    "    ('vectorizer_tfidf', TfidfVectorizer()),\n",
    "    ('MultinomialNB', MultinomialNB())\n",
    "])\n",
    "\n",
    "clf_knn = Pipeline([\n",
    "    ('vectorizer_tfidf', TfidfVectorizer()),\n",
    "    ('KNN', KNeighborsClassifier())\n",
    "])\n",
    "\n",
    "clf_lr = Pipeline([\n",
    "    ('vectorizer_tfidf', TfidfVectorizer()),\n",
    "    ('LogisticRegression', LogisticRegression(solver='liblinear', max_iter=1000))\n",
    "])\n",
    "\n",
    "# Define the voting classifier\n",
    "voting = VotingClassifier(\n",
    "    estimators=[\n",
    "        ('nb', clf_nb),\n",
    "        ('knn', clf_knn),\n",
    "        ('lr', clf_lr)\n",
    "    ],\n",
    "    voting='hard'\n",
    ")\n",
    "\n",
    "# Fit the voting classifier on the training data\n",
    "voting.fit(X_train_resampled['preprocessed_txt'], y_train_resampled)\n",
    "\n",
    "# Predict on the test data\n",
    "y_pred_voting = voting.predict(X_test['preprocessed_txt'])\n",
    "\n",
    "# Print the classification report\n",
    "print(classification_report(y_test, y_pred_voting))\n"
   ]
  },
  {
   "cell_type": "code",
   "execution_count": 68,
   "id": "9a1e0a96-3763-4015-92d8-3ecbc21e2472",
   "metadata": {},
   "outputs": [],
   "source": [
    "from sklearn.ensemble import RandomForestClassifier\n",
    "from sklearn.ensemble import StackingClassifier\n",
    "final_estimator=RandomForestClassifier()\n",
    "\n",
    "estimators=[\n",
    "        ('nb', clf_nb),\n",
    "        ('knn', clf_knn),\n",
    "        ('lr', clf_lr)\n",
    "    ]\n",
    "clf = StackingClassifier(estimators=estimators, final_estimator=final_estimator)\n"
   ]
  },
  {
   "cell_type": "code",
   "execution_count": 70,
   "id": "97978a41-c7f7-4920-85bb-96eec3f83bd6",
   "metadata": {},
   "outputs": [
    {
     "ename": "NameError",
     "evalue": "name 'accuracy_score' is not defined",
     "output_type": "error",
     "traceback": [
      "\u001b[1;31m---------------------------------------------------------------------------\u001b[0m",
      "\u001b[1;31mNameError\u001b[0m                                 Traceback (most recent call last)",
      "Cell \u001b[1;32mIn[70], line 3\u001b[0m\n\u001b[0;32m      1\u001b[0m clf\u001b[38;5;241m.\u001b[39mfit(X_train_resampled[\u001b[38;5;124m'\u001b[39m\u001b[38;5;124mpreprocessed_txt\u001b[39m\u001b[38;5;124m'\u001b[39m], y_train_resampled)\n\u001b[0;32m      2\u001b[0m y_pred \u001b[38;5;241m=\u001b[39m clf\u001b[38;5;241m.\u001b[39mpredict(X_test[\u001b[38;5;124m'\u001b[39m\u001b[38;5;124mpreprocessed_txt\u001b[39m\u001b[38;5;124m'\u001b[39m])\n\u001b[1;32m----> 3\u001b[0m \u001b[38;5;28mprint\u001b[39m(\u001b[38;5;124m\"\u001b[39m\u001b[38;5;124mAccuracy\u001b[39m\u001b[38;5;124m\"\u001b[39m,\u001b[43maccuracy_score\u001b[49m(y_test,y_pred))\n\u001b[0;32m      4\u001b[0m \u001b[38;5;28mprint\u001b[39m(\u001b[38;5;124m\"\u001b[39m\u001b[38;5;124mPrecision\u001b[39m\u001b[38;5;124m\"\u001b[39m,precision_score(y_test,y_pred))\n",
      "\u001b[1;31mNameError\u001b[0m: name 'accuracy_score' is not defined"
     ]
    }
   ],
   "source": [
    "clf.fit(X_train_resampled['preprocessed_txt'], y_train_resampled)\n",
    "y_pred = clf.predict(X_test['preprocessed_txt'])\n"
   ]
  },
  {
   "cell_type": "code",
   "execution_count": 72,
   "id": "53245dee-c667-493d-9833-9d4ec1839c31",
   "metadata": {},
   "outputs": [],
   "source": [
    "from sklearn.metrics import accuracy_score,confusion_matrix,precision_score"
   ]
  },
  {
   "cell_type": "code",
   "execution_count": null,
   "id": "34a3ea9b-db07-4b9e-829f-5f435fa1964b",
   "metadata": {},
   "outputs": [],
   "source": []
  },
  {
   "cell_type": "code",
   "execution_count": 74,
   "id": "e0b7fe35-11e2-48e5-af5d-6660dac2d81e",
   "metadata": {},
   "outputs": [
    {
     "name": "stdout",
     "output_type": "stream",
     "text": [
      "Accuracy: 0.9781854238968766\n",
      "Precision: 0.9781998187445095\n",
      "Recall: 0.9781854238968766\n",
      "F1-score: 0.978184805640846\n"
     ]
    }
   ],
   "source": [
    "from sklearn.metrics import accuracy_score, precision_score, recall_score, f1_score\n",
    "\n",
    "# Print accuracy\n",
    "print(\"Accuracy:\", accuracy_score(y_test, y_pred))\n",
    "\n",
    "# Print precision\n",
    "print(\"Precision:\", precision_score(y_test, y_pred, average='weighted'))\n",
    "\n",
    "# Print recall\n",
    "print(\"Recall:\", recall_score(y_test, y_pred, average='weighted'))\n",
    "\n",
    "# Print F1-score\n",
    "print(\"F1-score:\", f1_score(y_test, y_pred, average='weighted'))"
   ]
  },
  {
   "cell_type": "code",
   "execution_count": null,
   "id": "88f04b1f-c3b9-466e-9875-bda2e1f5af33",
   "metadata": {},
   "outputs": [],
   "source": []
  }
 ],
 "metadata": {
  "kernelspec": {
   "display_name": "Python 3 (ipykernel)",
   "language": "python",
   "name": "python3"
  },
  "language_info": {
   "codemirror_mode": {
    "name": "ipython",
    "version": 3
   },
   "file_extension": ".py",
   "mimetype": "text/x-python",
   "name": "python",
   "nbconvert_exporter": "python",
   "pygments_lexer": "ipython3",
   "version": "3.10.13"
  }
 },
 "nbformat": 4,
 "nbformat_minor": 5
}
